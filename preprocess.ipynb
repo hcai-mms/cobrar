{
 "cells": [
  {
   "cell_type": "code",
   "execution_count": 3,
   "id": "initial_id",
   "metadata": {
    "ExecuteTime": {
     "end_time": "2024-10-17T16:00:36.125086Z",
     "start_time": "2024-10-17T16:00:35.769031Z"
    },
    "collapsed": true
   },
   "outputs": [],
   "source": [
    "import pandas as pd\n",
    "import numpy as np\n",
    "import os\n",
    "import tqdm\n",
    "import shutil"
   ]
  },
  {
   "cell_type": "code",
   "execution_count": 4,
   "id": "54f686a4400205fa",
   "metadata": {
    "ExecuteTime": {
     "end_time": "2024-10-17T16:00:37.985566Z",
     "start_time": "2024-10-17T16:00:37.970559Z"
    }
   },
   "outputs": [],
   "source": [
    "sample = True\n",
    "data_dir = 'data/m4a/'\n",
    "features = {\n",
    "    'emotion_embeddings': ['id_gems.tsv'],\n",
    "    'audio_embeddings': ['id_musicnn.tsv'],\n",
    "    'textual_embeddings': ['id_bert.tsv'],\n",
    "    'visual_embeddings': ['id_resnet.tsv']\n",
    "}"
   ]
  },
  {
   "cell_type": "code",
   "execution_count": 5,
   "id": "c05b0583cae33217",
   "metadata": {
    "ExecuteTime": {
     "end_time": "2024-10-17T16:00:39.318091Z",
     "start_time": "2024-10-17T16:00:39.100500Z"
    }
   },
   "outputs": [
    {
     "data": {
      "text/html": [
       "<div>\n",
       "<style scoped>\n",
       "    .dataframe tbody tr th:only-of-type {\n",
       "        vertical-align: middle;\n",
       "    }\n",
       "\n",
       "    .dataframe tbody tr th {\n",
       "        vertical-align: top;\n",
       "    }\n",
       "\n",
       "    .dataframe thead th {\n",
       "        text-align: right;\n",
       "    }\n",
       "</style>\n",
       "<table border=\"1\" class=\"dataframe\">\n",
       "  <thead>\n",
       "    <tr style=\"text-align: right;\">\n",
       "      <th></th>\n",
       "      <th>user_id</th>\n",
       "      <th>track_id</th>\n",
       "      <th>timestamp</th>\n",
       "      <th>rating</th>\n",
       "    </tr>\n",
       "  </thead>\n",
       "  <tbody>\n",
       "    <tr>\n",
       "      <th>0</th>\n",
       "      <td>51549</td>\n",
       "      <td>iJTBIGHPjgJcT4Bt</td>\n",
       "      <td>2013-01-27 21:42:38</td>\n",
       "      <td>5</td>\n",
       "    </tr>\n",
       "    <tr>\n",
       "      <th>1</th>\n",
       "      <td>51549</td>\n",
       "      <td>iJTBIGHPjgJcT4Bt</td>\n",
       "      <td>2013-01-27 21:38:53</td>\n",
       "      <td>5</td>\n",
       "    </tr>\n",
       "    <tr>\n",
       "      <th>2</th>\n",
       "      <td>51549</td>\n",
       "      <td>iJTBIGHPjgJcT4Bt</td>\n",
       "      <td>2013-01-27 21:35:08</td>\n",
       "      <td>5</td>\n",
       "    </tr>\n",
       "    <tr>\n",
       "      <th>3</th>\n",
       "      <td>51549</td>\n",
       "      <td>iJTBIGHPjgJcT4Bt</td>\n",
       "      <td>2013-01-27 21:31:23</td>\n",
       "      <td>5</td>\n",
       "    </tr>\n",
       "    <tr>\n",
       "      <th>4</th>\n",
       "      <td>51549</td>\n",
       "      <td>iJTBIGHPjgJcT4Bt</td>\n",
       "      <td>2013-01-27 21:27:38</td>\n",
       "      <td>5</td>\n",
       "    </tr>\n",
       "  </tbody>\n",
       "</table>\n",
       "</div>"
      ],
      "text/plain": [
       "   user_id          track_id            timestamp  rating\n",
       "0    51549  iJTBIGHPjgJcT4Bt  2013-01-27 21:42:38       5\n",
       "1    51549  iJTBIGHPjgJcT4Bt  2013-01-27 21:38:53       5\n",
       "2    51549  iJTBIGHPjgJcT4Bt  2013-01-27 21:35:08       5\n",
       "3    51549  iJTBIGHPjgJcT4Bt  2013-01-27 21:31:23       5\n",
       "4    51549  iJTBIGHPjgJcT4Bt  2013-01-27 21:27:38       5"
      ]
     },
     "execution_count": 5,
     "metadata": {},
     "output_type": "execute_result"
    }
   ],
   "source": [
    "if sample:\n",
    "    output_dir = 'data/sample/'\n",
    "    df_interactions = pd.read_csv('data/m4a/userid_trackid_timestamp.tsv', sep='\\t', nrows=100000)\n",
    "else:\n",
    "    output_dir = 'data/m4a/'\n",
    "    df_interactions = pd.read_csv('data/m4a/userid_trackid_timestamp.tsv', sep='\\t')\n",
    "    \n",
    "df_interactions['rating'] = 5\n",
    "sample_items = df_interactions['track_id'].unique()\n",
    "\n",
    "df_interactions[['user_id', 'track_id', 'rating', 'timestamp']].to_csv(os.path.join(output_dir, 'interactions.tsv'), index=False, sep='\\t', header=False)\n",
    "\n",
    "df_interactions.head()"
   ]
  },
  {
   "cell_type": "code",
   "execution_count": 6,
   "id": "2bbaadc2caf66b29",
   "metadata": {
    "ExecuteTime": {
     "end_time": "2024-10-17T16:02:10.043565Z",
     "start_time": "2024-10-17T16:00:41.127191Z"
    }
   },
   "outputs": [
    {
     "name": "stdout",
     "output_type": "stream",
     "text": [
      "Processing id_gems.tsv\n"
     ]
    },
    {
     "name": "stderr",
     "output_type": "stream",
     "text": [
      "14270it [00:36, 392.76it/s]\n"
     ]
    },
    {
     "name": "stdout",
     "output_type": "stream",
     "text": [
      "Processing id_musicnn.tsv\n"
     ]
    },
    {
     "name": "stderr",
     "output_type": "stream",
     "text": [
      "14270it [00:35, 398.30it/s]\n"
     ]
    },
    {
     "name": "stdout",
     "output_type": "stream",
     "text": [
      "Processing id_bert.tsv\n"
     ]
    },
    {
     "name": "stderr",
     "output_type": "stream",
     "text": [
      "14270it [00:37, 378.72it/s]\n"
     ]
    },
    {
     "name": "stdout",
     "output_type": "stream",
     "text": [
      "Processing id_resnet.tsv\n"
     ]
    },
    {
     "name": "stderr",
     "output_type": "stream",
     "text": [
      "12879it [00:38, 336.57it/s]\n"
     ]
    }
   ],
   "source": [
    "for feature_type in features:\n",
    "    for file in features[feature_type]:\n",
    "        print('Processing', file)\n",
    "        df = pd.read_csv(os.path.join(data_dir, file), index_col=0, sep='\\t')\n",
    "        df = df[df.index.isin(sample_items)]\n",
    "\n",
    "        feature_name = file.split('.')[0].split('_')[1]\n",
    "        if sample:\n",
    "            df = df.reindex(sample_items).dropna()\n",
    "            folder_path = os.path.join('data/sample/', feature_type, feature_name)\n",
    "        else:\n",
    "            folder_path = os.path.join(data_dir, feature_type, feature_name)\n",
    "\n",
    "        if os.path.exists(folder_path):\n",
    "            shutil.rmtree(folder_path)\n",
    "        os.makedirs(folder_path, exist_ok=True)\n",
    "\n",
    "        for index, row in tqdm.tqdm(df.iterrows()):\n",
    "            np.save(os.path.join(folder_path, str(index) + '.npy'), row.values)"
   ]
  },
  {
   "cell_type": "code",
   "execution_count": 5,
   "id": "97fa24e21249a04f",
   "metadata": {
    "ExecuteTime": {
     "end_time": "2024-10-17T15:38:04.125831Z",
     "start_time": "2024-10-17T15:38:04.111332Z"
    }
   },
   "outputs": [],
   "source": []
  }
 ],
 "metadata": {
  "kernelspec": {
   "display_name": "elliot",
   "language": "python",
   "name": "python3"
  },
  "language_info": {
   "codemirror_mode": {
    "name": "ipython",
    "version": 3
   },
   "file_extension": ".py",
   "mimetype": "text/x-python",
   "name": "python",
   "nbconvert_exporter": "python",
   "pygments_lexer": "ipython3",
   "version": "3.8.20"
  }
 },
 "nbformat": 4,
 "nbformat_minor": 5
}
