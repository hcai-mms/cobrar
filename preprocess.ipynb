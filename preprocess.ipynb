{
 "cells": [
  {
   "cell_type": "code",
   "execution_count": 1,
   "id": "initial_id",
   "metadata": {
    "ExecuteTime": {
     "end_time": "2024-10-16T15:03:13.818533Z",
     "start_time": "2024-10-16T15:03:13.807011Z"
    },
    "collapsed": true
   },
   "outputs": [],
   "source": [
    "import pandas as pd\n",
    "import numpy as np\n",
    "import os\n",
    "import tqdm\n",
    "import shutil"
   ]
  },
  {
   "cell_type": "code",
   "execution_count": 2,
   "id": "54f686a4400205fa",
   "metadata": {
    "ExecuteTime": {
     "end_time": "2024-10-16T16:04:44.596928Z",
     "start_time": "2024-10-16T16:04:44.586843Z"
    }
   },
   "outputs": [],
   "source": [
    "sample = True\n",
    "data_dir = 'data/m4a/'\n",
    "features = {\n",
    "    'audio_embeddings': ['id_musicnn.tsv'],\n",
    "    'textual_embeddings': ['id_bert.tsv'],\n",
    "    #'visual_embeddings': ['id_resnet.tsv']\n",
    "}\n",
    "features_files = ['id_musicnn.tsv']"
   ]
  },
  {
   "cell_type": "code",
   "execution_count": 6,
   "id": "c05b0583cae33217",
   "metadata": {
    "ExecuteTime": {
     "end_time": "2024-10-16T16:17:27.589266Z",
     "start_time": "2024-10-16T16:17:27.549713Z"
    }
   },
   "outputs": [
    {
     "data": {
      "text/html": [
       "<div>\n",
       "<style scoped>\n",
       "    .dataframe tbody tr th:only-of-type {\n",
       "        vertical-align: middle;\n",
       "    }\n",
       "\n",
       "    .dataframe tbody tr th {\n",
       "        vertical-align: top;\n",
       "    }\n",
       "\n",
       "    .dataframe thead th {\n",
       "        text-align: right;\n",
       "    }\n",
       "</style>\n",
       "<table border=\"1\" class=\"dataframe\">\n",
       "  <thead>\n",
       "    <tr style=\"text-align: right;\">\n",
       "      <th></th>\n",
       "      <th>user_id</th>\n",
       "      <th>track_id</th>\n",
       "      <th>timestamp</th>\n",
       "      <th>rating</th>\n",
       "      <th>user_id_int</th>\n",
       "      <th>track_id_int</th>\n",
       "    </tr>\n",
       "  </thead>\n",
       "  <tbody>\n",
       "    <tr>\n",
       "      <th>0</th>\n",
       "      <td>51549</td>\n",
       "      <td>iJTBIGHPjgJcT4Bt</td>\n",
       "      <td>2013-01-27 21:42:38</td>\n",
       "      <td>5</td>\n",
       "      <td>66</td>\n",
       "      <td>10157</td>\n",
       "    </tr>\n",
       "    <tr>\n",
       "      <th>1</th>\n",
       "      <td>51549</td>\n",
       "      <td>iJTBIGHPjgJcT4Bt</td>\n",
       "      <td>2013-01-27 21:38:53</td>\n",
       "      <td>5</td>\n",
       "      <td>66</td>\n",
       "      <td>10157</td>\n",
       "    </tr>\n",
       "    <tr>\n",
       "      <th>2</th>\n",
       "      <td>51549</td>\n",
       "      <td>iJTBIGHPjgJcT4Bt</td>\n",
       "      <td>2013-01-27 21:35:08</td>\n",
       "      <td>5</td>\n",
       "      <td>66</td>\n",
       "      <td>10157</td>\n",
       "    </tr>\n",
       "    <tr>\n",
       "      <th>3</th>\n",
       "      <td>51549</td>\n",
       "      <td>iJTBIGHPjgJcT4Bt</td>\n",
       "      <td>2013-01-27 21:31:23</td>\n",
       "      <td>5</td>\n",
       "      <td>66</td>\n",
       "      <td>10157</td>\n",
       "    </tr>\n",
       "    <tr>\n",
       "      <th>4</th>\n",
       "      <td>51549</td>\n",
       "      <td>iJTBIGHPjgJcT4Bt</td>\n",
       "      <td>2013-01-27 21:27:38</td>\n",
       "      <td>5</td>\n",
       "      <td>66</td>\n",
       "      <td>10157</td>\n",
       "    </tr>\n",
       "  </tbody>\n",
       "</table>\n",
       "</div>"
      ],
      "text/plain": [
       "   user_id          track_id            timestamp  rating  user_id_int  \\\n",
       "0    51549  iJTBIGHPjgJcT4Bt  2013-01-27 21:42:38       5           66   \n",
       "1    51549  iJTBIGHPjgJcT4Bt  2013-01-27 21:38:53       5           66   \n",
       "2    51549  iJTBIGHPjgJcT4Bt  2013-01-27 21:35:08       5           66   \n",
       "3    51549  iJTBIGHPjgJcT4Bt  2013-01-27 21:31:23       5           66   \n",
       "4    51549  iJTBIGHPjgJcT4Bt  2013-01-27 21:27:38       5           66   \n",
       "\n",
       "   track_id_int  \n",
       "0         10157  \n",
       "1         10157  \n",
       "2         10157  \n",
       "3         10157  \n",
       "4         10157  "
      ]
     },
     "execution_count": 6,
     "metadata": {},
     "output_type": "execute_result"
    }
   ],
   "source": [
    "if sample:\n",
    "    output_dir = 'data/sample/'\n",
    "    df_interactions = pd.read_csv('data/m4a/userid_trackid_timestamp.tsv', sep='\\t', nrows=100000)\n",
    "else:\n",
    "    output_dir = 'data/m4a/'\n",
    "    df_interactions = pd.read_csv('data/m4a/userid_trackid_timestamp.tsv', sep='\\t')\n",
    "    \n",
    "df_interactions['rating'] = 5\n",
    "sample_items = df_interactions['track_id'].unique()\n",
    "\n",
    "# map item and users to numbers\n",
    "df_interactions['user_id_int'] = df_interactions['user_id'].astype('category').cat.codes\n",
    "df_interactions['track_id_int'] = df_interactions['track_id'].astype('category').cat.codes\n",
    "\n",
    "df_interactions[['user_id_int', 'track_id_int', 'rating', 'timestamp']].to_csv(os.path.join(output_dir, 'interactions.tsv'), index=False, sep='\\t', header=False)\n",
    "\n",
    "df_interactions.head()"
   ]
  },
  {
   "cell_type": "code",
   "execution_count": 7,
   "id": "bee51db91f28fee3",
   "metadata": {
    "ExecuteTime": {
     "end_time": "2024-10-16T16:14:32.137626Z",
     "start_time": "2024-10-16T16:14:32.127598Z"
    }
   },
   "outputs": [
    {
     "data": {
      "text/html": [
       "<div>\n",
       "<style scoped>\n",
       "    .dataframe tbody tr th:only-of-type {\n",
       "        vertical-align: middle;\n",
       "    }\n",
       "\n",
       "    .dataframe tbody tr th {\n",
       "        vertical-align: top;\n",
       "    }\n",
       "\n",
       "    .dataframe thead th {\n",
       "        text-align: right;\n",
       "    }\n",
       "</style>\n",
       "<table border=\"1\" class=\"dataframe\">\n",
       "  <thead>\n",
       "    <tr style=\"text-align: right;\">\n",
       "      <th></th>\n",
       "      <th>track_id_int</th>\n",
       "    </tr>\n",
       "    <tr>\n",
       "      <th>track_id</th>\n",
       "      <th></th>\n",
       "    </tr>\n",
       "  </thead>\n",
       "  <tbody>\n",
       "    <tr>\n",
       "      <th>iJTBIGHPjgJcT4Bt</th>\n",
       "      <td>10157</td>\n",
       "    </tr>\n",
       "    <tr>\n",
       "      <th>LCItxaUrpHk6QYuy</th>\n",
       "      <td>4877</td>\n",
       "    </tr>\n",
       "    <tr>\n",
       "      <th>VXVSlV3nA5jgYOW1</th>\n",
       "      <td>7250</td>\n",
       "    </tr>\n",
       "    <tr>\n",
       "      <th>DQ9EMmQndbcKKbBo</th>\n",
       "      <td>3158</td>\n",
       "    </tr>\n",
       "    <tr>\n",
       "      <th>d6hSPGsvbBx2mcPR</th>\n",
       "      <td>8982</td>\n",
       "    </tr>\n",
       "  </tbody>\n",
       "</table>\n",
       "</div>"
      ],
      "text/plain": [
       "                  track_id_int\n",
       "track_id                      \n",
       "iJTBIGHPjgJcT4Bt         10157\n",
       "LCItxaUrpHk6QYuy          4877\n",
       "VXVSlV3nA5jgYOW1          7250\n",
       "DQ9EMmQndbcKKbBo          3158\n",
       "d6hSPGsvbBx2mcPR          8982"
      ]
     },
     "execution_count": 7,
     "metadata": {},
     "output_type": "execute_result"
    }
   ],
   "source": [
    "item_id_map = df_interactions[['track_id', 'track_id_int']].drop_duplicates()\n",
    "item_id_map.set_index('track_id', inplace=True)\n",
    "item_id_map.head()"
   ]
  },
  {
   "cell_type": "code",
   "execution_count": 8,
   "id": "2bbaadc2caf66b29",
   "metadata": {
    "ExecuteTime": {
     "end_time": "2024-10-16T16:14:44.885794Z",
     "start_time": "2024-10-16T16:14:32.945156Z"
    }
   },
   "outputs": [
    {
     "name": "stdout",
     "output_type": "stream",
     "text": [
      "Processing id_musicnn.tsv\n"
     ]
    },
    {
     "name": "stderr",
     "output_type": "stream",
     "text": [
      "14270it [00:31, 457.17it/s]\n"
     ]
    },
    {
     "name": "stdout",
     "output_type": "stream",
     "text": [
      "Processing id_bert.tsv\n"
     ]
    },
    {
     "name": "stderr",
     "output_type": "stream",
     "text": [
      "14270it [00:29, 488.36it/s]\n"
     ]
    }
   ],
   "source": [
    "for feature_type in features:\n",
    "    for file in features[feature_type]:\n",
    "        print('Processing', file)\n",
    "        df = pd.read_csv(os.path.join(data_dir, file), index_col=0, sep='\\t')\n",
    "        df = df.merge(item_id_map, left_index=True, right_index=True)\n",
    "        feature_name = file.split('.')[0].split('_')[1]\n",
    "        if sample:\n",
    "            df = df.reindex(sample_items).dropna()\n",
    "            folder_path = os.path.join('data/sample/', feature_type, feature_name)\n",
    "        else:\n",
    "            folder_path = os.path.join(data_dir, feature_type, feature_name)\n",
    "        if os.path.exists(folder_path):\n",
    "            shutil.rmtree(folder_path)\n",
    "        os.makedirs(folder_path, exist_ok=True)\n",
    "        for index, row in tqdm.tqdm(df.iterrows()):\n",
    "            np.save(os.path.join(folder_path, str(int(row['track_id_int'])) + '.npy'), row.values)"
   ]
  },
  {
   "cell_type": "code",
   "execution_count": 22,
   "id": "97fa24e21249a04f",
   "metadata": {
    "ExecuteTime": {
     "end_time": "2024-10-16T15:47:37.177006Z",
     "start_time": "2024-10-16T15:47:37.135837Z"
    }
   },
   "outputs": [],
   "source": []
  }
 ],
 "metadata": {
  "kernelspec": {
   "display_name": "elliot",
   "language": "python",
   "name": "python3"
  },
  "language_info": {
   "codemirror_mode": {
    "name": "ipython",
    "version": 3
   },
   "file_extension": ".py",
   "mimetype": "text/x-python",
   "name": "python",
   "nbconvert_exporter": "python",
   "pygments_lexer": "ipython3",
   "version": "3.8.20"
  }
 },
 "nbformat": 4,
 "nbformat_minor": 5
}
