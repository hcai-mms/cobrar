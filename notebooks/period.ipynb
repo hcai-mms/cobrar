{
 "cells": [
  {
   "cell_type": "code",
   "execution_count": null,
   "id": "initial_id",
   "metadata": {
    "ExecuteTime": {
     "end_time": "2025-01-14T12:31:43.852666Z",
     "start_time": "2025-01-14T12:31:43.611698Z"
    },
    "collapsed": true
   },
   "outputs": [],
   "source": [
    "import pandas as pd\n",
    "import numpy as np\n",
    "import os\n",
    "import shutil"
   ]
  },
  {
   "cell_type": "code",
   "execution_count": null,
   "id": "6e624dbeae22feb4",
   "metadata": {
    "ExecuteTime": {
     "end_time": "2025-01-14T12:31:43.860334Z",
     "start_time": "2025-01-14T12:31:43.858104Z"
    }
   },
   "outputs": [],
   "source": [
    "PERIOD_YEAR = '2014'"
   ]
  },
  {
   "cell_type": "code",
   "execution_count": null,
   "id": "54f686a4400205fa",
   "metadata": {
    "ExecuteTime": {
     "end_time": "2025-01-14T12:33:54.170939Z",
     "start_time": "2025-01-14T12:33:32.251164Z"
    }
   },
   "outputs": [],
   "source": [
    "df_interactions = pd.read_csv('../data/userid_trackid_timestamp.tsv', sep='\\t')\n",
    "print(df_interactions.shape)\n",
    "df_interactions.head()"
   ]
  },
  {
   "cell_type": "code",
   "execution_count": null,
   "id": "ab4c1a80",
   "metadata": {
    "ExecuteTime": {
     "end_time": "2025-01-14T12:37:31.870426Z",
     "start_time": "2025-01-14T12:37:22.025511Z"
    }
   },
   "outputs": [],
   "source": [
    "df_interactions['year'] = pd.to_datetime(df_interactions['timestamp']).dt.to_period('Y')\n",
    "df_interactions['month'] = pd.to_datetime(df_interactions['timestamp']).dt.to_period('M')\n",
    "df_interactions = df_interactions[df_interactions['year'] == PERIOD_YEAR]\n",
    "print(df_interactions.shape)\n",
    "df_interactions.head()"
   ]
  },
  {
   "cell_type": "code",
   "execution_count": null,
   "id": "8bf8f2a7",
   "metadata": {
    "ExecuteTime": {
     "end_time": "2025-01-14T12:37:59.332255Z",
     "start_time": "2025-01-14T12:37:48.890882Z"
    }
   },
   "outputs": [],
   "source": [
    "# binarization: we convert the interactions to binary implicit feedback with a threshold of 2 on the interaction counts (reducing false-positive interactions)\n",
    "def filter_interactions(listening_history: pd.DataFrame, min_interactions: int = 2, verbose: bool = True):\n",
    "    lhs_count = listening_history.value_counts(subset=['user_id', 'track_id'])\n",
    "    lhs_count = lhs_count[lhs_count >= min_interactions]\n",
    "    listening_history = listening_history.set_index(['user_id', 'track_id']).loc[lhs_count.index]\n",
    "    listening_history = listening_history.reset_index()\n",
    "    return listening_history\n",
    "\n",
    "def delete_duplicates(listening_history: pd.DataFrame):\n",
    "    initial_shape = listening_history.shape\n",
    "    listening_history = listening_history.drop_duplicates(subset=['user_id', 'track_id'], keep='first')\n",
    "    print(f\"Deleted {initial_shape[0] - listening_history.shape[0]} duplicates\")\n",
    "    return listening_history\n",
    "\n",
    "df_interactions = filter_interactions(df_interactions, min_interactions=2)\n",
    "df_interactions = delete_duplicates(df_interactions)\n",
    "print(df_interactions.shape)\n",
    "df_interactions.head()"
   ]
  },
  {
   "cell_type": "code",
   "execution_count": null,
   "id": "6e58b7c11213afbb",
   "metadata": {
    "ExecuteTime": {
     "end_time": "2025-01-14T12:37:59.485514Z",
     "start_time": "2025-01-14T12:37:59.441661Z"
    }
   },
   "outputs": [],
   "source": [
    "# sparsity of dataset\n",
    "n_users = df_interactions['user_id'].nunique()\n",
    "n_items = df_interactions['track_id'].nunique()\n",
    "n_interactions = df_interactions.shape[0]\n",
    "sparsity = 1 - n_interactions / (n_users * n_items)\n",
    "sparsity"
   ]
  },
  {
   "cell_type": "code",
   "execution_count": null,
   "id": "96f7a550e34a1154",
   "metadata": {
    "ExecuteTime": {
     "end_time": "2025-01-14T12:37:59.579476Z",
     "start_time": "2025-01-14T12:37:59.574695Z"
    }
   },
   "outputs": [],
   "source": [
    "n_items"
   ]
  },
  {
   "cell_type": "code",
   "execution_count": null,
   "id": "660c6004",
   "metadata": {
    "ExecuteTime": {
     "end_time": "2025-01-14T12:37:59.747253Z",
     "start_time": "2025-01-14T12:37:59.742880Z"
    }
   },
   "outputs": [],
   "source": [
    "n_users"
   ]
  },
  {
   "cell_type": "code",
   "execution_count": null,
   "id": "1e10a91504dded70",
   "metadata": {
    "ExecuteTime": {
     "end_time": "2025-01-14T12:38:02.662745Z",
     "start_time": "2025-01-14T12:37:59.828815Z"
    }
   },
   "outputs": [],
   "source": [
    "# export\n",
    "df_interactions.to_csv(f'../data/userid_trackid_timestamp_{PERIOD_YEAR}.tsv', sep='\\t', index=False)"
   ]
  },
  {
   "cell_type": "code",
   "execution_count": null,
   "id": "29df57c5",
   "metadata": {
    "ExecuteTime": {
     "end_time": "2025-01-14T12:16:39.157116013Z",
     "start_time": "2025-01-14T09:03:17.312168Z"
    }
   },
   "outputs": [],
   "source": []
  }
 ],
 "metadata": {
  "kernelspec": {
   "display_name": "elliot",
   "language": "python",
   "name": "python3"
  },
  "language_info": {
   "codemirror_mode": {
    "name": "ipython",
    "version": 3
   },
   "file_extension": ".py",
   "mimetype": "text/x-python",
   "name": "python",
   "nbconvert_exporter": "python",
   "pygments_lexer": "ipython3",
   "version": "3.8.20"
  }
 },
 "nbformat": 4,
 "nbformat_minor": 5
}
