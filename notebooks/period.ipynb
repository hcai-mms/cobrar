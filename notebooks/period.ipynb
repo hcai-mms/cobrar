{
 "cells": [
  {
   "cell_type": "code",
   "id": "initial_id",
   "metadata": {
    "collapsed": true,
    "ExecuteTime": {
     "end_time": "2025-01-14T12:31:43.852666Z",
     "start_time": "2025-01-14T12:31:43.611698Z"
    }
   },
   "source": [
    "import pandas as pd\n",
    "import numpy as np\n",
    "import os\n",
    "import shutil"
   ],
   "outputs": [],
   "execution_count": 2
  },
  {
   "metadata": {
    "ExecuteTime": {
     "end_time": "2025-01-14T12:31:43.860334Z",
     "start_time": "2025-01-14T12:31:43.858104Z"
    }
   },
   "cell_type": "code",
   "source": "PERIOD_YEAR = '2014'",
   "id": "6e624dbeae22feb4",
   "outputs": [],
   "execution_count": 3
  },
  {
   "cell_type": "code",
   "id": "54f686a4400205fa",
   "metadata": {
    "ExecuteTime": {
     "end_time": "2025-01-14T12:33:54.170939Z",
     "start_time": "2025-01-14T12:33:32.251164Z"
    }
   },
   "source": [
    "df_interactions = pd.read_csv('../data/userid_trackid_timestamp.tsv', sep='\\t')\n",
    "print(df_interactions.shape)\n",
    "df_interactions.head()"
   ],
   "outputs": [
    {
     "name": "stdout",
     "output_type": "stream",
     "text": [
      "(50000000, 3)\n"
     ]
    },
    {
     "data": {
      "text/plain": [
       "   user_id          track_id            timestamp\n",
       "0    51549  iJTBIGHPjgJcT4Bt  2013-01-27 21:42:38\n",
       "1    51549  iJTBIGHPjgJcT4Bt  2013-01-27 21:38:53\n",
       "2    51549  iJTBIGHPjgJcT4Bt  2013-01-27 21:35:08\n",
       "3    51549  iJTBIGHPjgJcT4Bt  2013-01-27 21:31:23\n",
       "4    51549  iJTBIGHPjgJcT4Bt  2013-01-27 21:27:38"
      ],
      "text/html": [
       "<div>\n",
       "<style scoped>\n",
       "    .dataframe tbody tr th:only-of-type {\n",
       "        vertical-align: middle;\n",
       "    }\n",
       "\n",
       "    .dataframe tbody tr th {\n",
       "        vertical-align: top;\n",
       "    }\n",
       "\n",
       "    .dataframe thead th {\n",
       "        text-align: right;\n",
       "    }\n",
       "</style>\n",
       "<table border=\"1\" class=\"dataframe\">\n",
       "  <thead>\n",
       "    <tr style=\"text-align: right;\">\n",
       "      <th></th>\n",
       "      <th>user_id</th>\n",
       "      <th>track_id</th>\n",
       "      <th>timestamp</th>\n",
       "    </tr>\n",
       "  </thead>\n",
       "  <tbody>\n",
       "    <tr>\n",
       "      <th>0</th>\n",
       "      <td>51549</td>\n",
       "      <td>iJTBIGHPjgJcT4Bt</td>\n",
       "      <td>2013-01-27 21:42:38</td>\n",
       "    </tr>\n",
       "    <tr>\n",
       "      <th>1</th>\n",
       "      <td>51549</td>\n",
       "      <td>iJTBIGHPjgJcT4Bt</td>\n",
       "      <td>2013-01-27 21:38:53</td>\n",
       "    </tr>\n",
       "    <tr>\n",
       "      <th>2</th>\n",
       "      <td>51549</td>\n",
       "      <td>iJTBIGHPjgJcT4Bt</td>\n",
       "      <td>2013-01-27 21:35:08</td>\n",
       "    </tr>\n",
       "    <tr>\n",
       "      <th>3</th>\n",
       "      <td>51549</td>\n",
       "      <td>iJTBIGHPjgJcT4Bt</td>\n",
       "      <td>2013-01-27 21:31:23</td>\n",
       "    </tr>\n",
       "    <tr>\n",
       "      <th>4</th>\n",
       "      <td>51549</td>\n",
       "      <td>iJTBIGHPjgJcT4Bt</td>\n",
       "      <td>2013-01-27 21:27:38</td>\n",
       "    </tr>\n",
       "  </tbody>\n",
       "</table>\n",
       "</div>"
      ]
     },
     "execution_count": 6,
     "metadata": {},
     "output_type": "execute_result"
    }
   ],
   "execution_count": 6
  },
  {
   "cell_type": "code",
   "id": "ab4c1a80",
   "metadata": {
    "ExecuteTime": {
     "end_time": "2025-01-14T12:37:31.870426Z",
     "start_time": "2025-01-14T12:37:22.025511Z"
    }
   },
   "source": [
    "df_interactions['year'] = pd.to_datetime(df_interactions['timestamp']).dt.to_period('Y')\n",
    "df_interactions['month'] = pd.to_datetime(df_interactions['timestamp']).dt.to_period('M')\n",
    "df_interactions = df_interactions[df_interactions['year'] == PERIOD_YEAR]\n",
    "print(df_interactions.shape)\n",
    "df_interactions.head()"
   ],
   "outputs": [
    {
     "name": "stdout",
     "output_type": "stream",
     "text": [
      "(4440666, 5)\n"
     ]
    },
    {
     "data": {
      "text/plain": [
       "          user_id          track_id            timestamp  year    month\n",
       "49534431    17978  3YCjX6VUYmJHiDHs  2014-04-29 15:31:44  2014  2014-04\n",
       "49591397    24349  2rdKvEqyovlm32gY  2014-04-29 07:55:22  2014  2014-04\n",
       "49534576    17978  3YCjX6VUYmJHiDHs  2014-04-29 03:49:35  2014  2014-04\n",
       "49534577    17978  3YCjX6VUYmJHiDHs  2014-04-29 03:36:12  2014  2014-04\n",
       "49591745    24349  g2CV9mJiWs9bJUsx  2014-04-28 22:03:49  2014  2014-04"
      ],
      "text/html": [
       "<div>\n",
       "<style scoped>\n",
       "    .dataframe tbody tr th:only-of-type {\n",
       "        vertical-align: middle;\n",
       "    }\n",
       "\n",
       "    .dataframe tbody tr th {\n",
       "        vertical-align: top;\n",
       "    }\n",
       "\n",
       "    .dataframe thead th {\n",
       "        text-align: right;\n",
       "    }\n",
       "</style>\n",
       "<table border=\"1\" class=\"dataframe\">\n",
       "  <thead>\n",
       "    <tr style=\"text-align: right;\">\n",
       "      <th></th>\n",
       "      <th>user_id</th>\n",
       "      <th>track_id</th>\n",
       "      <th>timestamp</th>\n",
       "      <th>year</th>\n",
       "      <th>month</th>\n",
       "    </tr>\n",
       "  </thead>\n",
       "  <tbody>\n",
       "    <tr>\n",
       "      <th>49534431</th>\n",
       "      <td>17978</td>\n",
       "      <td>3YCjX6VUYmJHiDHs</td>\n",
       "      <td>2014-04-29 15:31:44</td>\n",
       "      <td>2014</td>\n",
       "      <td>2014-04</td>\n",
       "    </tr>\n",
       "    <tr>\n",
       "      <th>49591397</th>\n",
       "      <td>24349</td>\n",
       "      <td>2rdKvEqyovlm32gY</td>\n",
       "      <td>2014-04-29 07:55:22</td>\n",
       "      <td>2014</td>\n",
       "      <td>2014-04</td>\n",
       "    </tr>\n",
       "    <tr>\n",
       "      <th>49534576</th>\n",
       "      <td>17978</td>\n",
       "      <td>3YCjX6VUYmJHiDHs</td>\n",
       "      <td>2014-04-29 03:49:35</td>\n",
       "      <td>2014</td>\n",
       "      <td>2014-04</td>\n",
       "    </tr>\n",
       "    <tr>\n",
       "      <th>49534577</th>\n",
       "      <td>17978</td>\n",
       "      <td>3YCjX6VUYmJHiDHs</td>\n",
       "      <td>2014-04-29 03:36:12</td>\n",
       "      <td>2014</td>\n",
       "      <td>2014-04</td>\n",
       "    </tr>\n",
       "    <tr>\n",
       "      <th>49591745</th>\n",
       "      <td>24349</td>\n",
       "      <td>g2CV9mJiWs9bJUsx</td>\n",
       "      <td>2014-04-28 22:03:49</td>\n",
       "      <td>2014</td>\n",
       "      <td>2014-04</td>\n",
       "    </tr>\n",
       "  </tbody>\n",
       "</table>\n",
       "</div>"
      ]
     },
     "execution_count": 9,
     "metadata": {},
     "output_type": "execute_result"
    }
   ],
   "execution_count": 9
  },
  {
   "cell_type": "code",
   "id": "8bf8f2a7",
   "metadata": {
    "ExecuteTime": {
     "end_time": "2025-01-14T12:37:59.332255Z",
     "start_time": "2025-01-14T12:37:48.890882Z"
    }
   },
   "source": [
    "# binarization: we convert the interactions to binary implicit feedback with a threshold of 2 on the interaction counts (reducing false-positive interactions)\n",
    "def filter_interactions(listening_history: pd.DataFrame, min_interactions: int = 2, verbose: bool = True):\n",
    "    lhs_count = listening_history.value_counts(subset=['user_id', 'track_id'])\n",
    "    lhs_count = lhs_count[lhs_count >= min_interactions]\n",
    "    listening_history = listening_history.set_index(['user_id', 'track_id']).loc[lhs_count.index]\n",
    "    listening_history = listening_history.reset_index()\n",
    "    return listening_history\n",
    "\n",
    "def delete_duplicates(listening_history: pd.DataFrame):\n",
    "    initial_shape = listening_history.shape\n",
    "    listening_history = listening_history.drop_duplicates(subset=['user_id', 'track_id'], keep='first')\n",
    "    print(f\"Deleted {initial_shape[0] - listening_history.shape[0]} duplicates\")\n",
    "    return listening_history\n",
    "\n",
    "df_interactions = filter_interactions(df_interactions, min_interactions=2)\n",
    "df_interactions = delete_duplicates(df_interactions)\n",
    "print(df_interactions.shape)\n",
    "df_interactions.head()"
   ],
   "outputs": [
    {
     "name": "stdout",
     "output_type": "stream",
     "text": [
      "Deleted 2687295 duplicates\n",
      "(673432, 5)\n"
     ]
    },
    {
     "data": {
      "text/plain": [
       "      user_id          track_id            timestamp  year    month\n",
       "0       31441  x4hv0ALTsGICpzry  2014-04-09 10:58:14  2014  2014-04\n",
       "2996    27941  InE2v5bxFNZ6Mow0  2014-03-23 12:07:38  2014  2014-03\n",
       "3831    33179  FdlV9QADnS2vD3jE  2014-04-14 15:35:43  2014  2014-04\n",
       "4654    44706  XIFUDCiXv38XEWiX  2014-03-10 07:17:18  2014  2014-03\n",
       "5383    68443  0zYSX03Sqv8YHEwv  2014-04-03 18:24:29  2014  2014-04"
      ],
      "text/html": [
       "<div>\n",
       "<style scoped>\n",
       "    .dataframe tbody tr th:only-of-type {\n",
       "        vertical-align: middle;\n",
       "    }\n",
       "\n",
       "    .dataframe tbody tr th {\n",
       "        vertical-align: top;\n",
       "    }\n",
       "\n",
       "    .dataframe thead th {\n",
       "        text-align: right;\n",
       "    }\n",
       "</style>\n",
       "<table border=\"1\" class=\"dataframe\">\n",
       "  <thead>\n",
       "    <tr style=\"text-align: right;\">\n",
       "      <th></th>\n",
       "      <th>user_id</th>\n",
       "      <th>track_id</th>\n",
       "      <th>timestamp</th>\n",
       "      <th>year</th>\n",
       "      <th>month</th>\n",
       "    </tr>\n",
       "  </thead>\n",
       "  <tbody>\n",
       "    <tr>\n",
       "      <th>0</th>\n",
       "      <td>31441</td>\n",
       "      <td>x4hv0ALTsGICpzry</td>\n",
       "      <td>2014-04-09 10:58:14</td>\n",
       "      <td>2014</td>\n",
       "      <td>2014-04</td>\n",
       "    </tr>\n",
       "    <tr>\n",
       "      <th>2996</th>\n",
       "      <td>27941</td>\n",
       "      <td>InE2v5bxFNZ6Mow0</td>\n",
       "      <td>2014-03-23 12:07:38</td>\n",
       "      <td>2014</td>\n",
       "      <td>2014-03</td>\n",
       "    </tr>\n",
       "    <tr>\n",
       "      <th>3831</th>\n",
       "      <td>33179</td>\n",
       "      <td>FdlV9QADnS2vD3jE</td>\n",
       "      <td>2014-04-14 15:35:43</td>\n",
       "      <td>2014</td>\n",
       "      <td>2014-04</td>\n",
       "    </tr>\n",
       "    <tr>\n",
       "      <th>4654</th>\n",
       "      <td>44706</td>\n",
       "      <td>XIFUDCiXv38XEWiX</td>\n",
       "      <td>2014-03-10 07:17:18</td>\n",
       "      <td>2014</td>\n",
       "      <td>2014-03</td>\n",
       "    </tr>\n",
       "    <tr>\n",
       "      <th>5383</th>\n",
       "      <td>68443</td>\n",
       "      <td>0zYSX03Sqv8YHEwv</td>\n",
       "      <td>2014-04-03 18:24:29</td>\n",
       "      <td>2014</td>\n",
       "      <td>2014-04</td>\n",
       "    </tr>\n",
       "  </tbody>\n",
       "</table>\n",
       "</div>"
      ]
     },
     "execution_count": 10,
     "metadata": {},
     "output_type": "execute_result"
    }
   ],
   "execution_count": 10
  },
  {
   "cell_type": "code",
   "id": "6e58b7c11213afbb",
   "metadata": {
    "ExecuteTime": {
     "end_time": "2025-01-14T12:37:59.485514Z",
     "start_time": "2025-01-14T12:37:59.441661Z"
    }
   },
   "source": [
    "# sparsity of dataset\n",
    "n_users = df_interactions['user_id'].nunique()\n",
    "n_items = df_interactions['track_id'].nunique()\n",
    "n_interactions = df_interactions.shape[0]\n",
    "sparsity = 1 - n_interactions / (n_users * n_items)\n",
    "sparsity"
   ],
   "outputs": [
    {
     "data": {
      "text/plain": [
       "0.9988016329560717"
      ]
     },
     "execution_count": 11,
     "metadata": {},
     "output_type": "execute_result"
    }
   ],
   "execution_count": 11
  },
  {
   "cell_type": "code",
   "id": "96f7a550e34a1154",
   "metadata": {
    "ExecuteTime": {
     "end_time": "2025-01-14T12:37:59.579476Z",
     "start_time": "2025-01-14T12:37:59.574695Z"
    }
   },
   "source": [
    "n_items"
   ],
   "outputs": [
    {
     "data": {
      "text/plain": [
       "33148"
      ]
     },
     "execution_count": 12,
     "metadata": {},
     "output_type": "execute_result"
    }
   ],
   "execution_count": 12
  },
  {
   "cell_type": "code",
   "id": "660c6004",
   "metadata": {
    "ExecuteTime": {
     "end_time": "2025-01-14T12:37:59.747253Z",
     "start_time": "2025-01-14T12:37:59.742880Z"
    }
   },
   "source": [
    "n_users"
   ],
   "outputs": [
    {
     "data": {
      "text/plain": [
       "16953"
      ]
     },
     "execution_count": 13,
     "metadata": {},
     "output_type": "execute_result"
    }
   ],
   "execution_count": 13
  },
  {
   "cell_type": "code",
   "id": "1e10a91504dded70",
   "metadata": {
    "ExecuteTime": {
     "end_time": "2025-01-14T12:38:02.662745Z",
     "start_time": "2025-01-14T12:37:59.828815Z"
    }
   },
   "source": [
    "# export\n",
    "df_interactions.to_csv(f'../data/userid_trackid_timestamp_{PERIOD_YEAR}.tsv', sep='\\t', index=False)"
   ],
   "outputs": [],
   "execution_count": 14
  },
  {
   "cell_type": "code",
   "id": "29df57c5",
   "metadata": {
    "ExecuteTime": {
     "end_time": "2025-01-14T12:16:39.157116013Z",
     "start_time": "2025-01-14T09:03:17.312168Z"
    }
   },
   "source": [],
   "outputs": [],
   "execution_count": null
  }
 ],
 "metadata": {
  "kernelspec": {
   "display_name": "elliot",
   "language": "python",
   "name": "python3"
  },
  "language_info": {
   "codemirror_mode": {
    "name": "ipython",
    "version": 3
   },
   "file_extension": ".py",
   "mimetype": "text/x-python",
   "name": "python",
   "nbconvert_exporter": "python",
   "pygments_lexer": "ipython3",
   "version": "3.8.20"
  }
 },
 "nbformat": 4,
 "nbformat_minor": 5
}
