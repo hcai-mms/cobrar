{
 "cells": [
  {
   "cell_type": "code",
   "execution_count": 10,
   "id": "initial_id",
   "metadata": {
    "ExecuteTime": {
     "end_time": "2025-01-14T12:31:43.852666Z",
     "start_time": "2025-01-14T12:31:43.611698Z"
    },
    "collapsed": true
   },
   "outputs": [],
   "source": [
    "import pandas as pd\n",
    "import numpy as np\n",
    "import os\n",
    "import shutil"
   ]
  },
  {
   "cell_type": "code",
   "execution_count": 11,
   "id": "6e624dbeae22feb4",
   "metadata": {
    "ExecuteTime": {
     "end_time": "2025-01-14T12:31:43.860334Z",
     "start_time": "2025-01-14T12:31:43.858104Z"
    }
   },
   "outputs": [],
   "source": [
    "PERIOD_YEAR = '2019'"
   ]
  },
  {
   "cell_type": "code",
   "execution_count": 12,
   "id": "54f686a4400205fa",
   "metadata": {
    "ExecuteTime": {
     "end_time": "2025-01-14T12:33:54.170939Z",
     "start_time": "2025-01-14T12:33:32.251164Z"
    }
   },
   "outputs": [
    {
     "name": "stdout",
     "output_type": "stream",
     "text": [
      "(252984396, 3)\n"
     ]
    },
    {
     "data": {
      "text/html": [
       "<div>\n",
       "<style scoped>\n",
       "    .dataframe tbody tr th:only-of-type {\n",
       "        vertical-align: middle;\n",
       "    }\n",
       "\n",
       "    .dataframe tbody tr th {\n",
       "        vertical-align: top;\n",
       "    }\n",
       "\n",
       "    .dataframe thead th {\n",
       "        text-align: right;\n",
       "    }\n",
       "</style>\n",
       "<table border=\"1\" class=\"dataframe\">\n",
       "  <thead>\n",
       "    <tr style=\"text-align: right;\">\n",
       "      <th></th>\n",
       "      <th>user_id</th>\n",
       "      <th>track_id</th>\n",
       "      <th>timestamp</th>\n",
       "    </tr>\n",
       "  </thead>\n",
       "  <tbody>\n",
       "    <tr>\n",
       "      <th>0</th>\n",
       "      <td>51549</td>\n",
       "      <td>iJTBIGHPjgJcT4Bt</td>\n",
       "      <td>2013-01-27 21:42:38</td>\n",
       "    </tr>\n",
       "    <tr>\n",
       "      <th>1</th>\n",
       "      <td>51549</td>\n",
       "      <td>iJTBIGHPjgJcT4Bt</td>\n",
       "      <td>2013-01-27 21:38:53</td>\n",
       "    </tr>\n",
       "    <tr>\n",
       "      <th>2</th>\n",
       "      <td>51549</td>\n",
       "      <td>iJTBIGHPjgJcT4Bt</td>\n",
       "      <td>2013-01-27 21:35:08</td>\n",
       "    </tr>\n",
       "    <tr>\n",
       "      <th>3</th>\n",
       "      <td>51549</td>\n",
       "      <td>iJTBIGHPjgJcT4Bt</td>\n",
       "      <td>2013-01-27 21:31:23</td>\n",
       "    </tr>\n",
       "    <tr>\n",
       "      <th>4</th>\n",
       "      <td>51549</td>\n",
       "      <td>iJTBIGHPjgJcT4Bt</td>\n",
       "      <td>2013-01-27 21:27:38</td>\n",
       "    </tr>\n",
       "  </tbody>\n",
       "</table>\n",
       "</div>"
      ],
      "text/plain": [
       "   user_id          track_id            timestamp\n",
       "0    51549  iJTBIGHPjgJcT4Bt  2013-01-27 21:42:38\n",
       "1    51549  iJTBIGHPjgJcT4Bt  2013-01-27 21:38:53\n",
       "2    51549  iJTBIGHPjgJcT4Bt  2013-01-27 21:35:08\n",
       "3    51549  iJTBIGHPjgJcT4Bt  2013-01-27 21:31:23\n",
       "4    51549  iJTBIGHPjgJcT4Bt  2013-01-27 21:27:38"
      ]
     },
     "execution_count": 12,
     "metadata": {},
     "output_type": "execute_result"
    }
   ],
   "source": [
    "df_interactions = pd.read_csv('../data/userid_trackid_timestamp.tsv', sep='\\t')\n",
    "print(df_interactions.shape)\n",
    "df_interactions.head()"
   ]
  },
  {
   "cell_type": "code",
   "execution_count": 13,
   "id": "ab4c1a80",
   "metadata": {
    "ExecuteTime": {
     "end_time": "2025-01-14T12:37:31.870426Z",
     "start_time": "2025-01-14T12:37:22.025511Z"
    }
   },
   "outputs": [
    {
     "name": "stdout",
     "output_type": "stream",
     "text": [
      "(16798748, 5)\n"
     ]
    },
    {
     "data": {
      "text/html": [
       "<div>\n",
       "<style scoped>\n",
       "    .dataframe tbody tr th:only-of-type {\n",
       "        vertical-align: middle;\n",
       "    }\n",
       "\n",
       "    .dataframe tbody tr th {\n",
       "        vertical-align: top;\n",
       "    }\n",
       "\n",
       "    .dataframe thead th {\n",
       "        text-align: right;\n",
       "    }\n",
       "</style>\n",
       "<table border=\"1\" class=\"dataframe\">\n",
       "  <thead>\n",
       "    <tr style=\"text-align: right;\">\n",
       "      <th></th>\n",
       "      <th>user_id</th>\n",
       "      <th>track_id</th>\n",
       "      <th>timestamp</th>\n",
       "      <th>year</th>\n",
       "      <th>month</th>\n",
       "    </tr>\n",
       "  </thead>\n",
       "  <tbody>\n",
       "    <tr>\n",
       "      <th>134640783</th>\n",
       "      <td>5767</td>\n",
       "      <td>ETjDC3M3BNzL3vbX</td>\n",
       "      <td>2019-12-21 11:08:59</td>\n",
       "      <td>2019</td>\n",
       "      <td>2019-12</td>\n",
       "    </tr>\n",
       "    <tr>\n",
       "      <th>134640784</th>\n",
       "      <td>5767</td>\n",
       "      <td>Tj7tHraP3IJiu8lS</td>\n",
       "      <td>2019-12-15 17:32:53</td>\n",
       "      <td>2019</td>\n",
       "      <td>2019-12</td>\n",
       "    </tr>\n",
       "    <tr>\n",
       "      <th>134640785</th>\n",
       "      <td>5767</td>\n",
       "      <td>9AT7OkPyGi0PwkLh</td>\n",
       "      <td>2019-12-11 19:15:56</td>\n",
       "      <td>2019</td>\n",
       "      <td>2019-12</td>\n",
       "    </tr>\n",
       "    <tr>\n",
       "      <th>134640786</th>\n",
       "      <td>5767</td>\n",
       "      <td>VllNteG3w18TMKYP</td>\n",
       "      <td>2019-12-10 18:58:50</td>\n",
       "      <td>2019</td>\n",
       "      <td>2019-12</td>\n",
       "    </tr>\n",
       "    <tr>\n",
       "      <th>134640787</th>\n",
       "      <td>5767</td>\n",
       "      <td>IwT5KH3YVXEx3lY5</td>\n",
       "      <td>2019-12-07 14:29:01</td>\n",
       "      <td>2019</td>\n",
       "      <td>2019-12</td>\n",
       "    </tr>\n",
       "  </tbody>\n",
       "</table>\n",
       "</div>"
      ],
      "text/plain": [
       "           user_id          track_id            timestamp  year    month\n",
       "134640783     5767  ETjDC3M3BNzL3vbX  2019-12-21 11:08:59  2019  2019-12\n",
       "134640784     5767  Tj7tHraP3IJiu8lS  2019-12-15 17:32:53  2019  2019-12\n",
       "134640785     5767  9AT7OkPyGi0PwkLh  2019-12-11 19:15:56  2019  2019-12\n",
       "134640786     5767  VllNteG3w18TMKYP  2019-12-10 18:58:50  2019  2019-12\n",
       "134640787     5767  IwT5KH3YVXEx3lY5  2019-12-07 14:29:01  2019  2019-12"
      ]
     },
     "execution_count": 13,
     "metadata": {},
     "output_type": "execute_result"
    }
   ],
   "source": [
    "df_interactions['year'] = pd.to_datetime(df_interactions['timestamp']).dt.to_period('Y')\n",
    "df_interactions['month'] = pd.to_datetime(df_interactions['timestamp']).dt.to_period('M')\n",
    "df_interactions = df_interactions[df_interactions['year'] == PERIOD_YEAR]\n",
    "print(df_interactions.shape)\n",
    "df_interactions.head()"
   ]
  },
  {
   "cell_type": "code",
   "execution_count": 14,
   "id": "8bf8f2a7",
   "metadata": {
    "ExecuteTime": {
     "end_time": "2025-01-14T12:37:59.332255Z",
     "start_time": "2025-01-14T12:37:48.890882Z"
    }
   },
   "outputs": [
    {
     "name": "stdout",
     "output_type": "stream",
     "text": [
      "(5203080, 5)\n"
     ]
    },
    {
     "data": {
      "text/html": [
       "<div>\n",
       "<style scoped>\n",
       "    .dataframe tbody tr th:only-of-type {\n",
       "        vertical-align: middle;\n",
       "    }\n",
       "\n",
       "    .dataframe tbody tr th {\n",
       "        vertical-align: top;\n",
       "    }\n",
       "\n",
       "    .dataframe thead th {\n",
       "        text-align: right;\n",
       "    }\n",
       "</style>\n",
       "<table border=\"1\" class=\"dataframe\">\n",
       "  <thead>\n",
       "    <tr style=\"text-align: right;\">\n",
       "      <th></th>\n",
       "      <th>user_id</th>\n",
       "      <th>track_id</th>\n",
       "      <th>timestamp</th>\n",
       "      <th>year</th>\n",
       "      <th>month</th>\n",
       "    </tr>\n",
       "  </thead>\n",
       "  <tbody>\n",
       "    <tr>\n",
       "      <th>206044628</th>\n",
       "      <td>0</td>\n",
       "      <td>7uwg0JpB7Dos5kOU</td>\n",
       "      <td>2019-01-01 00:33:59</td>\n",
       "      <td>2019</td>\n",
       "      <td>2019-01</td>\n",
       "    </tr>\n",
       "    <tr>\n",
       "      <th>206044782</th>\n",
       "      <td>0</td>\n",
       "      <td>ifgfWxyGQX4aZFDb</td>\n",
       "      <td>2019-01-01 00:50:50</td>\n",
       "      <td>2019</td>\n",
       "      <td>2019-01</td>\n",
       "    </tr>\n",
       "    <tr>\n",
       "      <th>206044550</th>\n",
       "      <td>0</td>\n",
       "      <td>jMg6CVPGjHDIjPl9</td>\n",
       "      <td>2019-01-01 01:15:17</td>\n",
       "      <td>2019</td>\n",
       "      <td>2019-01</td>\n",
       "    </tr>\n",
       "    <tr>\n",
       "      <th>206044781</th>\n",
       "      <td>0</td>\n",
       "      <td>RWXPvXZRrB0lzHkE</td>\n",
       "      <td>2019-01-01 01:49:18</td>\n",
       "      <td>2019</td>\n",
       "      <td>2019-01</td>\n",
       "    </tr>\n",
       "    <tr>\n",
       "      <th>206044549</th>\n",
       "      <td>0</td>\n",
       "      <td>7pP62aDPmC7o93y1</td>\n",
       "      <td>2019-01-01 02:19:57</td>\n",
       "      <td>2019</td>\n",
       "      <td>2019-01</td>\n",
       "    </tr>\n",
       "  </tbody>\n",
       "</table>\n",
       "</div>"
      ],
      "text/plain": [
       "           user_id          track_id           timestamp  year    month\n",
       "206044628        0  7uwg0JpB7Dos5kOU 2019-01-01 00:33:59  2019  2019-01\n",
       "206044782        0  ifgfWxyGQX4aZFDb 2019-01-01 00:50:50  2019  2019-01\n",
       "206044550        0  jMg6CVPGjHDIjPl9 2019-01-01 01:15:17  2019  2019-01\n",
       "206044781        0  RWXPvXZRrB0lzHkE 2019-01-01 01:49:18  2019  2019-01\n",
       "206044549        0  7pP62aDPmC7o93y1 2019-01-01 02:19:57  2019  2019-01"
      ]
     },
     "execution_count": 14,
     "metadata": {},
     "output_type": "execute_result"
    }
   ],
   "source": [
    "# binarization: we convert the interactions to binary implicit feedback with a threshold of 2 on the interaction counts (reducing false-positive interactions)\n",
    "def filter_interactions_binary(listening_history: pd.DataFrame, min_interactions: int = 2, verbose: bool = True):\n",
    "    lhs_count = listening_history.value_counts(subset=['user_id', 'track_id'])\n",
    "    lhs_count = lhs_count[lhs_count >= min_interactions]\n",
    "    listening_history = listening_history.set_index(['user_id', 'track_id']).loc[lhs_count.index]\n",
    "    listening_history = listening_history.reset_index()\n",
    "    return listening_history\n",
    "\n",
    "# filter interactions with a minimum time interval between them (alternative to binarization)\n",
    "def filter_interactions_interval(listening_history: pd.DataFrame, min_interaction_interval=30):\n",
    "    listening_history = listening_history.sort_values(by=['user_id', 'timestamp'])\n",
    "    listening_history['timestamp'] = pd.to_datetime(listening_history['timestamp'])\n",
    "    listening_history['time_diff'] = listening_history.groupby('user_id')['timestamp'].diff().dt.total_seconds().fillna(0)\n",
    "    listening_history = listening_history[listening_history['time_diff'] >= min_interaction_interval]\n",
    "    listening_history = listening_history.drop(columns=['time_diff'])\n",
    "    return listening_history\n",
    "\n",
    "def delete_duplicates(listening_history: pd.DataFrame):\n",
    "    initial_shape = listening_history.shape\n",
    "    listening_history = listening_history.drop_duplicates(subset=['user_id', 'track_id'], keep='first')\n",
    "    #print(f\"Deleted {initial_shape[0] - listening_history.shape[0]} duplicates\")\n",
    "    return listening_history\n",
    "\n",
    "#df_interactions = filter_interactions_binary(df_interactions, min_interactions=2)\n",
    "df_interactions = filter_interactions_interval(df_interactions, min_interaction_interval=30)\n",
    "df_interactions = delete_duplicates(df_interactions)\n",
    "print(df_interactions.shape)\n",
    "df_interactions.head()"
   ]
  },
  {
   "cell_type": "code",
   "execution_count": 15,
   "id": "6e58b7c11213afbb",
   "metadata": {
    "ExecuteTime": {
     "end_time": "2025-01-14T12:37:59.485514Z",
     "start_time": "2025-01-14T12:37:59.441661Z"
    }
   },
   "outputs": [
    {
     "data": {
      "text/plain": [
       "0.9945170663050219"
      ]
     },
     "execution_count": 15,
     "metadata": {},
     "output_type": "execute_result"
    }
   ],
   "source": [
    "# sparsity of dataset\n",
    "n_users = df_interactions['user_id'].nunique()\n",
    "n_items = df_interactions['track_id'].nunique()\n",
    "n_interactions = df_interactions.shape[0]\n",
    "sparsity = 1 - n_interactions / (n_users * n_items)\n",
    "sparsity"
   ]
  },
  {
   "cell_type": "code",
   "execution_count": 16,
   "id": "96f7a550e34a1154",
   "metadata": {
    "ExecuteTime": {
     "end_time": "2025-01-14T12:37:59.579476Z",
     "start_time": "2025-01-14T12:37:59.574695Z"
    }
   },
   "outputs": [
    {
     "data": {
      "text/plain": [
       "56188"
      ]
     },
     "execution_count": 16,
     "metadata": {},
     "output_type": "execute_result"
    }
   ],
   "source": [
    "n_items"
   ]
  },
  {
   "cell_type": "code",
   "execution_count": 17,
   "id": "660c6004",
   "metadata": {
    "ExecuteTime": {
     "end_time": "2025-01-14T12:37:59.747253Z",
     "start_time": "2025-01-14T12:37:59.742880Z"
    }
   },
   "outputs": [
    {
     "data": {
      "text/plain": [
       "16889"
      ]
     },
     "execution_count": 17,
     "metadata": {},
     "output_type": "execute_result"
    }
   ],
   "source": [
    "n_users"
   ]
  },
  {
   "cell_type": "code",
   "execution_count": 18,
   "id": "1e10a91504dded70",
   "metadata": {
    "ExecuteTime": {
     "end_time": "2025-01-14T12:38:02.662745Z",
     "start_time": "2025-01-14T12:37:59.828815Z"
    }
   },
   "outputs": [],
   "source": [
    "# export\n",
    "df_interactions.to_csv(f'../data/userid_trackid_timestamp_{PERIOD_YEAR}.tsv', sep='\\t', index=False)"
   ]
  },
  {
   "cell_type": "code",
   "execution_count": null,
   "id": "29df57c5",
   "metadata": {
    "ExecuteTime": {
     "end_time": "2025-01-14T12:16:39.157116013Z",
     "start_time": "2025-01-14T09:03:17.312168Z"
    }
   },
   "outputs": [],
   "source": []
  }
 ],
 "metadata": {
  "kernelspec": {
   "display_name": "elliot",
   "language": "python",
   "name": "python3"
  },
  "language_info": {
   "codemirror_mode": {
    "name": "ipython",
    "version": 3
   },
   "file_extension": ".py",
   "mimetype": "text/x-python",
   "name": "python",
   "nbconvert_exporter": "python",
   "pygments_lexer": "ipython3",
   "version": "3.8.20"
  }
 },
 "nbformat": 4,
 "nbformat_minor": 5
}
