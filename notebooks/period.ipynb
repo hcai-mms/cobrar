{
 "cells": [
  {
   "cell_type": "code",
   "execution_count": 1,
   "id": "initial_id",
   "metadata": {
    "ExecuteTime": {
     "end_time": "2025-01-14T12:31:43.852666Z",
     "start_time": "2025-01-14T12:31:43.611698Z"
    },
    "collapsed": true
   },
   "outputs": [],
   "source": [
    "import pandas as pd\n",
    "import numpy as np\n",
    "import os\n",
    "import shutil"
   ]
  },
  {
   "cell_type": "code",
   "execution_count": null,
   "id": "6e624dbeae22feb4",
   "metadata": {
    "ExecuteTime": {
     "end_time": "2025-01-14T12:31:43.860334Z",
     "start_time": "2025-01-14T12:31:43.858104Z"
    }
   },
   "outputs": [],
   "source": [
    "PERIOD_YEAR = '2014'"
   ]
  },
  {
   "cell_type": "code",
   "execution_count": 3,
   "id": "54f686a4400205fa",
   "metadata": {
    "ExecuteTime": {
     "end_time": "2025-01-14T12:33:54.170939Z",
     "start_time": "2025-01-14T12:33:32.251164Z"
    }
   },
   "outputs": [
    {
     "name": "stdout",
     "output_type": "stream",
     "text": [
      "(252984396, 3)\n"
     ]
    },
    {
     "data": {
      "text/html": [
       "<div>\n",
       "<style scoped>\n",
       "    .dataframe tbody tr th:only-of-type {\n",
       "        vertical-align: middle;\n",
       "    }\n",
       "\n",
       "    .dataframe tbody tr th {\n",
       "        vertical-align: top;\n",
       "    }\n",
       "\n",
       "    .dataframe thead th {\n",
       "        text-align: right;\n",
       "    }\n",
       "</style>\n",
       "<table border=\"1\" class=\"dataframe\">\n",
       "  <thead>\n",
       "    <tr style=\"text-align: right;\">\n",
       "      <th></th>\n",
       "      <th>user_id</th>\n",
       "      <th>track_id</th>\n",
       "      <th>timestamp</th>\n",
       "    </tr>\n",
       "  </thead>\n",
       "  <tbody>\n",
       "    <tr>\n",
       "      <th>0</th>\n",
       "      <td>51549</td>\n",
       "      <td>iJTBIGHPjgJcT4Bt</td>\n",
       "      <td>2013-01-27 21:42:38</td>\n",
       "    </tr>\n",
       "    <tr>\n",
       "      <th>1</th>\n",
       "      <td>51549</td>\n",
       "      <td>iJTBIGHPjgJcT4Bt</td>\n",
       "      <td>2013-01-27 21:38:53</td>\n",
       "    </tr>\n",
       "    <tr>\n",
       "      <th>2</th>\n",
       "      <td>51549</td>\n",
       "      <td>iJTBIGHPjgJcT4Bt</td>\n",
       "      <td>2013-01-27 21:35:08</td>\n",
       "    </tr>\n",
       "    <tr>\n",
       "      <th>3</th>\n",
       "      <td>51549</td>\n",
       "      <td>iJTBIGHPjgJcT4Bt</td>\n",
       "      <td>2013-01-27 21:31:23</td>\n",
       "    </tr>\n",
       "    <tr>\n",
       "      <th>4</th>\n",
       "      <td>51549</td>\n",
       "      <td>iJTBIGHPjgJcT4Bt</td>\n",
       "      <td>2013-01-27 21:27:38</td>\n",
       "    </tr>\n",
       "  </tbody>\n",
       "</table>\n",
       "</div>"
      ],
      "text/plain": [
       "   user_id          track_id            timestamp\n",
       "0    51549  iJTBIGHPjgJcT4Bt  2013-01-27 21:42:38\n",
       "1    51549  iJTBIGHPjgJcT4Bt  2013-01-27 21:38:53\n",
       "2    51549  iJTBIGHPjgJcT4Bt  2013-01-27 21:35:08\n",
       "3    51549  iJTBIGHPjgJcT4Bt  2013-01-27 21:31:23\n",
       "4    51549  iJTBIGHPjgJcT4Bt  2013-01-27 21:27:38"
      ]
     },
     "execution_count": 3,
     "metadata": {},
     "output_type": "execute_result"
    }
   ],
   "source": [
    "df_interactions = pd.read_csv('../data/userid_trackid_timestamp.tsv', sep='\\t')\n",
    "print(df_interactions.shape)\n",
    "df_interactions.head()"
   ]
  },
  {
   "cell_type": "code",
   "execution_count": 4,
   "id": "ab4c1a80",
   "metadata": {
    "ExecuteTime": {
     "end_time": "2025-01-14T12:37:31.870426Z",
     "start_time": "2025-01-14T12:37:22.025511Z"
    }
   },
   "outputs": [
    {
     "name": "stdout",
     "output_type": "stream",
     "text": [
      "(35069320, 5)\n"
     ]
    },
    {
     "data": {
      "text/html": [
       "<div>\n",
       "<style scoped>\n",
       "    .dataframe tbody tr th:only-of-type {\n",
       "        vertical-align: middle;\n",
       "    }\n",
       "\n",
       "    .dataframe tbody tr th {\n",
       "        vertical-align: top;\n",
       "    }\n",
       "\n",
       "    .dataframe thead th {\n",
       "        text-align: right;\n",
       "    }\n",
       "</style>\n",
       "<table border=\"1\" class=\"dataframe\">\n",
       "  <thead>\n",
       "    <tr style=\"text-align: right;\">\n",
       "      <th></th>\n",
       "      <th>user_id</th>\n",
       "      <th>track_id</th>\n",
       "      <th>timestamp</th>\n",
       "      <th>year</th>\n",
       "      <th>month</th>\n",
       "    </tr>\n",
       "  </thead>\n",
       "  <tbody>\n",
       "    <tr>\n",
       "      <th>0</th>\n",
       "      <td>51549</td>\n",
       "      <td>iJTBIGHPjgJcT4Bt</td>\n",
       "      <td>2013-01-27 21:42:38</td>\n",
       "      <td>2013</td>\n",
       "      <td>2013-01</td>\n",
       "    </tr>\n",
       "    <tr>\n",
       "      <th>1</th>\n",
       "      <td>51549</td>\n",
       "      <td>iJTBIGHPjgJcT4Bt</td>\n",
       "      <td>2013-01-27 21:38:53</td>\n",
       "      <td>2013</td>\n",
       "      <td>2013-01</td>\n",
       "    </tr>\n",
       "    <tr>\n",
       "      <th>2</th>\n",
       "      <td>51549</td>\n",
       "      <td>iJTBIGHPjgJcT4Bt</td>\n",
       "      <td>2013-01-27 21:35:08</td>\n",
       "      <td>2013</td>\n",
       "      <td>2013-01</td>\n",
       "    </tr>\n",
       "    <tr>\n",
       "      <th>3</th>\n",
       "      <td>51549</td>\n",
       "      <td>iJTBIGHPjgJcT4Bt</td>\n",
       "      <td>2013-01-27 21:31:23</td>\n",
       "      <td>2013</td>\n",
       "      <td>2013-01</td>\n",
       "    </tr>\n",
       "    <tr>\n",
       "      <th>4</th>\n",
       "      <td>51549</td>\n",
       "      <td>iJTBIGHPjgJcT4Bt</td>\n",
       "      <td>2013-01-27 21:27:38</td>\n",
       "      <td>2013</td>\n",
       "      <td>2013-01</td>\n",
       "    </tr>\n",
       "  </tbody>\n",
       "</table>\n",
       "</div>"
      ],
      "text/plain": [
       "   user_id          track_id            timestamp  year    month\n",
       "0    51549  iJTBIGHPjgJcT4Bt  2013-01-27 21:42:38  2013  2013-01\n",
       "1    51549  iJTBIGHPjgJcT4Bt  2013-01-27 21:38:53  2013  2013-01\n",
       "2    51549  iJTBIGHPjgJcT4Bt  2013-01-27 21:35:08  2013  2013-01\n",
       "3    51549  iJTBIGHPjgJcT4Bt  2013-01-27 21:31:23  2013  2013-01\n",
       "4    51549  iJTBIGHPjgJcT4Bt  2013-01-27 21:27:38  2013  2013-01"
      ]
     },
     "execution_count": 4,
     "metadata": {},
     "output_type": "execute_result"
    }
   ],
   "source": [
    "df_interactions['year'] = pd.to_datetime(df_interactions['timestamp']).dt.to_period('Y')\n",
    "df_interactions['month'] = pd.to_datetime(df_interactions['timestamp']).dt.to_period('M')\n",
    "df_interactions = df_interactions[df_interactions['year'] == PERIOD_YEAR]\n",
    "print(df_interactions.shape)\n",
    "df_interactions.head()"
   ]
  },
  {
   "cell_type": "code",
   "execution_count": null,
   "id": "8bf8f2a7",
   "metadata": {
    "ExecuteTime": {
     "end_time": "2025-01-14T12:37:59.332255Z",
     "start_time": "2025-01-14T12:37:48.890882Z"
    }
   },
   "outputs": [
    {
     "name": "stdout",
     "output_type": "stream",
     "text": [
      "(5066229, 5)\n"
     ]
    },
    {
     "data": {
      "text/html": [
       "<div>\n",
       "<style scoped>\n",
       "    .dataframe tbody tr th:only-of-type {\n",
       "        vertical-align: middle;\n",
       "    }\n",
       "\n",
       "    .dataframe tbody tr th {\n",
       "        vertical-align: top;\n",
       "    }\n",
       "\n",
       "    .dataframe thead th {\n",
       "        text-align: right;\n",
       "    }\n",
       "</style>\n",
       "<table border=\"1\" class=\"dataframe\">\n",
       "  <thead>\n",
       "    <tr style=\"text-align: right;\">\n",
       "      <th></th>\n",
       "      <th>user_id</th>\n",
       "      <th>track_id</th>\n",
       "      <th>timestamp</th>\n",
       "      <th>year</th>\n",
       "      <th>month</th>\n",
       "    </tr>\n",
       "  </thead>\n",
       "  <tbody>\n",
       "    <tr>\n",
       "      <th>0</th>\n",
       "      <td>32136</td>\n",
       "      <td>zJZUGfCgoBisXUS9</td>\n",
       "      <td>2013-04-06 14:16:43</td>\n",
       "      <td>2013</td>\n",
       "      <td>2013-04</td>\n",
       "    </tr>\n",
       "    <tr>\n",
       "      <th>6463</th>\n",
       "      <td>49741</td>\n",
       "      <td>wscBgW8kSMuQj55r</td>\n",
       "      <td>2013-02-28 18:01:49</td>\n",
       "      <td>2013</td>\n",
       "      <td>2013-02</td>\n",
       "    </tr>\n",
       "    <tr>\n",
       "      <th>12629</th>\n",
       "      <td>23954</td>\n",
       "      <td>S7RFdCOEy8yX1StR</td>\n",
       "      <td>2013-01-27 23:44:07</td>\n",
       "      <td>2013</td>\n",
       "      <td>2013-01</td>\n",
       "    </tr>\n",
       "    <tr>\n",
       "      <th>16263</th>\n",
       "      <td>32136</td>\n",
       "      <td>vrHa51oZkAx9JbuB</td>\n",
       "      <td>2013-11-30 13:35:52</td>\n",
       "      <td>2013</td>\n",
       "      <td>2013-11</td>\n",
       "    </tr>\n",
       "    <tr>\n",
       "      <th>19034</th>\n",
       "      <td>5792</td>\n",
       "      <td>L7t7nltflAuxXSKO</td>\n",
       "      <td>2013-01-01 00:50:48</td>\n",
       "      <td>2013</td>\n",
       "      <td>2013-01</td>\n",
       "    </tr>\n",
       "  </tbody>\n",
       "</table>\n",
       "</div>"
      ],
      "text/plain": [
       "       user_id          track_id           timestamp  year    month\n",
       "0        32136  zJZUGfCgoBisXUS9 2013-04-06 14:16:43  2013  2013-04\n",
       "6463     49741  wscBgW8kSMuQj55r 2013-02-28 18:01:49  2013  2013-02\n",
       "12629    23954  S7RFdCOEy8yX1StR 2013-01-27 23:44:07  2013  2013-01\n",
       "16263    32136  vrHa51oZkAx9JbuB 2013-11-30 13:35:52  2013  2013-11\n",
       "19034     5792  L7t7nltflAuxXSKO 2013-01-01 00:50:48  2013  2013-01"
      ]
     },
     "execution_count": 5,
     "metadata": {},
     "output_type": "execute_result"
    }
   ],
   "source": [
    "# binarization: we convert the interactions to binary implicit feedback with a threshold of 2 on the interaction counts (reducing false-positive interactions)\n",
    "def filter_interactions_binary(listening_history: pd.DataFrame, min_interactions: int = 2, verbose: bool = True):\n",
    "    lhs_count = listening_history.value_counts(subset=['user_id', 'track_id'])\n",
    "    lhs_count = lhs_count[lhs_count >= min_interactions]\n",
    "    listening_history = listening_history.set_index(['user_id', 'track_id']).loc[lhs_count.index]\n",
    "    listening_history = listening_history.reset_index()\n",
    "    return listening_history\n",
    "\n",
    "# filter interactions with a minimum time interval between them (alternative to binarization)\n",
    "def filter_interactions_interval(listening_history: pd.DataFrame, min_interaction_interval=30):\n",
    "    listening_history = listening_history.sort_values(by=['user_id', 'timestamp'])\n",
    "    listening_history['timestamp'] = pd.to_datetime(listening_history['timestamp'])\n",
    "    listening_history['time_diff'] = listening_history.groupby('user_id')['timestamp'].diff().dt.total_seconds().fillna(0)\n",
    "    listening_history = listening_history[listening_history['time_diff'] >= min_interaction_interval]\n",
    "    listening_history = listening_history.drop(columns=['time_diff'])\n",
    "    return listening_history\n",
    "\n",
    "def delete_duplicates(listening_history: pd.DataFrame):\n",
    "    initial_shape = listening_history.shape\n",
    "    listening_history = listening_history.drop_duplicates(subset=['user_id', 'track_id'], keep='first')\n",
    "    #print(f\"Deleted {initial_shape[0] - listening_history.shape[0]} duplicates\")\n",
    "    return listening_history\n",
    "\n",
    "#df_interactions = filter_interactions_interval(df_interactions, min_interaction_interval=30)\n",
    "df_interactions = filter_interactions_binary(df_interactions, min_interactions=2)\n",
    "df_interactions = delete_duplicates(df_interactions)\n",
    "print(df_interactions.shape)\n",
    "df_interactions.head()"
   ]
  },
  {
   "cell_type": "code",
   "execution_count": 6,
   "id": "6e58b7c11213afbb",
   "metadata": {
    "ExecuteTime": {
     "end_time": "2025-01-14T12:37:59.485514Z",
     "start_time": "2025-01-14T12:37:59.441661Z"
    }
   },
   "outputs": [
    {
     "data": {
      "text/plain": [
       "0.9978609301515377"
      ]
     },
     "execution_count": 6,
     "metadata": {},
     "output_type": "execute_result"
    }
   ],
   "source": [
    "# sparsity of dataset\n",
    "n_users = df_interactions['user_id'].nunique()\n",
    "n_items = df_interactions['track_id'].nunique()\n",
    "n_interactions = df_interactions.shape[0]\n",
    "sparsity = 1 - n_interactions / (n_users * n_items)\n",
    "sparsity"
   ]
  },
  {
   "cell_type": "code",
   "execution_count": 7,
   "id": "96f7a550e34a1154",
   "metadata": {
    "ExecuteTime": {
     "end_time": "2025-01-14T12:37:59.579476Z",
     "start_time": "2025-01-14T12:37:59.574695Z"
    }
   },
   "outputs": [
    {
     "data": {
      "text/plain": [
       "35039"
      ]
     },
     "execution_count": 7,
     "metadata": {},
     "output_type": "execute_result"
    }
   ],
   "source": [
    "n_items"
   ]
  },
  {
   "cell_type": "code",
   "execution_count": 8,
   "id": "660c6004",
   "metadata": {
    "ExecuteTime": {
     "end_time": "2025-01-14T12:37:59.747253Z",
     "start_time": "2025-01-14T12:37:59.742880Z"
    }
   },
   "outputs": [
    {
     "data": {
      "text/plain": [
       "67594"
      ]
     },
     "execution_count": 8,
     "metadata": {},
     "output_type": "execute_result"
    }
   ],
   "source": [
    "n_users"
   ]
  },
  {
   "cell_type": "code",
   "execution_count": 9,
   "id": "1e10a91504dded70",
   "metadata": {
    "ExecuteTime": {
     "end_time": "2025-01-14T12:38:02.662745Z",
     "start_time": "2025-01-14T12:37:59.828815Z"
    }
   },
   "outputs": [],
   "source": [
    "# export\n",
    "df_interactions.to_csv(f'../data/userid_trackid_timestamp_{PERIOD_YEAR}.tsv', sep='\\t', index=False)"
   ]
  },
  {
   "cell_type": "code",
   "execution_count": null,
   "id": "29df57c5",
   "metadata": {
    "ExecuteTime": {
     "end_time": "2025-01-14T12:16:39.157116013Z",
     "start_time": "2025-01-14T09:03:17.312168Z"
    }
   },
   "outputs": [],
   "source": []
  }
 ],
 "metadata": {
  "kernelspec": {
   "display_name": "elliot",
   "language": "python",
   "name": "python3"
  },
  "language_info": {
   "codemirror_mode": {
    "name": "ipython",
    "version": 3
   },
   "file_extension": ".py",
   "mimetype": "text/x-python",
   "name": "python",
   "nbconvert_exporter": "python",
   "pygments_lexer": "ipython3",
   "version": "3.8.20"
  }
 },
 "nbformat": 4,
 "nbformat_minor": 5
}
