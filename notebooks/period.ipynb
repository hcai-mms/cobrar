{
 "cells": [
  {
   "cell_type": "code",
   "execution_count": 1,
   "id": "initial_id",
   "metadata": {
    "ExecuteTime": {
     "end_time": "2025-01-14T12:31:43.852666Z",
     "start_time": "2025-01-14T12:31:43.611698Z"
    },
    "collapsed": true
   },
   "outputs": [],
   "source": [
    "import pandas as pd\n",
    "import numpy as np\n",
    "import os\n",
    "import shutil"
   ]
  },
  {
   "cell_type": "code",
   "execution_count": 2,
   "id": "6e624dbeae22feb4",
   "metadata": {
    "ExecuteTime": {
     "end_time": "2025-01-14T12:31:43.860334Z",
     "start_time": "2025-01-14T12:31:43.858104Z"
    }
   },
   "outputs": [],
   "source": [
    "PERIOD_YEAR = '2014'"
   ]
  },
  {
   "cell_type": "code",
   "execution_count": 3,
   "id": "54f686a4400205fa",
   "metadata": {
    "ExecuteTime": {
     "end_time": "2025-01-14T12:33:54.170939Z",
     "start_time": "2025-01-14T12:33:32.251164Z"
    }
   },
   "outputs": [
    {
     "name": "stdout",
     "output_type": "stream",
     "text": [
      "(252984396, 3)\n"
     ]
    },
    {
     "data": {
      "text/html": [
       "<div>\n",
       "<style scoped>\n",
       "    .dataframe tbody tr th:only-of-type {\n",
       "        vertical-align: middle;\n",
       "    }\n",
       "\n",
       "    .dataframe tbody tr th {\n",
       "        vertical-align: top;\n",
       "    }\n",
       "\n",
       "    .dataframe thead th {\n",
       "        text-align: right;\n",
       "    }\n",
       "</style>\n",
       "<table border=\"1\" class=\"dataframe\">\n",
       "  <thead>\n",
       "    <tr style=\"text-align: right;\">\n",
       "      <th></th>\n",
       "      <th>user_id</th>\n",
       "      <th>track_id</th>\n",
       "      <th>timestamp</th>\n",
       "    </tr>\n",
       "  </thead>\n",
       "  <tbody>\n",
       "    <tr>\n",
       "      <th>0</th>\n",
       "      <td>51549</td>\n",
       "      <td>iJTBIGHPjgJcT4Bt</td>\n",
       "      <td>2013-01-27 21:42:38</td>\n",
       "    </tr>\n",
       "    <tr>\n",
       "      <th>1</th>\n",
       "      <td>51549</td>\n",
       "      <td>iJTBIGHPjgJcT4Bt</td>\n",
       "      <td>2013-01-27 21:38:53</td>\n",
       "    </tr>\n",
       "    <tr>\n",
       "      <th>2</th>\n",
       "      <td>51549</td>\n",
       "      <td>iJTBIGHPjgJcT4Bt</td>\n",
       "      <td>2013-01-27 21:35:08</td>\n",
       "    </tr>\n",
       "    <tr>\n",
       "      <th>3</th>\n",
       "      <td>51549</td>\n",
       "      <td>iJTBIGHPjgJcT4Bt</td>\n",
       "      <td>2013-01-27 21:31:23</td>\n",
       "    </tr>\n",
       "    <tr>\n",
       "      <th>4</th>\n",
       "      <td>51549</td>\n",
       "      <td>iJTBIGHPjgJcT4Bt</td>\n",
       "      <td>2013-01-27 21:27:38</td>\n",
       "    </tr>\n",
       "  </tbody>\n",
       "</table>\n",
       "</div>"
      ],
      "text/plain": [
       "   user_id          track_id            timestamp\n",
       "0    51549  iJTBIGHPjgJcT4Bt  2013-01-27 21:42:38\n",
       "1    51549  iJTBIGHPjgJcT4Bt  2013-01-27 21:38:53\n",
       "2    51549  iJTBIGHPjgJcT4Bt  2013-01-27 21:35:08\n",
       "3    51549  iJTBIGHPjgJcT4Bt  2013-01-27 21:31:23\n",
       "4    51549  iJTBIGHPjgJcT4Bt  2013-01-27 21:27:38"
      ]
     },
     "execution_count": 3,
     "metadata": {},
     "output_type": "execute_result"
    }
   ],
   "source": [
    "df_interactions = pd.read_csv('../data/userid_trackid_timestamp.tsv', sep='\\t')\n",
    "print(df_interactions.shape)\n",
    "df_interactions.head()"
   ]
  },
  {
   "cell_type": "code",
   "execution_count": 4,
   "id": "ab4c1a80",
   "metadata": {
    "ExecuteTime": {
     "end_time": "2025-01-14T12:37:31.870426Z",
     "start_time": "2025-01-14T12:37:22.025511Z"
    }
   },
   "outputs": [
    {
     "name": "stdout",
     "output_type": "stream",
     "text": [
      "(33710223, 5)\n"
     ]
    },
    {
     "data": {
      "text/html": [
       "<div>\n",
       "<style scoped>\n",
       "    .dataframe tbody tr th:only-of-type {\n",
       "        vertical-align: middle;\n",
       "    }\n",
       "\n",
       "    .dataframe tbody tr th {\n",
       "        vertical-align: top;\n",
       "    }\n",
       "\n",
       "    .dataframe thead th {\n",
       "        text-align: right;\n",
       "    }\n",
       "</style>\n",
       "<table border=\"1\" class=\"dataframe\">\n",
       "  <thead>\n",
       "    <tr style=\"text-align: right;\">\n",
       "      <th></th>\n",
       "      <th>user_id</th>\n",
       "      <th>track_id</th>\n",
       "      <th>timestamp</th>\n",
       "      <th>year</th>\n",
       "      <th>month</th>\n",
       "    </tr>\n",
       "  </thead>\n",
       "  <tbody>\n",
       "    <tr>\n",
       "      <th>368</th>\n",
       "      <td>24313</td>\n",
       "      <td>u0VSWWDYp8f4jAbF</td>\n",
       "      <td>2014-03-11 23:33:51</td>\n",
       "      <td>2014</td>\n",
       "      <td>2014-03</td>\n",
       "    </tr>\n",
       "    <tr>\n",
       "      <th>369</th>\n",
       "      <td>24313</td>\n",
       "      <td>b3YJnGaS1CGIYBHg</td>\n",
       "      <td>2014-03-11 21:53:19</td>\n",
       "      <td>2014</td>\n",
       "      <td>2014-03</td>\n",
       "    </tr>\n",
       "    <tr>\n",
       "      <th>370</th>\n",
       "      <td>24313</td>\n",
       "      <td>9aU42QoMlPnoec2y</td>\n",
       "      <td>2014-03-10 22:41:10</td>\n",
       "      <td>2014</td>\n",
       "      <td>2014-03</td>\n",
       "    </tr>\n",
       "    <tr>\n",
       "      <th>371</th>\n",
       "      <td>24313</td>\n",
       "      <td>8URFbJvh6yRV8tsp</td>\n",
       "      <td>2014-03-10 22:30:04</td>\n",
       "      <td>2014</td>\n",
       "      <td>2014-03</td>\n",
       "    </tr>\n",
       "    <tr>\n",
       "      <th>372</th>\n",
       "      <td>24313</td>\n",
       "      <td>eIdhO4oir0wtKDsc</td>\n",
       "      <td>2014-03-10 20:34:42</td>\n",
       "      <td>2014</td>\n",
       "      <td>2014-03</td>\n",
       "    </tr>\n",
       "  </tbody>\n",
       "</table>\n",
       "</div>"
      ],
      "text/plain": [
       "     user_id          track_id            timestamp  year    month\n",
       "368    24313  u0VSWWDYp8f4jAbF  2014-03-11 23:33:51  2014  2014-03\n",
       "369    24313  b3YJnGaS1CGIYBHg  2014-03-11 21:53:19  2014  2014-03\n",
       "370    24313  9aU42QoMlPnoec2y  2014-03-10 22:41:10  2014  2014-03\n",
       "371    24313  8URFbJvh6yRV8tsp  2014-03-10 22:30:04  2014  2014-03\n",
       "372    24313  eIdhO4oir0wtKDsc  2014-03-10 20:34:42  2014  2014-03"
      ]
     },
     "execution_count": 4,
     "metadata": {},
     "output_type": "execute_result"
    }
   ],
   "source": [
    "df_interactions['year'] = pd.to_datetime(df_interactions['timestamp']).dt.to_period('Y')\n",
    "df_interactions['month'] = pd.to_datetime(df_interactions['timestamp']).dt.to_period('M')\n",
    "df_interactions = df_interactions[df_interactions['year'] == PERIOD_YEAR]\n",
    "print(df_interactions.shape)\n",
    "df_interactions.head()"
   ]
  },
  {
   "cell_type": "code",
   "execution_count": 5,
   "id": "8bf8f2a7",
   "metadata": {
    "ExecuteTime": {
     "end_time": "2025-01-14T12:37:59.332255Z",
     "start_time": "2025-01-14T12:37:48.890882Z"
    }
   },
   "outputs": [
    {
     "name": "stdout",
     "output_type": "stream",
     "text": [
      "Deleted 24123684 duplicates\n",
      "(4463058, 5)\n"
     ]
    },
    {
     "data": {
      "text/html": [
       "<div>\n",
       "<style scoped>\n",
       "    .dataframe tbody tr th:only-of-type {\n",
       "        vertical-align: middle;\n",
       "    }\n",
       "\n",
       "    .dataframe tbody tr th {\n",
       "        vertical-align: top;\n",
       "    }\n",
       "\n",
       "    .dataframe thead th {\n",
       "        text-align: right;\n",
       "    }\n",
       "</style>\n",
       "<table border=\"1\" class=\"dataframe\">\n",
       "  <thead>\n",
       "    <tr style=\"text-align: right;\">\n",
       "      <th></th>\n",
       "      <th>user_id</th>\n",
       "      <th>track_id</th>\n",
       "      <th>timestamp</th>\n",
       "      <th>year</th>\n",
       "      <th>month</th>\n",
       "    </tr>\n",
       "  </thead>\n",
       "  <tbody>\n",
       "    <tr>\n",
       "      <th>0</th>\n",
       "      <td>117534</td>\n",
       "      <td>hxGBTxhSf7o6b1fz</td>\n",
       "      <td>2014-08-24 19:40:30</td>\n",
       "      <td>2014</td>\n",
       "      <td>2014-08</td>\n",
       "    </tr>\n",
       "    <tr>\n",
       "      <th>9791</th>\n",
       "      <td>117534</td>\n",
       "      <td>fSQrzRe2g3gsEMoq</td>\n",
       "      <td>2014-08-24 19:55:29</td>\n",
       "      <td>2014</td>\n",
       "      <td>2014-08</td>\n",
       "    </tr>\n",
       "    <tr>\n",
       "      <th>19557</th>\n",
       "      <td>117534</td>\n",
       "      <td>I53KHO4GCKMeUKUN</td>\n",
       "      <td>2014-08-24 19:47:52</td>\n",
       "      <td>2014</td>\n",
       "      <td>2014-08</td>\n",
       "    </tr>\n",
       "    <tr>\n",
       "      <th>29295</th>\n",
       "      <td>117534</td>\n",
       "      <td>nd4vejLsgjjhl55B</td>\n",
       "      <td>2014-08-24 19:36:23</td>\n",
       "      <td>2014</td>\n",
       "      <td>2014-08</td>\n",
       "    </tr>\n",
       "    <tr>\n",
       "      <th>39030</th>\n",
       "      <td>117534</td>\n",
       "      <td>WR82nGL7vKxitC5Q</td>\n",
       "      <td>2014-08-24 19:51:04</td>\n",
       "      <td>2014</td>\n",
       "      <td>2014-08</td>\n",
       "    </tr>\n",
       "  </tbody>\n",
       "</table>\n",
       "</div>"
      ],
      "text/plain": [
       "       user_id          track_id            timestamp  year    month\n",
       "0       117534  hxGBTxhSf7o6b1fz  2014-08-24 19:40:30  2014  2014-08\n",
       "9791    117534  fSQrzRe2g3gsEMoq  2014-08-24 19:55:29  2014  2014-08\n",
       "19557   117534  I53KHO4GCKMeUKUN  2014-08-24 19:47:52  2014  2014-08\n",
       "29295   117534  nd4vejLsgjjhl55B  2014-08-24 19:36:23  2014  2014-08\n",
       "39030   117534  WR82nGL7vKxitC5Q  2014-08-24 19:51:04  2014  2014-08"
      ]
     },
     "execution_count": 5,
     "metadata": {},
     "output_type": "execute_result"
    }
   ],
   "source": [
    "# binarization: we convert the interactions to binary implicit feedback with a threshold of 2 on the interaction counts (reducing false-positive interactions)\n",
    "def filter_interactions(listening_history: pd.DataFrame, min_interactions: int = 2, verbose: bool = True):\n",
    "    lhs_count = listening_history.value_counts(subset=['user_id', 'track_id'])\n",
    "    lhs_count = lhs_count[lhs_count >= min_interactions]\n",
    "    listening_history = listening_history.set_index(['user_id', 'track_id']).loc[lhs_count.index]\n",
    "    listening_history = listening_history.reset_index()\n",
    "    return listening_history\n",
    "\n",
    "def delete_duplicates(listening_history: pd.DataFrame):\n",
    "    initial_shape = listening_history.shape\n",
    "    listening_history = listening_history.drop_duplicates(subset=['user_id', 'track_id'], keep='first')\n",
    "    print(f\"Deleted {initial_shape[0] - listening_history.shape[0]} duplicates\")\n",
    "    return listening_history\n",
    "\n",
    "df_interactions = filter_interactions(df_interactions, min_interactions=2)\n",
    "df_interactions = delete_duplicates(df_interactions)\n",
    "print(df_interactions.shape)\n",
    "df_interactions.head()"
   ]
  },
  {
   "cell_type": "code",
   "execution_count": 6,
   "id": "6e58b7c11213afbb",
   "metadata": {
    "ExecuteTime": {
     "end_time": "2025-01-14T12:37:59.485514Z",
     "start_time": "2025-01-14T12:37:59.441661Z"
    }
   },
   "outputs": [
    {
     "data": {
      "text/plain": [
       "0.9976135897290934"
      ]
     },
     "execution_count": 6,
     "metadata": {},
     "output_type": "execute_result"
    }
   ],
   "source": [
    "# sparsity of dataset\n",
    "n_users = df_interactions['user_id'].nunique()\n",
    "n_items = df_interactions['track_id'].nunique()\n",
    "n_interactions = df_interactions.shape[0]\n",
    "sparsity = 1 - n_interactions / (n_users * n_items)\n",
    "sparsity"
   ]
  },
  {
   "cell_type": "code",
   "execution_count": 7,
   "id": "96f7a550e34a1154",
   "metadata": {
    "ExecuteTime": {
     "end_time": "2025-01-14T12:37:59.579476Z",
     "start_time": "2025-01-14T12:37:59.574695Z"
    }
   },
   "outputs": [
    {
     "data": {
      "text/plain": [
       "37781"
      ]
     },
     "execution_count": 7,
     "metadata": {},
     "output_type": "execute_result"
    }
   ],
   "source": [
    "n_items"
   ]
  },
  {
   "cell_type": "code",
   "execution_count": 8,
   "id": "660c6004",
   "metadata": {
    "ExecuteTime": {
     "end_time": "2025-01-14T12:37:59.747253Z",
     "start_time": "2025-01-14T12:37:59.742880Z"
    }
   },
   "outputs": [
    {
     "data": {
      "text/plain": [
       "49501"
      ]
     },
     "execution_count": 8,
     "metadata": {},
     "output_type": "execute_result"
    }
   ],
   "source": [
    "n_users"
   ]
  },
  {
   "cell_type": "code",
   "execution_count": 9,
   "id": "1e10a91504dded70",
   "metadata": {
    "ExecuteTime": {
     "end_time": "2025-01-14T12:38:02.662745Z",
     "start_time": "2025-01-14T12:37:59.828815Z"
    }
   },
   "outputs": [],
   "source": [
    "# export\n",
    "df_interactions.to_csv(f'../data/userid_trackid_timestamp_{PERIOD_YEAR}.tsv', sep='\\t', index=False)"
   ]
  },
  {
   "cell_type": "code",
   "execution_count": null,
   "id": "29df57c5",
   "metadata": {
    "ExecuteTime": {
     "end_time": "2025-01-14T12:16:39.157116013Z",
     "start_time": "2025-01-14T09:03:17.312168Z"
    }
   },
   "outputs": [],
   "source": []
  }
 ],
 "metadata": {
  "kernelspec": {
   "display_name": "elliot",
   "language": "python",
   "name": "python3"
  },
  "language_info": {
   "codemirror_mode": {
    "name": "ipython",
    "version": 3
   },
   "file_extension": ".py",
   "mimetype": "text/x-python",
   "name": "python",
   "nbconvert_exporter": "python",
   "pygments_lexer": "ipython3",
   "version": "3.8.20"
  }
 },
 "nbformat": 4,
 "nbformat_minor": 5
}
