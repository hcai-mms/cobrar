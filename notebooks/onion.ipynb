{
 "cells": [
  {
   "cell_type": "code",
   "execution_count": 1,
   "id": "initial_id",
   "metadata": {
    "ExecuteTime": {
     "end_time": "2025-01-14T12:40:11.765281Z",
     "start_time": "2025-01-14T12:40:11.605618Z"
    },
    "collapsed": true
   },
   "outputs": [],
   "source": [
    "import pandas as pd\n",
    "import numpy as np\n",
    "import os\n",
    "import shutil"
   ]
  },
  {
   "cell_type": "code",
   "execution_count": 2,
   "id": "54f686a4400205fa",
   "metadata": {
    "ExecuteTime": {
     "end_time": "2025-01-14T12:40:12.167349Z",
     "start_time": "2025-01-14T12:40:11.776798Z"
    }
   },
   "outputs": [
    {
     "name": "stdout",
     "output_type": "stream",
     "text": [
      "(4463058, 5)\n"
     ]
    },
    {
     "data": {
      "text/html": [
       "<div>\n",
       "<style scoped>\n",
       "    .dataframe tbody tr th:only-of-type {\n",
       "        vertical-align: middle;\n",
       "    }\n",
       "\n",
       "    .dataframe tbody tr th {\n",
       "        vertical-align: top;\n",
       "    }\n",
       "\n",
       "    .dataframe thead th {\n",
       "        text-align: right;\n",
       "    }\n",
       "</style>\n",
       "<table border=\"1\" class=\"dataframe\">\n",
       "  <thead>\n",
       "    <tr style=\"text-align: right;\">\n",
       "      <th></th>\n",
       "      <th>user_id</th>\n",
       "      <th>track_id</th>\n",
       "      <th>timestamp</th>\n",
       "      <th>year</th>\n",
       "      <th>month</th>\n",
       "    </tr>\n",
       "  </thead>\n",
       "  <tbody>\n",
       "    <tr>\n",
       "      <th>0</th>\n",
       "      <td>117534</td>\n",
       "      <td>hxGBTxhSf7o6b1fz</td>\n",
       "      <td>2014-08-24 19:40:30</td>\n",
       "      <td>2014</td>\n",
       "      <td>2014-08</td>\n",
       "    </tr>\n",
       "    <tr>\n",
       "      <th>1</th>\n",
       "      <td>117534</td>\n",
       "      <td>fSQrzRe2g3gsEMoq</td>\n",
       "      <td>2014-08-24 19:55:29</td>\n",
       "      <td>2014</td>\n",
       "      <td>2014-08</td>\n",
       "    </tr>\n",
       "    <tr>\n",
       "      <th>2</th>\n",
       "      <td>117534</td>\n",
       "      <td>I53KHO4GCKMeUKUN</td>\n",
       "      <td>2014-08-24 19:47:52</td>\n",
       "      <td>2014</td>\n",
       "      <td>2014-08</td>\n",
       "    </tr>\n",
       "    <tr>\n",
       "      <th>3</th>\n",
       "      <td>117534</td>\n",
       "      <td>nd4vejLsgjjhl55B</td>\n",
       "      <td>2014-08-24 19:36:23</td>\n",
       "      <td>2014</td>\n",
       "      <td>2014-08</td>\n",
       "    </tr>\n",
       "    <tr>\n",
       "      <th>4</th>\n",
       "      <td>117534</td>\n",
       "      <td>WR82nGL7vKxitC5Q</td>\n",
       "      <td>2014-08-24 19:51:04</td>\n",
       "      <td>2014</td>\n",
       "      <td>2014-08</td>\n",
       "    </tr>\n",
       "  </tbody>\n",
       "</table>\n",
       "</div>"
      ],
      "text/plain": [
       "   user_id          track_id            timestamp  year    month\n",
       "0   117534  hxGBTxhSf7o6b1fz  2014-08-24 19:40:30  2014  2014-08\n",
       "1   117534  fSQrzRe2g3gsEMoq  2014-08-24 19:55:29  2014  2014-08\n",
       "2   117534  I53KHO4GCKMeUKUN  2014-08-24 19:47:52  2014  2014-08\n",
       "3   117534  nd4vejLsgjjhl55B  2014-08-24 19:36:23  2014  2014-08\n",
       "4   117534  WR82nGL7vKxitC5Q  2014-08-24 19:51:04  2014  2014-08"
      ]
     },
     "execution_count": 2,
     "metadata": {},
     "output_type": "execute_result"
    }
   ],
   "source": [
    "df_interactions = pd.read_csv('../data/userid_trackid_timestamp_2014.tsv', sep='\\t')\n",
    "print(df_interactions.shape)\n",
    "df_interactions.head()"
   ]
  },
  {
   "cell_type": "code",
   "execution_count": 3,
   "id": "ab4c1a80",
   "metadata": {
    "ExecuteTime": {
     "end_time": "2025-01-14T12:40:17.481773Z",
     "start_time": "2025-01-14T12:40:17.450908Z"
    }
   },
   "outputs": [
    {
     "name": "stdout",
     "output_type": "stream",
     "text": [
      "(661036, 5)\n"
     ]
    },
    {
     "data": {
      "text/html": [
       "<div>\n",
       "<style scoped>\n",
       "    .dataframe tbody tr th:only-of-type {\n",
       "        vertical-align: middle;\n",
       "    }\n",
       "\n",
       "    .dataframe tbody tr th {\n",
       "        vertical-align: top;\n",
       "    }\n",
       "\n",
       "    .dataframe thead th {\n",
       "        text-align: right;\n",
       "    }\n",
       "</style>\n",
       "<table border=\"1\" class=\"dataframe\">\n",
       "  <thead>\n",
       "    <tr style=\"text-align: right;\">\n",
       "      <th></th>\n",
       "      <th>user_id</th>\n",
       "      <th>track_id</th>\n",
       "      <th>timestamp</th>\n",
       "      <th>year</th>\n",
       "      <th>month</th>\n",
       "    </tr>\n",
       "  </thead>\n",
       "  <tbody>\n",
       "    <tr>\n",
       "      <th>47</th>\n",
       "      <td>105881</td>\n",
       "      <td>ccuPZ7Z9obk3Efg8</td>\n",
       "      <td>2014-03-05 11:44:07</td>\n",
       "      <td>2014</td>\n",
       "      <td>2014-03</td>\n",
       "    </tr>\n",
       "    <tr>\n",
       "      <th>49</th>\n",
       "      <td>34658</td>\n",
       "      <td>Kq5zEzdS2atiI6yA</td>\n",
       "      <td>2014-03-29 10:10:01</td>\n",
       "      <td>2014</td>\n",
       "      <td>2014-03</td>\n",
       "    </tr>\n",
       "    <tr>\n",
       "      <th>60</th>\n",
       "      <td>40093</td>\n",
       "      <td>CWJYGGxMa4ppYUvD</td>\n",
       "      <td>2014-03-13 03:04:50</td>\n",
       "      <td>2014</td>\n",
       "      <td>2014-03</td>\n",
       "    </tr>\n",
       "    <tr>\n",
       "      <th>76</th>\n",
       "      <td>40093</td>\n",
       "      <td>rYKZ2u8TGNLDuFFx</td>\n",
       "      <td>2014-03-17 19:53:20</td>\n",
       "      <td>2014</td>\n",
       "      <td>2014-03</td>\n",
       "    </tr>\n",
       "    <tr>\n",
       "      <th>81</th>\n",
       "      <td>4899</td>\n",
       "      <td>LtbprkKTPfQwCdwI</td>\n",
       "      <td>2014-03-19 23:24:40</td>\n",
       "      <td>2014</td>\n",
       "      <td>2014-03</td>\n",
       "    </tr>\n",
       "  </tbody>\n",
       "</table>\n",
       "</div>"
      ],
      "text/plain": [
       "    user_id          track_id            timestamp  year    month\n",
       "47   105881  ccuPZ7Z9obk3Efg8  2014-03-05 11:44:07  2014  2014-03\n",
       "49    34658  Kq5zEzdS2atiI6yA  2014-03-29 10:10:01  2014  2014-03\n",
       "60    40093  CWJYGGxMa4ppYUvD  2014-03-13 03:04:50  2014  2014-03\n",
       "76    40093  rYKZ2u8TGNLDuFFx  2014-03-17 19:53:20  2014  2014-03\n",
       "81     4899  LtbprkKTPfQwCdwI  2014-03-19 23:24:40  2014  2014-03"
      ]
     },
     "execution_count": 3,
     "metadata": {},
     "output_type": "execute_result"
    }
   ],
   "source": [
    "df_interactions = df_interactions[df_interactions['month'] == '2014-03']\n",
    "print(df_interactions.shape)\n",
    "df_interactions.head()"
   ]
  },
  {
   "cell_type": "code",
   "execution_count": 4,
   "id": "6e58b7c11213afbb",
   "metadata": {
    "ExecuteTime": {
     "end_time": "2025-01-14T09:03:15.846229Z",
     "start_time": "2025-01-14T09:03:15.810267Z"
    }
   },
   "outputs": [
    {
     "data": {
      "text/plain": [
       "0.9994052629523265"
      ]
     },
     "execution_count": 4,
     "metadata": {},
     "output_type": "execute_result"
    }
   ],
   "source": [
    "# sparsity of dataset\n",
    "n_users = df_interactions['user_id'].nunique()\n",
    "n_items = df_interactions['track_id'].nunique()\n",
    "n_interactions = df_interactions.shape[0]\n",
    "sparsity = 1 - n_interactions / (n_users * n_items)\n",
    "sparsity"
   ]
  },
  {
   "cell_type": "code",
   "execution_count": 5,
   "id": "96f7a550e34a1154",
   "metadata": {
    "ExecuteTime": {
     "end_time": "2025-01-14T09:03:15.927160Z",
     "start_time": "2025-01-14T09:03:15.922712Z"
    }
   },
   "outputs": [
    {
     "data": {
      "text/plain": [
       "33058"
      ]
     },
     "execution_count": 5,
     "metadata": {},
     "output_type": "execute_result"
    }
   ],
   "source": [
    "n_items"
   ]
  },
  {
   "cell_type": "code",
   "execution_count": 6,
   "id": "660c6004",
   "metadata": {
    "ExecuteTime": {
     "end_time": "2025-01-14T09:03:16.001630Z",
     "start_time": "2025-01-14T09:03:15.998247Z"
    }
   },
   "outputs": [
    {
     "data": {
      "text/plain": [
       "33622"
      ]
     },
     "execution_count": 6,
     "metadata": {},
     "output_type": "execute_result"
    }
   ],
   "source": [
    "n_users"
   ]
  },
  {
   "cell_type": "code",
   "execution_count": 7,
   "id": "1e10a91504dded70",
   "metadata": {
    "ExecuteTime": {
     "end_time": "2025-01-14T09:03:17.292660Z",
     "start_time": "2025-01-14T09:03:16.089121Z"
    }
   },
   "outputs": [],
   "source": [
    "# export\n",
    "df_interactions.to_csv('../data/userid_trackid_timestamp_onion.tsv', sep='\\t', index=False)"
   ]
  }
 ],
 "metadata": {
  "kernelspec": {
   "display_name": "elliot",
   "language": "python",
   "name": "python3"
  },
  "language_info": {
   "codemirror_mode": {
    "name": "ipython",
    "version": 3
   },
   "file_extension": ".py",
   "mimetype": "text/x-python",
   "name": "python",
   "nbconvert_exporter": "python",
   "pygments_lexer": "ipython3",
   "version": "3.8.20"
  }
 },
 "nbformat": 4,
 "nbformat_minor": 5
}
