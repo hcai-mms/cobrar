{
 "cells": [
  {
   "cell_type": "code",
   "execution_count": 1,
   "id": "initial_id",
   "metadata": {
    "ExecuteTime": {
     "end_time": "2024-11-20T12:01:02.486716Z",
     "start_time": "2024-11-20T12:01:02.316401Z"
    },
    "collapsed": true
   },
   "outputs": [],
   "source": [
    "import pandas as pd\n",
    "import numpy as np\n",
    "import os\n",
    "import shutil"
   ]
  },
  {
   "cell_type": "code",
   "execution_count": 2,
   "id": "54f686a4400205fa",
   "metadata": {
    "ExecuteTime": {
     "end_time": "2024-11-20T12:01:22.444570Z",
     "start_time": "2024-11-20T12:01:17.981234Z"
    }
   },
   "outputs": [
    {
     "name": "stdout",
     "output_type": "stream",
     "text": [
      "(252984396, 3)\n"
     ]
    },
    {
     "data": {
      "text/html": [
       "<div>\n",
       "<style scoped>\n",
       "    .dataframe tbody tr th:only-of-type {\n",
       "        vertical-align: middle;\n",
       "    }\n",
       "\n",
       "    .dataframe tbody tr th {\n",
       "        vertical-align: top;\n",
       "    }\n",
       "\n",
       "    .dataframe thead th {\n",
       "        text-align: right;\n",
       "    }\n",
       "</style>\n",
       "<table border=\"1\" class=\"dataframe\">\n",
       "  <thead>\n",
       "    <tr style=\"text-align: right;\">\n",
       "      <th></th>\n",
       "      <th>user_id</th>\n",
       "      <th>track_id</th>\n",
       "      <th>timestamp</th>\n",
       "    </tr>\n",
       "  </thead>\n",
       "  <tbody>\n",
       "    <tr>\n",
       "      <th>0</th>\n",
       "      <td>51549</td>\n",
       "      <td>iJTBIGHPjgJcT4Bt</td>\n",
       "      <td>2013-01-27 21:42:38</td>\n",
       "    </tr>\n",
       "    <tr>\n",
       "      <th>1</th>\n",
       "      <td>51549</td>\n",
       "      <td>iJTBIGHPjgJcT4Bt</td>\n",
       "      <td>2013-01-27 21:38:53</td>\n",
       "    </tr>\n",
       "    <tr>\n",
       "      <th>2</th>\n",
       "      <td>51549</td>\n",
       "      <td>iJTBIGHPjgJcT4Bt</td>\n",
       "      <td>2013-01-27 21:35:08</td>\n",
       "    </tr>\n",
       "    <tr>\n",
       "      <th>3</th>\n",
       "      <td>51549</td>\n",
       "      <td>iJTBIGHPjgJcT4Bt</td>\n",
       "      <td>2013-01-27 21:31:23</td>\n",
       "    </tr>\n",
       "    <tr>\n",
       "      <th>4</th>\n",
       "      <td>51549</td>\n",
       "      <td>iJTBIGHPjgJcT4Bt</td>\n",
       "      <td>2013-01-27 21:27:38</td>\n",
       "    </tr>\n",
       "  </tbody>\n",
       "</table>\n",
       "</div>"
      ],
      "text/plain": [
       "   user_id          track_id            timestamp\n",
       "0    51549  iJTBIGHPjgJcT4Bt  2013-01-27 21:42:38\n",
       "1    51549  iJTBIGHPjgJcT4Bt  2013-01-27 21:38:53\n",
       "2    51549  iJTBIGHPjgJcT4Bt  2013-01-27 21:35:08\n",
       "3    51549  iJTBIGHPjgJcT4Bt  2013-01-27 21:31:23\n",
       "4    51549  iJTBIGHPjgJcT4Bt  2013-01-27 21:27:38"
      ]
     },
     "execution_count": 2,
     "metadata": {},
     "output_type": "execute_result"
    }
   ],
   "source": [
    "df_interactions = pd.read_csv('../data/userid_trackid_timestamp.tsv', sep='\\t')\n",
    "print(df_interactions.shape)\n",
    "df_interactions.head()"
   ]
  },
  {
   "cell_type": "code",
   "execution_count": 3,
   "id": "ab4c1a80",
   "metadata": {},
   "outputs": [
    {
     "name": "stdout",
     "output_type": "stream",
     "text": [
      "(3068523, 4)\n"
     ]
    },
    {
     "data": {
      "text/html": [
       "<div>\n",
       "<style scoped>\n",
       "    .dataframe tbody tr th:only-of-type {\n",
       "        vertical-align: middle;\n",
       "    }\n",
       "\n",
       "    .dataframe tbody tr th {\n",
       "        vertical-align: top;\n",
       "    }\n",
       "\n",
       "    .dataframe thead th {\n",
       "        text-align: right;\n",
       "    }\n",
       "</style>\n",
       "<table border=\"1\" class=\"dataframe\">\n",
       "  <thead>\n",
       "    <tr style=\"text-align: right;\">\n",
       "      <th></th>\n",
       "      <th>user_id</th>\n",
       "      <th>track_id</th>\n",
       "      <th>timestamp</th>\n",
       "      <th>period</th>\n",
       "    </tr>\n",
       "  </thead>\n",
       "  <tbody>\n",
       "    <tr>\n",
       "      <th>56455621</th>\n",
       "      <td>20390</td>\n",
       "      <td>sE7pArXzW3mpEymq</td>\n",
       "      <td>2014-05-05 08:44:31</td>\n",
       "      <td>2014-05</td>\n",
       "    </tr>\n",
       "    <tr>\n",
       "      <th>56455622</th>\n",
       "      <td>20390</td>\n",
       "      <td>sE7pArXzW3mpEymq</td>\n",
       "      <td>2014-05-05 08:11:36</td>\n",
       "      <td>2014-05</td>\n",
       "    </tr>\n",
       "    <tr>\n",
       "      <th>56455623</th>\n",
       "      <td>20390</td>\n",
       "      <td>SDdw3A8XqMjjEYGt</td>\n",
       "      <td>2014-05-05 07:42:45</td>\n",
       "      <td>2014-05</td>\n",
       "    </tr>\n",
       "    <tr>\n",
       "      <th>56455624</th>\n",
       "      <td>20390</td>\n",
       "      <td>NRiXKeJztSerCkMS</td>\n",
       "      <td>2014-05-05 07:29:37</td>\n",
       "      <td>2014-05</td>\n",
       "    </tr>\n",
       "    <tr>\n",
       "      <th>56455625</th>\n",
       "      <td>20390</td>\n",
       "      <td>cwXiTYqrj7AOGn7x</td>\n",
       "      <td>2014-05-05 07:14:17</td>\n",
       "      <td>2014-05</td>\n",
       "    </tr>\n",
       "  </tbody>\n",
       "</table>\n",
       "</div>"
      ],
      "text/plain": [
       "          user_id          track_id            timestamp   period\n",
       "56455621    20390  sE7pArXzW3mpEymq  2014-05-05 08:44:31  2014-05\n",
       "56455622    20390  sE7pArXzW3mpEymq  2014-05-05 08:11:36  2014-05\n",
       "56455623    20390  SDdw3A8XqMjjEYGt  2014-05-05 07:42:45  2014-05\n",
       "56455624    20390  NRiXKeJztSerCkMS  2014-05-05 07:29:37  2014-05\n",
       "56455625    20390  cwXiTYqrj7AOGn7x  2014-05-05 07:14:17  2014-05"
      ]
     },
     "execution_count": 3,
     "metadata": {},
     "output_type": "execute_result"
    }
   ],
   "source": [
    "df_interactions['period'] = pd.to_datetime(df_interactions['timestamp']).dt.to_period('M')\n",
    "df_interactions = df_interactions[df_interactions['period'] == '2014-05']\n",
    "print(df_interactions.shape)\n",
    "df_interactions.head()"
   ]
  },
  {
   "cell_type": "code",
   "execution_count": 4,
   "id": "8bf8f2a7",
   "metadata": {},
   "outputs": [
    {
     "name": "stdout",
     "output_type": "stream",
     "text": [
      "Deleted 1577335 duplicates\n",
      "(473815, 4)\n"
     ]
    },
    {
     "data": {
      "text/html": [
       "<div>\n",
       "<style scoped>\n",
       "    .dataframe tbody tr th:only-of-type {\n",
       "        vertical-align: middle;\n",
       "    }\n",
       "\n",
       "    .dataframe tbody tr th {\n",
       "        vertical-align: top;\n",
       "    }\n",
       "\n",
       "    .dataframe thead th {\n",
       "        text-align: right;\n",
       "    }\n",
       "</style>\n",
       "<table border=\"1\" class=\"dataframe\">\n",
       "  <thead>\n",
       "    <tr style=\"text-align: right;\">\n",
       "      <th></th>\n",
       "      <th>user_id</th>\n",
       "      <th>track_id</th>\n",
       "      <th>timestamp</th>\n",
       "      <th>period</th>\n",
       "    </tr>\n",
       "  </thead>\n",
       "  <tbody>\n",
       "    <tr>\n",
       "      <th>0</th>\n",
       "      <td>117534</td>\n",
       "      <td>hxGBTxhSf7o6b1fz</td>\n",
       "      <td>2014-05-31 14:37:22</td>\n",
       "      <td>2014-05</td>\n",
       "    </tr>\n",
       "    <tr>\n",
       "      <th>2289</th>\n",
       "      <td>117534</td>\n",
       "      <td>fSQrzRe2g3gsEMoq</td>\n",
       "      <td>2014-05-31 14:52:28</td>\n",
       "      <td>2014-05</td>\n",
       "    </tr>\n",
       "    <tr>\n",
       "      <th>4576</th>\n",
       "      <td>117534</td>\n",
       "      <td>I53KHO4GCKMeUKUN</td>\n",
       "      <td>2014-05-31 14:44:53</td>\n",
       "      <td>2014-05</td>\n",
       "    </tr>\n",
       "    <tr>\n",
       "      <th>6863</th>\n",
       "      <td>117534</td>\n",
       "      <td>nd4vejLsgjjhl55B</td>\n",
       "      <td>2014-05-31 14:33:22</td>\n",
       "      <td>2014-05</td>\n",
       "    </tr>\n",
       "    <tr>\n",
       "      <th>9130</th>\n",
       "      <td>117534</td>\n",
       "      <td>WR82nGL7vKxitC5Q</td>\n",
       "      <td>2014-05-31 14:48:08</td>\n",
       "      <td>2014-05</td>\n",
       "    </tr>\n",
       "  </tbody>\n",
       "</table>\n",
       "</div>"
      ],
      "text/plain": [
       "      user_id          track_id            timestamp   period\n",
       "0      117534  hxGBTxhSf7o6b1fz  2014-05-31 14:37:22  2014-05\n",
       "2289   117534  fSQrzRe2g3gsEMoq  2014-05-31 14:52:28  2014-05\n",
       "4576   117534  I53KHO4GCKMeUKUN  2014-05-31 14:44:53  2014-05\n",
       "6863   117534  nd4vejLsgjjhl55B  2014-05-31 14:33:22  2014-05\n",
       "9130   117534  WR82nGL7vKxitC5Q  2014-05-31 14:48:08  2014-05"
      ]
     },
     "execution_count": 4,
     "metadata": {},
     "output_type": "execute_result"
    }
   ],
   "source": [
    "# binarization: we convert the interactions to binary implicit feedback with a threshold of 2 on the interaction counts (reducing false-positive interactions)\n",
    "def filter_interactions(listening_history: pd.DataFrame, min_interactions: int = 2, verbose: bool = True):\n",
    "    lhs_count = listening_history.value_counts(subset=['user_id', 'track_id'])\n",
    "    lhs_count = lhs_count[lhs_count >= min_interactions]\n",
    "    listening_history = listening_history.set_index(['user_id', 'track_id']).loc[lhs_count.index]\n",
    "    listening_history = listening_history.reset_index()\n",
    "    return listening_history\n",
    "\n",
    "def delete_duplicates(listening_history: pd.DataFrame):\n",
    "    initial_shape = listening_history.shape\n",
    "    listening_history = listening_history.drop_duplicates(subset=['user_id', 'track_id'], keep='first')\n",
    "    print(f\"Deleted {initial_shape[0] - listening_history.shape[0]} duplicates\")\n",
    "    return listening_history\n",
    "\n",
    "df_interactions = filter_interactions(df_interactions, min_interactions=2)\n",
    "df_interactions = delete_duplicates(df_interactions)\n",
    "print(df_interactions.shape)\n",
    "df_interactions.head()"
   ]
  },
  {
   "cell_type": "code",
   "execution_count": 5,
   "id": "6e58b7c11213afbb",
   "metadata": {
    "ExecuteTime": {
     "end_time": "2024-11-20T12:01:22.987979Z",
     "start_time": "2024-11-20T12:01:22.978139Z"
    }
   },
   "outputs": [
    {
     "data": {
      "text/plain": [
       "0.9994916070473286"
      ]
     },
     "execution_count": 5,
     "metadata": {},
     "output_type": "execute_result"
    }
   ],
   "source": [
    "# sparsity of dataset\n",
    "n_users = df_interactions['user_id'].nunique()\n",
    "n_items = df_interactions['track_id'].nunique()\n",
    "n_interactions = df_interactions.shape[0]\n",
    "sparsity = 1 - n_interactions / (n_users * n_items)\n",
    "sparsity"
   ]
  },
  {
   "cell_type": "code",
   "execution_count": 6,
   "id": "96f7a550e34a1154",
   "metadata": {
    "ExecuteTime": {
     "end_time": "2024-11-20T12:02:00.048631Z",
     "start_time": "2024-11-20T12:02:00.043323Z"
    }
   },
   "outputs": [
    {
     "data": {
      "text/plain": [
       "32355"
      ]
     },
     "execution_count": 6,
     "metadata": {},
     "output_type": "execute_result"
    }
   ],
   "source": [
    "n_items"
   ]
  },
  {
   "cell_type": "code",
   "execution_count": 7,
   "id": "660c6004",
   "metadata": {},
   "outputs": [
    {
     "data": {
      "text/plain": [
       "28805"
      ]
     },
     "execution_count": 7,
     "metadata": {},
     "output_type": "execute_result"
    }
   ],
   "source": [
    "n_users"
   ]
  },
  {
   "cell_type": "code",
   "execution_count": 8,
   "id": "1e10a91504dded70",
   "metadata": {
    "ExecuteTime": {
     "end_time": "2024-11-20T12:02:27.752878Z",
     "start_time": "2024-11-20T12:02:27.606901Z"
    }
   },
   "outputs": [],
   "source": [
    "# export\n",
    "df_interactions.to_csv('../data/userid_trackid_timestamp_onion.tsv', sep='\\t', index=False)"
   ]
  },
  {
   "cell_type": "code",
   "execution_count": null,
   "id": "29df57c5",
   "metadata": {},
   "outputs": [],
   "source": []
  }
 ],
 "metadata": {
  "kernelspec": {
   "display_name": "elliot",
   "language": "python",
   "name": "python3"
  },
  "language_info": {
   "codemirror_mode": {
    "name": "ipython",
    "version": 3
   },
   "file_extension": ".py",
   "mimetype": "text/x-python",
   "name": "python",
   "nbconvert_exporter": "python",
   "pygments_lexer": "ipython3",
   "version": "3.8.20"
  }
 },
 "nbformat": 4,
 "nbformat_minor": 5
}
