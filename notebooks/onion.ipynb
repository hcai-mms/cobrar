{
 "cells": [
  {
   "cell_type": "code",
   "execution_count": 3,
   "id": "initial_id",
   "metadata": {
    "ExecuteTime": {
     "end_time": "2024-11-20T12:01:02.486716Z",
     "start_time": "2024-11-20T12:01:02.316401Z"
    },
    "collapsed": true
   },
   "outputs": [],
   "source": [
    "import pandas as pd\n",
    "import numpy as np\n",
    "import os\n",
    "import shutil"
   ]
  },
  {
   "cell_type": "code",
   "execution_count": 9,
   "id": "54f686a4400205fa",
   "metadata": {
    "ExecuteTime": {
     "end_time": "2024-11-20T12:01:22.444570Z",
     "start_time": "2024-11-20T12:01:17.981234Z"
    }
   },
   "outputs": [
    {
     "name": "stdout",
     "output_type": "stream",
     "text": [
      "(252984396, 3)\n"
     ]
    },
    {
     "data": {
      "text/html": [
       "<div>\n",
       "<style scoped>\n",
       "    .dataframe tbody tr th:only-of-type {\n",
       "        vertical-align: middle;\n",
       "    }\n",
       "\n",
       "    .dataframe tbody tr th {\n",
       "        vertical-align: top;\n",
       "    }\n",
       "\n",
       "    .dataframe thead th {\n",
       "        text-align: right;\n",
       "    }\n",
       "</style>\n",
       "<table border=\"1\" class=\"dataframe\">\n",
       "  <thead>\n",
       "    <tr style=\"text-align: right;\">\n",
       "      <th></th>\n",
       "      <th>user_id</th>\n",
       "      <th>track_id</th>\n",
       "      <th>timestamp</th>\n",
       "    </tr>\n",
       "  </thead>\n",
       "  <tbody>\n",
       "    <tr>\n",
       "      <th>0</th>\n",
       "      <td>51549</td>\n",
       "      <td>iJTBIGHPjgJcT4Bt</td>\n",
       "      <td>2013-01-27 21:42:38</td>\n",
       "    </tr>\n",
       "    <tr>\n",
       "      <th>1</th>\n",
       "      <td>51549</td>\n",
       "      <td>iJTBIGHPjgJcT4Bt</td>\n",
       "      <td>2013-01-27 21:38:53</td>\n",
       "    </tr>\n",
       "    <tr>\n",
       "      <th>2</th>\n",
       "      <td>51549</td>\n",
       "      <td>iJTBIGHPjgJcT4Bt</td>\n",
       "      <td>2013-01-27 21:35:08</td>\n",
       "    </tr>\n",
       "    <tr>\n",
       "      <th>3</th>\n",
       "      <td>51549</td>\n",
       "      <td>iJTBIGHPjgJcT4Bt</td>\n",
       "      <td>2013-01-27 21:31:23</td>\n",
       "    </tr>\n",
       "    <tr>\n",
       "      <th>4</th>\n",
       "      <td>51549</td>\n",
       "      <td>iJTBIGHPjgJcT4Bt</td>\n",
       "      <td>2013-01-27 21:27:38</td>\n",
       "    </tr>\n",
       "  </tbody>\n",
       "</table>\n",
       "</div>"
      ],
      "text/plain": [
       "   user_id          track_id            timestamp\n",
       "0    51549  iJTBIGHPjgJcT4Bt  2013-01-27 21:42:38\n",
       "1    51549  iJTBIGHPjgJcT4Bt  2013-01-27 21:38:53\n",
       "2    51549  iJTBIGHPjgJcT4Bt  2013-01-27 21:35:08\n",
       "3    51549  iJTBIGHPjgJcT4Bt  2013-01-27 21:31:23\n",
       "4    51549  iJTBIGHPjgJcT4Bt  2013-01-27 21:27:38"
      ]
     },
     "execution_count": 9,
     "metadata": {},
     "output_type": "execute_result"
    }
   ],
   "source": [
    "df_interactions = pd.read_csv('../data/userid_trackid_timestamp.tsv', sep='\\t')\n",
    "print(df_interactions.shape)\n",
    "df_interactions.head()"
   ]
  },
  {
   "cell_type": "code",
   "execution_count": 10,
   "id": "ab4c1a80",
   "metadata": {},
   "outputs": [
    {
     "name": "stdout",
     "output_type": "stream",
     "text": [
      "(17285524, 4)\n"
     ]
    },
    {
     "data": {
      "text/html": [
       "<div>\n",
       "<style scoped>\n",
       "    .dataframe tbody tr th:only-of-type {\n",
       "        vertical-align: middle;\n",
       "    }\n",
       "\n",
       "    .dataframe tbody tr th {\n",
       "        vertical-align: top;\n",
       "    }\n",
       "\n",
       "    .dataframe thead th {\n",
       "        text-align: right;\n",
       "    }\n",
       "</style>\n",
       "<table border=\"1\" class=\"dataframe\">\n",
       "  <thead>\n",
       "    <tr style=\"text-align: right;\">\n",
       "      <th></th>\n",
       "      <th>user_id</th>\n",
       "      <th>track_id</th>\n",
       "      <th>timestamp</th>\n",
       "      <th>period</th>\n",
       "    </tr>\n",
       "  </thead>\n",
       "  <tbody>\n",
       "    <tr>\n",
       "      <th>134635346</th>\n",
       "      <td>11095</td>\n",
       "      <td>VKvF5oSWmxCDL97f</td>\n",
       "      <td>2018-11-27 07:38:29</td>\n",
       "      <td>2018</td>\n",
       "    </tr>\n",
       "    <tr>\n",
       "      <th>134635347</th>\n",
       "      <td>11095</td>\n",
       "      <td>VKvF5oSWmxCDL97f</td>\n",
       "      <td>2018-11-21 07:48:46</td>\n",
       "      <td>2018</td>\n",
       "    </tr>\n",
       "    <tr>\n",
       "      <th>134635348</th>\n",
       "      <td>11095</td>\n",
       "      <td>8keAhBJumHlc8qe9</td>\n",
       "      <td>2018-11-15 22:53:21</td>\n",
       "      <td>2018</td>\n",
       "    </tr>\n",
       "    <tr>\n",
       "      <th>134635349</th>\n",
       "      <td>11095</td>\n",
       "      <td>dreywAZScIcoCASF</td>\n",
       "      <td>2018-11-15 05:10:39</td>\n",
       "      <td>2018</td>\n",
       "    </tr>\n",
       "    <tr>\n",
       "      <th>134635350</th>\n",
       "      <td>11095</td>\n",
       "      <td>lJKIbZNzpS6IsNgh</td>\n",
       "      <td>2018-11-15 05:06:06</td>\n",
       "      <td>2018</td>\n",
       "    </tr>\n",
       "  </tbody>\n",
       "</table>\n",
       "</div>"
      ],
      "text/plain": [
       "           user_id          track_id            timestamp period\n",
       "134635346    11095  VKvF5oSWmxCDL97f  2018-11-27 07:38:29   2018\n",
       "134635347    11095  VKvF5oSWmxCDL97f  2018-11-21 07:48:46   2018\n",
       "134635348    11095  8keAhBJumHlc8qe9  2018-11-15 22:53:21   2018\n",
       "134635349    11095  dreywAZScIcoCASF  2018-11-15 05:10:39   2018\n",
       "134635350    11095  lJKIbZNzpS6IsNgh  2018-11-15 05:06:06   2018"
      ]
     },
     "execution_count": 10,
     "metadata": {},
     "output_type": "execute_result"
    }
   ],
   "source": [
    "df_interactions['period'] = pd.to_datetime(df_interactions['timestamp']).dt.to_period('Y')\n",
    "df_interactions = df_interactions[df_interactions['period'] == '2018']\n",
    "print(df_interactions.shape)\n",
    "df_interactions.head()"
   ]
  },
  {
   "cell_type": "code",
   "execution_count": 11,
   "id": "8bf8f2a7",
   "metadata": {},
   "outputs": [
    {
     "name": "stdout",
     "output_type": "stream",
     "text": [
      "Deleted 11936035 duplicates\n",
      "(2423168, 4)\n"
     ]
    },
    {
     "data": {
      "text/html": [
       "<div>\n",
       "<style scoped>\n",
       "    .dataframe tbody tr th:only-of-type {\n",
       "        vertical-align: middle;\n",
       "    }\n",
       "\n",
       "    .dataframe tbody tr th {\n",
       "        vertical-align: top;\n",
       "    }\n",
       "\n",
       "    .dataframe thead th {\n",
       "        text-align: right;\n",
       "    }\n",
       "</style>\n",
       "<table border=\"1\" class=\"dataframe\">\n",
       "  <thead>\n",
       "    <tr style=\"text-align: right;\">\n",
       "      <th></th>\n",
       "      <th>user_id</th>\n",
       "      <th>track_id</th>\n",
       "      <th>timestamp</th>\n",
       "      <th>period</th>\n",
       "    </tr>\n",
       "  </thead>\n",
       "  <tbody>\n",
       "    <tr>\n",
       "      <th>0</th>\n",
       "      <td>48507</td>\n",
       "      <td>GJBMg2XCb4yuAS4b</td>\n",
       "      <td>2018-08-01 16:41:53</td>\n",
       "      <td>2018</td>\n",
       "    </tr>\n",
       "    <tr>\n",
       "      <th>60316</th>\n",
       "      <td>48507</td>\n",
       "      <td>5yz4FuSP9DGYYCPC</td>\n",
       "      <td>2018-09-12 11:45:34</td>\n",
       "      <td>2018</td>\n",
       "    </tr>\n",
       "    <tr>\n",
       "      <th>84817</th>\n",
       "      <td>48507</td>\n",
       "      <td>7ELJ2sVO3n3mZHVM</td>\n",
       "      <td>2018-12-21 12:40:09</td>\n",
       "      <td>2018</td>\n",
       "    </tr>\n",
       "    <tr>\n",
       "      <th>109056</th>\n",
       "      <td>48507</td>\n",
       "      <td>kg8DbqKcerjETz9V</td>\n",
       "      <td>2018-06-22 19:47:07</td>\n",
       "      <td>2018</td>\n",
       "    </tr>\n",
       "    <tr>\n",
       "      <th>126451</th>\n",
       "      <td>5186</td>\n",
       "      <td>IF0X3GfxmyXpWlGl</td>\n",
       "      <td>2018-04-23 23:35:29</td>\n",
       "      <td>2018</td>\n",
       "    </tr>\n",
       "  </tbody>\n",
       "</table>\n",
       "</div>"
      ],
      "text/plain": [
       "        user_id          track_id            timestamp period\n",
       "0         48507  GJBMg2XCb4yuAS4b  2018-08-01 16:41:53   2018\n",
       "60316     48507  5yz4FuSP9DGYYCPC  2018-09-12 11:45:34   2018\n",
       "84817     48507  7ELJ2sVO3n3mZHVM  2018-12-21 12:40:09   2018\n",
       "109056    48507  kg8DbqKcerjETz9V  2018-06-22 19:47:07   2018\n",
       "126451     5186  IF0X3GfxmyXpWlGl  2018-04-23 23:35:29   2018"
      ]
     },
     "execution_count": 11,
     "metadata": {},
     "output_type": "execute_result"
    }
   ],
   "source": [
    "# binarization: we convert the interactions to binary implicit feedback with a threshold of 2 on the interaction counts (reducing false-positive interactions)\n",
    "def filter_interactions(listening_history: pd.DataFrame, min_interactions: int = 2, verbose: bool = True):\n",
    "    lhs_count = listening_history.value_counts(subset=['user_id', 'track_id'])\n",
    "    lhs_count = lhs_count[lhs_count >= min_interactions]\n",
    "    listening_history = listening_history.set_index(['user_id', 'track_id']).loc[lhs_count.index]\n",
    "    listening_history = listening_history.reset_index()\n",
    "    return listening_history\n",
    "\n",
    "def delete_duplicates(listening_history: pd.DataFrame):\n",
    "    initial_shape = listening_history.shape\n",
    "    listening_history = listening_history.drop_duplicates(subset=['user_id', 'track_id'], keep='first')\n",
    "    print(f\"Deleted {initial_shape[0] - listening_history.shape[0]} duplicates\")\n",
    "    return listening_history\n",
    "\n",
    "df_interactions = filter_interactions(df_interactions, min_interactions=2)\n",
    "df_interactions = delete_duplicates(df_interactions)\n",
    "print(df_interactions.shape)\n",
    "df_interactions.head()"
   ]
  },
  {
   "cell_type": "code",
   "execution_count": 16,
   "id": "6e58b7c11213afbb",
   "metadata": {
    "ExecuteTime": {
     "end_time": "2024-11-20T12:01:22.987979Z",
     "start_time": "2024-11-20T12:01:22.978139Z"
    }
   },
   "outputs": [
    {
     "data": {
      "text/plain": [
       "0.9976734527042088"
      ]
     },
     "execution_count": 16,
     "metadata": {},
     "output_type": "execute_result"
    }
   ],
   "source": [
    "# sparsity of dataset\n",
    "n_users = df_interactions['user_id'].nunique()\n",
    "n_items = df_interactions['track_id'].nunique()\n",
    "n_interactions = df_interactions.shape[0]\n",
    "sparsity = 1 - n_interactions / (n_users * n_items)\n",
    "sparsity"
   ]
  },
  {
   "cell_type": "code",
   "execution_count": 17,
   "id": "96f7a550e34a1154",
   "metadata": {
    "ExecuteTime": {
     "end_time": "2024-11-20T12:02:00.048631Z",
     "start_time": "2024-11-20T12:02:00.043323Z"
    }
   },
   "outputs": [
    {
     "data": {
      "text/plain": [
       "54142"
      ]
     },
     "execution_count": 17,
     "metadata": {},
     "output_type": "execute_result"
    }
   ],
   "source": [
    "n_items"
   ]
  },
  {
   "cell_type": "code",
   "execution_count": 18,
   "id": "660c6004",
   "metadata": {},
   "outputs": [
    {
     "data": {
      "text/plain": [
       "19237"
      ]
     },
     "execution_count": 18,
     "metadata": {},
     "output_type": "execute_result"
    }
   ],
   "source": [
    "n_users"
   ]
  },
  {
   "cell_type": "code",
   "execution_count": 19,
   "id": "1e10a91504dded70",
   "metadata": {
    "ExecuteTime": {
     "end_time": "2024-11-20T12:02:27.752878Z",
     "start_time": "2024-11-20T12:02:27.606901Z"
    }
   },
   "outputs": [],
   "source": [
    "# export\n",
    "df_interactions.to_csv('../data/userid_trackid_timestamp_onion.tsv', sep='\\t', index=False)"
   ]
  }
 ],
 "metadata": {
  "kernelspec": {
   "display_name": "elliot",
   "language": "python",
   "name": "python3"
  },
  "language_info": {
   "codemirror_mode": {
    "name": "ipython",
    "version": 3
   },
   "file_extension": ".py",
   "mimetype": "text/x-python",
   "name": "python",
   "nbconvert_exporter": "python",
   "pygments_lexer": "ipython3",
   "version": "3.8.20"
  }
 },
 "nbformat": 4,
 "nbformat_minor": 5
}
