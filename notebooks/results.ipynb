{
 "cells": [
  {
   "cell_type": "code",
   "execution_count": 1,
   "id": "initial_id",
   "metadata": {
    "ExecuteTime": {
     "end_time": "2025-03-25T09:16:12.087411Z",
     "start_time": "2025-03-25T09:16:11.946004Z"
    },
    "collapsed": true
   },
   "outputs": [],
   "source": [
    "import pandas as pd\n",
    "import numpy as np\n",
    "import os\n",
    "import tqdm\n",
    "import shutil"
   ]
  },
  {
   "cell_type": "code",
   "execution_count": 5,
   "id": "54f686a4400205fa",
   "metadata": {
    "ExecuteTime": {
     "end_time": "2025-03-25T09:22:55.886072Z",
     "start_time": "2025-03-25T09:22:55.882403Z"
    }
   },
   "outputs": [],
   "source": [
    "dataset = 'session_emma' # onion or emma\n",
    "results_dir = f'../results/' + dataset + '/performance/'\n",
    "#cutoffs = [1, 5, 10, 20]\n",
    "cutoffs = [5]\n",
    "cutoff_date = '2025_03_25'\n",
    "metrics = ['Recall', 'Precision', 'nDCG', 'MRR', 'HR', 'EFD', 'EPC', 'ARP', 'PopREO', 'PopRSP', 'ItemCoverage', 'UserCoverage']\n",
    "#metrics = ['Recall', 'Precision', 'nDCG', 'MRR', 'HR']"
   ]
  },
  {
   "cell_type": "code",
   "execution_count": 6,
   "id": "46d601c4",
   "metadata": {
    "ExecuteTime": {
     "end_time": "2025-03-25T09:22:56.139211Z",
     "start_time": "2025-03-25T09:22:56.135849Z"
    }
   },
   "outputs": [],
   "source": [
    "def find_modality(string):\n",
    "    keyword = \"modalites=\"\n",
    "    start = string.find(keyword)\n",
    "    if start == -1:\n",
    "        return None\n",
    "\n",
    "    start += len(keyword)\n",
    "    end = string.find(\"_\", start)\n",
    "    if end == -1:\n",
    "        end = len(string)\n",
    "\n",
    "    modality = string[start:end].strip(\"'\")\n",
    "    return modality"
   ]
  },
  {
   "cell_type": "code",
   "execution_count": 7,
   "id": "3ba7fe74",
   "metadata": {
    "ExecuteTime": {
     "end_time": "2025-03-25T09:48:01.259933Z",
     "start_time": "2025-03-25T09:48:01.233355Z"
    }
   },
   "outputs": [
    {
     "data": {
      "text/html": [
       "<div>\n",
       "<style scoped>\n",
       "    .dataframe tbody tr th:only-of-type {\n",
       "        vertical-align: middle;\n",
       "    }\n",
       "\n",
       "    .dataframe tbody tr th {\n",
       "        vertical-align: top;\n",
       "    }\n",
       "\n",
       "    .dataframe thead th {\n",
       "        text-align: right;\n",
       "    }\n",
       "</style>\n",
       "<table border=\"1\" class=\"dataframe\">\n",
       "  <thead>\n",
       "    <tr style=\"text-align: right;\">\n",
       "      <th></th>\n",
       "      <th>model</th>\n",
       "      <th>modality</th>\n",
       "      <th>date</th>\n",
       "      <th>path</th>\n",
       "      <th>Recall@5</th>\n",
       "      <th>Precision@5</th>\n",
       "      <th>nDCG@5</th>\n",
       "      <th>MRR@5</th>\n",
       "      <th>HR@5</th>\n",
       "    </tr>\n",
       "  </thead>\n",
       "  <tbody>\n",
       "    <tr>\n",
       "      <th>0</th>\n",
       "      <td>LightGCNM</td>\n",
       "      <td>emotion</td>\n",
       "      <td>2025_04_05_17_55_19</td>\n",
       "      <td>LightGCNM_seed=123_e=200_bs=128_lr=0$001_facto...</td>\n",
       "      <td>0.194679</td>\n",
       "      <td>0.063761</td>\n",
       "      <td>0.163467</td>\n",
       "      <td>0.192842</td>\n",
       "      <td>0.294566</td>\n",
       "    </tr>\n",
       "    <tr>\n",
       "      <th>0</th>\n",
       "      <td>LightGCNM</td>\n",
       "      <td>audio'-'textual'-'visual</td>\n",
       "      <td>2025_04_05_17_54_31</td>\n",
       "      <td>LightGCNM_seed=123_e=200_bs=128_lr=0$001_facto...</td>\n",
       "      <td>0.200758</td>\n",
       "      <td>0.066036</td>\n",
       "      <td>0.167624</td>\n",
       "      <td>0.198208</td>\n",
       "      <td>0.304848</td>\n",
       "    </tr>\n",
       "    <tr>\n",
       "      <th>0</th>\n",
       "      <td>LightGCNM</td>\n",
       "      <td>audio'-'textual'-'visual'-'emotion</td>\n",
       "      <td>2025_04_05_18_29_03</td>\n",
       "      <td>LightGCNM_seed=123_e=200_bs=128_lr=0$001_facto...</td>\n",
       "      <td>0.200022</td>\n",
       "      <td>0.066117</td>\n",
       "      <td>0.168188</td>\n",
       "      <td>0.199721</td>\n",
       "      <td>0.306006</td>\n",
       "    </tr>\n",
       "    <tr>\n",
       "      <th>0</th>\n",
       "      <td>FeatureItemKNN</td>\n",
       "      <td>emotion</td>\n",
       "      <td>2025_04_05_17_12_23</td>\n",
       "      <td>FeatureItemKNN_nn=100_sim=cosine_msf=0$05_bin=...</td>\n",
       "      <td>0.201069</td>\n",
       "      <td>0.066213</td>\n",
       "      <td>0.169153</td>\n",
       "      <td>0.201116</td>\n",
       "      <td>0.303554</td>\n",
       "    </tr>\n",
       "    <tr>\n",
       "      <th>0</th>\n",
       "      <td>LightGCN</td>\n",
       "      <td>None</td>\n",
       "      <td>2025_04_05_17_19_37</td>\n",
       "      <td>LightGCN_seed=123_e=200_bs=128_lr=0$0005_facto...</td>\n",
       "      <td>0.204364</td>\n",
       "      <td>0.067452</td>\n",
       "      <td>0.170075</td>\n",
       "      <td>0.201043</td>\n",
       "      <td>0.310568</td>\n",
       "    </tr>\n",
       "    <tr>\n",
       "      <th>0</th>\n",
       "      <td>FeatureItemKNN</td>\n",
       "      <td>audio'-'textual'-'visual'-'emotion</td>\n",
       "      <td>2025_04_05_17_28_11</td>\n",
       "      <td>FeatureItemKNN_nn=100_sim=cosine_msf=0$05_bin=...</td>\n",
       "      <td>0.206836</td>\n",
       "      <td>0.067847</td>\n",
       "      <td>0.173227</td>\n",
       "      <td>0.205704</td>\n",
       "      <td>0.311045</td>\n",
       "    </tr>\n",
       "    <tr>\n",
       "      <th>0</th>\n",
       "      <td>ItemKNN</td>\n",
       "      <td>None</td>\n",
       "      <td>2025_04_05_16_45_08</td>\n",
       "      <td>ItemKNN_nn=100_sim=cosine_imp=standard_bin=Fal...</td>\n",
       "      <td>0.207649</td>\n",
       "      <td>0.068078</td>\n",
       "      <td>0.173430</td>\n",
       "      <td>0.205419</td>\n",
       "      <td>0.311725</td>\n",
       "    </tr>\n",
       "    <tr>\n",
       "      <th>0</th>\n",
       "      <td>FeatureItemKNN</td>\n",
       "      <td>audio'-'textual'-'visual</td>\n",
       "      <td>2025_04_05_17_13_37</td>\n",
       "      <td>FeatureItemKNN_nn=70_sim=cosine_msf=0$05_bin=F...</td>\n",
       "      <td>0.207557</td>\n",
       "      <td>0.068092</td>\n",
       "      <td>0.173467</td>\n",
       "      <td>0.205762</td>\n",
       "      <td>0.311862</td>\n",
       "    </tr>\n",
       "  </tbody>\n",
       "</table>\n",
       "</div>"
      ],
      "text/plain": [
       "            model                            modality                 date  \\\n",
       "0       LightGCNM                             emotion  2025_04_05_17_55_19   \n",
       "0       LightGCNM            audio'-'textual'-'visual  2025_04_05_17_54_31   \n",
       "0       LightGCNM  audio'-'textual'-'visual'-'emotion  2025_04_05_18_29_03   \n",
       "0  FeatureItemKNN                             emotion  2025_04_05_17_12_23   \n",
       "0        LightGCN                                None  2025_04_05_17_19_37   \n",
       "0  FeatureItemKNN  audio'-'textual'-'visual'-'emotion  2025_04_05_17_28_11   \n",
       "0         ItemKNN                                None  2025_04_05_16_45_08   \n",
       "0  FeatureItemKNN            audio'-'textual'-'visual  2025_04_05_17_13_37   \n",
       "\n",
       "                                                path  Recall@5  Precision@5  \\\n",
       "0  LightGCNM_seed=123_e=200_bs=128_lr=0$001_facto...  0.194679     0.063761   \n",
       "0  LightGCNM_seed=123_e=200_bs=128_lr=0$001_facto...  0.200758     0.066036   \n",
       "0  LightGCNM_seed=123_e=200_bs=128_lr=0$001_facto...  0.200022     0.066117   \n",
       "0  FeatureItemKNN_nn=100_sim=cosine_msf=0$05_bin=...  0.201069     0.066213   \n",
       "0  LightGCN_seed=123_e=200_bs=128_lr=0$0005_facto...  0.204364     0.067452   \n",
       "0  FeatureItemKNN_nn=100_sim=cosine_msf=0$05_bin=...  0.206836     0.067847   \n",
       "0  ItemKNN_nn=100_sim=cosine_imp=standard_bin=Fal...  0.207649     0.068078   \n",
       "0  FeatureItemKNN_nn=70_sim=cosine_msf=0$05_bin=F...  0.207557     0.068092   \n",
       "\n",
       "     nDCG@5     MRR@5      HR@5  \n",
       "0  0.163467  0.192842  0.294566  \n",
       "0  0.167624  0.198208  0.304848  \n",
       "0  0.168188  0.199721  0.306006  \n",
       "0  0.169153  0.201116  0.303554  \n",
       "0  0.170075  0.201043  0.310568  \n",
       "0  0.173227  0.205704  0.311045  \n",
       "0  0.173430  0.205419  0.311725  \n",
       "0  0.173467  0.205762  0.311862  "
      ]
     },
     "execution_count": 7,
     "metadata": {},
     "output_type": "execute_result"
    }
   ],
   "source": [
    "# read all files in result folder\n",
    "files = os.listdir(results_dir)\n",
    "df = pd.DataFrame()\n",
    "\n",
    "for cutoff in cutoffs:\n",
    "    df_cut = pd.DataFrame()\n",
    "    result_files_cutoff = [f for f in files if f.startswith(f'rec_cutoff_{cutoff}_')]\n",
    "    for f in result_files_cutoff:\n",
    "        df_tmp = pd.read_csv(results_dir + f, sep='\\t')\n",
    "        tmp_metrics = [m for m in metrics if m in df_tmp.columns]\n",
    "        df_tmp.rename(columns={m: f'{m}@{cutoff}' for m in tmp_metrics}, inplace=True)\n",
    "        df_tmp['modality'] = find_modality(df_tmp['model'].values[0])\n",
    "        df_tmp['path'] = df_tmp['model']\n",
    "        df_tmp['model'] = df_tmp['model'].str.split('_').str[0]\n",
    "        df_tmp['date'] = f[-23:-4]\n",
    "        df_cut = pd.concat([df_cut, df_tmp], axis=0)\n",
    "\n",
    "    # keep only newest model results\n",
    "    df_cut = df_cut.sort_values('date').drop_duplicates(subset=['model', 'modality'], keep='last')\n",
    "\n",
    "    # drop models results before cutoff date\n",
    "    df_cut = df_cut[df_cut['date'] >= cutoff_date]\n",
    "\n",
    "    # merge with previous cutoffs\n",
    "    if not df.empty:\n",
    "        df = pd.merge(df, df_cut, on=['model', 'date', 'modality'], how='inner')\n",
    "        print(df.shape)\n",
    "    else:\n",
    "        df = df_cut\n",
    "\n",
    "df.sort_values('nDCG@5', inplace=True)\n",
    "# display columns with @10 only\n",
    "df[['model', 'modality', 'date', 'path'] + [c for c in df.columns if '@' in c]]\n",
    "#df[['model', 'modality', 'date'] + ['Recall@1', 'Recall@5', 'Recall@10', 'nDCG@1', 'nDCG@5', 'nDCG@10']]"
   ]
  },
  {
   "cell_type": "code",
   "execution_count": 8,
   "id": "8b9f2dff",
   "metadata": {},
   "outputs": [
    {
     "name": "stdout",
     "output_type": "stream",
     "text": [
      "LightGCNM_seed=123_e=200_bs=128_lr=0$001_factors=64_l_w=1e-05_modalites='emotion'_n_layers=2_normalize=True_aggregation=concat_loads='EmotionAttribute'\n",
      "LightGCNM_seed=123_e=200_bs=128_lr=0$001_factors=64_l_w=1e-05_modalites='audio'-'textual'-'visual'_n_layers=2_normalize=True_aggregation=concat_loads='AudioAttribute'-'TextualAttribute'-'VisualAttribute'\n",
      "LightGCNM_seed=123_e=200_bs=128_lr=0$001_factors=64_l_w=1e-05_modalites='audio'-'textual'-'visual'-'emotion'_n_layers=2_normalize=True_aggregation=concat_loads='AudioAttribute'-'TextualAttribute'-'VisualAttribute'-'EmotionAttribute'\n",
      "FeatureItemKNN_nn=100_sim=cosine_msf=0$05_bin=False_modalites='emotion'_aggregation=ensemble_loads='EmotionAttribute'\n",
      "LightGCN_seed=123_e=200_bs=128_lr=0$0005_factors=64_l_w=1e-05_n_layers=3_normalize=True\n",
      "FeatureItemKNN_nn=100_sim=cosine_msf=0$05_bin=False_modalites='audio'-'textual'-'visual'-'emotion'_aggregation=concat_loads='AudioAttribute'-'TextualAttribute'-'VisualAttribute'-'EmotionAttribute'\n",
      "ItemKNN_nn=100_sim=cosine_imp=standard_bin=False_shrink=0_norm=True_asymalpha=_tvalpha=_tvbeta=_rweights=\n",
      "FeatureItemKNN_nn=70_sim=cosine_msf=0$05_bin=False_modalites='audio'-'textual'-'visual'_aggregation=ensemble_loads='AudioAttribute'-'TextualAttribute'-'VisualAttribute'\n"
     ]
    }
   ],
   "source": [
    "for model_path in df['path'].values:\n",
    "    print(model_path)"
   ]
  },
  {
   "cell_type": "code",
   "execution_count": 13,
   "id": "acca79c1",
   "metadata": {},
   "outputs": [],
   "source": [
    "# export to comma seperated file\n",
    "df.to_csv(f'../results/{dataset}_performance.csv', index=False)"
   ]
  },
  {
   "cell_type": "code",
   "execution_count": 16,
   "id": "ac31ac46",
   "metadata": {},
   "outputs": [],
   "source": [
    "for cutoff in cutoffs:\n",
    "    df_cut = df[['model'] + [c for c in df.columns if f'@{cutoff}' in c]]\n",
    "    df_cut.to_csv(f'../results/{dataset}_performance_{cutoff}.csv', index=False)"
   ]
  },
  {
   "cell_type": "code",
   "execution_count": null,
   "id": "baa30bb4",
   "metadata": {},
   "outputs": [],
   "source": []
  }
 ],
 "metadata": {
  "kernelspec": {
   "display_name": "elliot",
   "language": "python",
   "name": "python3"
  },
  "language_info": {
   "codemirror_mode": {
    "name": "ipython",
    "version": 3
   },
   "file_extension": ".py",
   "mimetype": "text/x-python",
   "name": "python",
   "nbconvert_exporter": "python",
   "pygments_lexer": "ipython3",
   "version": "3.8.20"
  }
 },
 "nbformat": 4,
 "nbformat_minor": 5
}
