{
 "cells": [
  {
   "cell_type": "code",
   "id": "initial_id",
   "metadata": {
    "collapsed": true,
    "ExecuteTime": {
     "end_time": "2025-01-14T12:42:07.611856Z",
     "start_time": "2025-01-14T12:42:07.418348Z"
    }
   },
   "source": [
    "import pandas as pd\n",
    "import numpy as np\n",
    "import os\n",
    "import tqdm\n",
    "import shutil"
   ],
   "outputs": [],
   "execution_count": 1
  },
  {
   "cell_type": "code",
   "id": "54f686a4400205fa",
   "metadata": {
    "ExecuteTime": {
     "end_time": "2025-01-14T12:42:07.619723Z",
     "start_time": "2025-01-14T12:42:07.616432Z"
    }
   },
   "source": [
    "dataset = 'emma' # onion or emma\n",
    "results_dir = f'../results/' + dataset + '/performance/'\n",
    "cutoffs = [1, 5, 10, 20]\n",
    "metrics = ['Recall', 'Precision', 'nDCG', 'MRR', 'HR', 'EFD', 'EPC', 'ARP', 'PopREO', 'PopRSP', 'ItemCoverage', 'UserCoverage']\n",
    "#metrics = ['Recall', 'Precision', 'nDCG', 'MRR', 'HR']"
   ],
   "outputs": [],
   "execution_count": 2
  },
  {
   "cell_type": "code",
   "id": "46d601c4",
   "metadata": {
    "ExecuteTime": {
     "end_time": "2025-01-14T12:42:07.816676Z",
     "start_time": "2025-01-14T12:42:07.811468Z"
    }
   },
   "source": [
    "def find_modality(string):\n",
    "    keyword = \"modalites=\"\n",
    "    start = string.find(keyword)\n",
    "    if start == -1:\n",
    "        return None\n",
    "\n",
    "    start += len(keyword)\n",
    "    end = string.find(\"_\", start)\n",
    "    if end == -1:\n",
    "        end = len(string)\n",
    "\n",
    "    modality = string[start:end].strip(\"'\")\n",
    "    return modality"
   ],
   "outputs": [],
   "execution_count": 3
  },
  {
   "cell_type": "code",
   "id": "3ba7fe74",
   "metadata": {
    "ExecuteTime": {
     "end_time": "2025-01-14T13:01:32.739719Z",
     "start_time": "2025-01-14T13:01:32.455670Z"
    }
   },
   "source": [
    "# read all files in result folder\n",
    "files = os.listdir(results_dir)\n",
    "df = pd.DataFrame()\n",
    "\n",
    "for cutoff in cutoffs:\n",
    "    df_cut = pd.DataFrame()\n",
    "    result_files_cutoff = [f for f in files if f.startswith(f'rec_cutoff_{cutoff}_')]\n",
    "    for f in result_files_cutoff:\n",
    "        df_tmp = pd.read_csv(results_dir + f, sep='\\t')\n",
    "        tmp_metrics = [m for m in metrics if m in df_tmp.columns]\n",
    "        df_tmp.rename(columns={m: f'{m}@{cutoff}' for m in tmp_metrics}, inplace=True)\n",
    "        df_tmp['modality'] = find_modality(df_tmp['model'].values[0])\n",
    "        df_tmp['model'] = df_tmp['model'].str.split('_').str[0]\n",
    "        df_tmp['date'] = f[-23:-4]\n",
    "        df_cut = pd.concat([df_cut, df_tmp], axis=0)\n",
    "\n",
    "    # keep only newest model results\n",
    "    df_cut = df_cut.sort_values('date').drop_duplicates(subset=['model', 'modality'], keep='last')\n",
    "\n",
    "    # merge with previous cutoffs\n",
    "    if not df.empty:\n",
    "        df = pd.merge(df, df_cut, on=['model', 'date', 'modality'], how='inner')\n",
    "        print(df.shape)\n",
    "    else:\n",
    "        df = df_cut\n",
    "\n",
    "df = df[['model', 'modality', 'date'] + [c for c in df.columns if '@' in c]]\n",
    "df.sort_values('nDCG@5', inplace=True)\n",
    "# display columns with @10 only\n",
    "#df[['model', 'modality', 'date'] + [c for c in df.columns if '@1' in c]]\n",
    "df[['model', 'modality', 'date'] + ['Recall@1', 'Recall@5', 'Recall@10', 'nDCG@1', 'nDCG@5', 'nDCG@10']]"
   ],
   "outputs": [
    {
     "name": "stdout",
     "output_type": "stream",
     "text": [
      "(7, 27)\n",
      "(7, 39)\n",
      "(7, 51)\n"
     ]
    },
    {
     "data": {
      "text/plain": [
       "              model modality                 date  Recall@1  Recall@5  \\\n",
       "0  AttributeItemKNN     None  2024_12_18_09_58_00  0.026316  0.031579   \n",
       "2    FeatureItemKNN     None  2025_01_14_09_55_06  0.026316  0.049123   \n",
       "1           BiVAECF     None  2024_12_18_10_55_07  0.034461  0.034461   \n",
       "6    FeatureItemKNN  emotion  2025_01_14_13_59_39  0.141379  0.357615   \n",
       "5    FeatureItemKNN  textual  2025_01_14_13_59_19  0.139943  0.366810   \n",
       "4           ItemKNN     None  2025_01_14_13_57_38  0.141379  0.368151   \n",
       "3    FeatureItemKNN    audio  2025_01_14_13_55_13  0.152874  0.356657   \n",
       "\n",
       "   Recall@10    nDCG@1    nDCG@5   nDCG@10  \n",
       "0   0.050000  0.026316  0.029769  0.037963  \n",
       "2   0.054386  0.026316  0.040170  0.042614  \n",
       "1   0.052882  0.078947  0.044166  0.048992  \n",
       "6   0.486638  0.224138  0.285668  0.333358  \n",
       "5   0.504598  0.221264  0.289479  0.339419  \n",
       "4   0.493822  0.224138  0.291800  0.337357  \n",
       "3   0.478017  0.238506  0.292085  0.335379  "
      ],
      "text/html": [
       "<div>\n",
       "<style scoped>\n",
       "    .dataframe tbody tr th:only-of-type {\n",
       "        vertical-align: middle;\n",
       "    }\n",
       "\n",
       "    .dataframe tbody tr th {\n",
       "        vertical-align: top;\n",
       "    }\n",
       "\n",
       "    .dataframe thead th {\n",
       "        text-align: right;\n",
       "    }\n",
       "</style>\n",
       "<table border=\"1\" class=\"dataframe\">\n",
       "  <thead>\n",
       "    <tr style=\"text-align: right;\">\n",
       "      <th></th>\n",
       "      <th>model</th>\n",
       "      <th>modality</th>\n",
       "      <th>date</th>\n",
       "      <th>Recall@1</th>\n",
       "      <th>Recall@5</th>\n",
       "      <th>Recall@10</th>\n",
       "      <th>nDCG@1</th>\n",
       "      <th>nDCG@5</th>\n",
       "      <th>nDCG@10</th>\n",
       "    </tr>\n",
       "  </thead>\n",
       "  <tbody>\n",
       "    <tr>\n",
       "      <th>0</th>\n",
       "      <td>AttributeItemKNN</td>\n",
       "      <td>None</td>\n",
       "      <td>2024_12_18_09_58_00</td>\n",
       "      <td>0.026316</td>\n",
       "      <td>0.031579</td>\n",
       "      <td>0.050000</td>\n",
       "      <td>0.026316</td>\n",
       "      <td>0.029769</td>\n",
       "      <td>0.037963</td>\n",
       "    </tr>\n",
       "    <tr>\n",
       "      <th>2</th>\n",
       "      <td>FeatureItemKNN</td>\n",
       "      <td>None</td>\n",
       "      <td>2025_01_14_09_55_06</td>\n",
       "      <td>0.026316</td>\n",
       "      <td>0.049123</td>\n",
       "      <td>0.054386</td>\n",
       "      <td>0.026316</td>\n",
       "      <td>0.040170</td>\n",
       "      <td>0.042614</td>\n",
       "    </tr>\n",
       "    <tr>\n",
       "      <th>1</th>\n",
       "      <td>BiVAECF</td>\n",
       "      <td>None</td>\n",
       "      <td>2024_12_18_10_55_07</td>\n",
       "      <td>0.034461</td>\n",
       "      <td>0.034461</td>\n",
       "      <td>0.052882</td>\n",
       "      <td>0.078947</td>\n",
       "      <td>0.044166</td>\n",
       "      <td>0.048992</td>\n",
       "    </tr>\n",
       "    <tr>\n",
       "      <th>6</th>\n",
       "      <td>FeatureItemKNN</td>\n",
       "      <td>emotion</td>\n",
       "      <td>2025_01_14_13_59_39</td>\n",
       "      <td>0.141379</td>\n",
       "      <td>0.357615</td>\n",
       "      <td>0.486638</td>\n",
       "      <td>0.224138</td>\n",
       "      <td>0.285668</td>\n",
       "      <td>0.333358</td>\n",
       "    </tr>\n",
       "    <tr>\n",
       "      <th>5</th>\n",
       "      <td>FeatureItemKNN</td>\n",
       "      <td>textual</td>\n",
       "      <td>2025_01_14_13_59_19</td>\n",
       "      <td>0.139943</td>\n",
       "      <td>0.366810</td>\n",
       "      <td>0.504598</td>\n",
       "      <td>0.221264</td>\n",
       "      <td>0.289479</td>\n",
       "      <td>0.339419</td>\n",
       "    </tr>\n",
       "    <tr>\n",
       "      <th>4</th>\n",
       "      <td>ItemKNN</td>\n",
       "      <td>None</td>\n",
       "      <td>2025_01_14_13_57_38</td>\n",
       "      <td>0.141379</td>\n",
       "      <td>0.368151</td>\n",
       "      <td>0.493822</td>\n",
       "      <td>0.224138</td>\n",
       "      <td>0.291800</td>\n",
       "      <td>0.337357</td>\n",
       "    </tr>\n",
       "    <tr>\n",
       "      <th>3</th>\n",
       "      <td>FeatureItemKNN</td>\n",
       "      <td>audio</td>\n",
       "      <td>2025_01_14_13_55_13</td>\n",
       "      <td>0.152874</td>\n",
       "      <td>0.356657</td>\n",
       "      <td>0.478017</td>\n",
       "      <td>0.238506</td>\n",
       "      <td>0.292085</td>\n",
       "      <td>0.335379</td>\n",
       "    </tr>\n",
       "  </tbody>\n",
       "</table>\n",
       "</div>"
      ]
     },
     "execution_count": 19,
     "metadata": {},
     "output_type": "execute_result"
    }
   ],
   "execution_count": 19
  },
  {
   "cell_type": "code",
   "execution_count": 9,
   "id": "acca79c1",
   "metadata": {},
   "outputs": [],
   "source": [
    "# export to comma seperated file\n",
    "df.to_csv(f'../results/{dataset}_performance.csv', index=False)"
   ]
  },
  {
   "cell_type": "code",
   "execution_count": 31,
   "id": "ac31ac46",
   "metadata": {},
   "outputs": [],
   "source": [
    "for cutoff in cutoffs:\n",
    "    df_cut = df[['model'] + [c for c in df.columns if f'@{cutoff}' in c]]\n",
    "    df_cut.to_csv(f'../results/{dataset}_performance_{cutoff}.csv', index=False)"
   ]
  },
  {
   "cell_type": "code",
   "execution_count": null,
   "id": "baa30bb4",
   "metadata": {},
   "outputs": [],
   "source": []
  }
 ],
 "metadata": {
  "kernelspec": {
   "display_name": "elliot",
   "language": "python",
   "name": "python3"
  },
  "language_info": {
   "codemirror_mode": {
    "name": "ipython",
    "version": 3
   },
   "file_extension": ".py",
   "mimetype": "text/x-python",
   "name": "python",
   "nbconvert_exporter": "python",
   "pygments_lexer": "ipython3",
   "version": "3.8.20"
  }
 },
 "nbformat": 4,
 "nbformat_minor": 5
}
