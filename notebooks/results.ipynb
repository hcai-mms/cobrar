{
 "cells": [
  {
   "cell_type": "code",
   "execution_count": 1,
   "id": "initial_id",
   "metadata": {
    "ExecuteTime": {
     "end_time": "2025-01-14T12:42:07.611856Z",
     "start_time": "2025-01-14T12:42:07.418348Z"
    },
    "collapsed": true
   },
   "outputs": [],
   "source": [
    "import pandas as pd\n",
    "import numpy as np\n",
    "import os\n",
    "import tqdm\n",
    "import shutil"
   ]
  },
  {
   "cell_type": "code",
   "execution_count": 19,
   "id": "54f686a4400205fa",
   "metadata": {
    "ExecuteTime": {
     "end_time": "2025-01-14T12:42:07.619723Z",
     "start_time": "2025-01-14T12:42:07.616432Z"
    }
   },
   "outputs": [],
   "source": [
    "dataset = 'emma' # onion or emma\n",
    "results_dir = f'../results/' + dataset + '/performance/'\n",
    "cutoffs = [1, 5, 10, 20]\n",
    "cutoff_date = '2025_03_13'\n",
    "metrics = ['Recall', 'Precision', 'nDCG', 'MRR', 'HR', 'EFD', 'EPC', 'ARP', 'PopREO', 'PopRSP', 'ItemCoverage', 'UserCoverage']\n",
    "#metrics = ['Recall', 'Precision', 'nDCG', 'MRR', 'HR']"
   ]
  },
  {
   "cell_type": "code",
   "execution_count": 20,
   "id": "46d601c4",
   "metadata": {
    "ExecuteTime": {
     "end_time": "2025-01-14T12:42:07.816676Z",
     "start_time": "2025-01-14T12:42:07.811468Z"
    }
   },
   "outputs": [],
   "source": [
    "def find_modality(string):\n",
    "    keyword = \"modalites=\"\n",
    "    start = string.find(keyword)\n",
    "    if start == -1:\n",
    "        return None\n",
    "\n",
    "    start += len(keyword)\n",
    "    end = string.find(\"_\", start)\n",
    "    if end == -1:\n",
    "        end = len(string)\n",
    "\n",
    "    modality = string[start:end].strip(\"'\")\n",
    "    return modality"
   ]
  },
  {
   "cell_type": "code",
   "execution_count": 21,
   "id": "3ba7fe74",
   "metadata": {
    "ExecuteTime": {
     "end_time": "2025-01-14T13:01:32.739719Z",
     "start_time": "2025-01-14T13:01:32.455670Z"
    }
   },
   "outputs": [
    {
     "name": "stdout",
     "output_type": "stream",
     "text": [
      "(7, 27)\n",
      "(7, 39)\n",
      "(7, 51)\n"
     ]
    },
    {
     "data": {
      "text/html": [
       "<div>\n",
       "<style scoped>\n",
       "    .dataframe tbody tr th:only-of-type {\n",
       "        vertical-align: middle;\n",
       "    }\n",
       "\n",
       "    .dataframe tbody tr th {\n",
       "        vertical-align: top;\n",
       "    }\n",
       "\n",
       "    .dataframe thead th {\n",
       "        text-align: right;\n",
       "    }\n",
       "</style>\n",
       "<table border=\"1\" class=\"dataframe\">\n",
       "  <thead>\n",
       "    <tr style=\"text-align: right;\">\n",
       "      <th></th>\n",
       "      <th>model</th>\n",
       "      <th>modality</th>\n",
       "      <th>date</th>\n",
       "      <th>Recall@1</th>\n",
       "      <th>Recall@5</th>\n",
       "      <th>Recall@10</th>\n",
       "      <th>nDCG@1</th>\n",
       "      <th>nDCG@5</th>\n",
       "      <th>nDCG@10</th>\n",
       "    </tr>\n",
       "  </thead>\n",
       "  <tbody>\n",
       "    <tr>\n",
       "      <th>4</th>\n",
       "      <td>LightGCNM</td>\n",
       "      <td>emotion</td>\n",
       "      <td>2025_03_13_21_45_13</td>\n",
       "      <td>0.122674</td>\n",
       "      <td>0.358082</td>\n",
       "      <td>0.499281</td>\n",
       "      <td>0.220869</td>\n",
       "      <td>0.287274</td>\n",
       "      <td>0.341346</td>\n",
       "    </tr>\n",
       "    <tr>\n",
       "      <th>6</th>\n",
       "      <td>LightGCNM</td>\n",
       "      <td>audio'-'textual'-'visual'-'emotion</td>\n",
       "      <td>2025_03_14_05_01_08</td>\n",
       "      <td>0.127858</td>\n",
       "      <td>0.367327</td>\n",
       "      <td>0.511901</td>\n",
       "      <td>0.229078</td>\n",
       "      <td>0.294675</td>\n",
       "      <td>0.350147</td>\n",
       "    </tr>\n",
       "    <tr>\n",
       "      <th>1</th>\n",
       "      <td>LightGCN</td>\n",
       "      <td>None</td>\n",
       "      <td>2025_03_13_15_10_00</td>\n",
       "      <td>0.132696</td>\n",
       "      <td>0.369212</td>\n",
       "      <td>0.517846</td>\n",
       "      <td>0.237023</td>\n",
       "      <td>0.298911</td>\n",
       "      <td>0.355824</td>\n",
       "    </tr>\n",
       "    <tr>\n",
       "      <th>2</th>\n",
       "      <td>FeatureItemKNN</td>\n",
       "      <td>emotion</td>\n",
       "      <td>2025_03_13_17_14_05</td>\n",
       "      <td>0.135741</td>\n",
       "      <td>0.374032</td>\n",
       "      <td>0.511244</td>\n",
       "      <td>0.242585</td>\n",
       "      <td>0.303772</td>\n",
       "      <td>0.356463</td>\n",
       "    </tr>\n",
       "    <tr>\n",
       "      <th>3</th>\n",
       "      <td>FeatureItemKNN</td>\n",
       "      <td>audio'-'textual'-'visual</td>\n",
       "      <td>2025_03_13_21_09_45</td>\n",
       "      <td>0.141435</td>\n",
       "      <td>0.375215</td>\n",
       "      <td>0.514565</td>\n",
       "      <td>0.252383</td>\n",
       "      <td>0.307470</td>\n",
       "      <td>0.361218</td>\n",
       "    </tr>\n",
       "    <tr>\n",
       "      <th>5</th>\n",
       "      <td>FeatureItemKNN</td>\n",
       "      <td>audio'-'textual'-'visual'-'emotion</td>\n",
       "      <td>2025_03_13_22_11_58</td>\n",
       "      <td>0.141435</td>\n",
       "      <td>0.375215</td>\n",
       "      <td>0.514565</td>\n",
       "      <td>0.252383</td>\n",
       "      <td>0.307470</td>\n",
       "      <td>0.361218</td>\n",
       "    </tr>\n",
       "    <tr>\n",
       "      <th>0</th>\n",
       "      <td>ItemKNN</td>\n",
       "      <td>None</td>\n",
       "      <td>2025_03_13_13_24_47</td>\n",
       "      <td>0.140998</td>\n",
       "      <td>0.374729</td>\n",
       "      <td>0.515979</td>\n",
       "      <td>0.251324</td>\n",
       "      <td>0.307664</td>\n",
       "      <td>0.362160</td>\n",
       "    </tr>\n",
       "  </tbody>\n",
       "</table>\n",
       "</div>"
      ],
      "text/plain": [
       "            model                            modality                 date  \\\n",
       "4       LightGCNM                             emotion  2025_03_13_21_45_13   \n",
       "6       LightGCNM  audio'-'textual'-'visual'-'emotion  2025_03_14_05_01_08   \n",
       "1        LightGCN                                None  2025_03_13_15_10_00   \n",
       "2  FeatureItemKNN                             emotion  2025_03_13_17_14_05   \n",
       "3  FeatureItemKNN            audio'-'textual'-'visual  2025_03_13_21_09_45   \n",
       "5  FeatureItemKNN  audio'-'textual'-'visual'-'emotion  2025_03_13_22_11_58   \n",
       "0         ItemKNN                                None  2025_03_13_13_24_47   \n",
       "\n",
       "   Recall@1  Recall@5  Recall@10    nDCG@1    nDCG@5   nDCG@10  \n",
       "4  0.122674  0.358082   0.499281  0.220869  0.287274  0.341346  \n",
       "6  0.127858  0.367327   0.511901  0.229078  0.294675  0.350147  \n",
       "1  0.132696  0.369212   0.517846  0.237023  0.298911  0.355824  \n",
       "2  0.135741  0.374032   0.511244  0.242585  0.303772  0.356463  \n",
       "3  0.141435  0.375215   0.514565  0.252383  0.307470  0.361218  \n",
       "5  0.141435  0.375215   0.514565  0.252383  0.307470  0.361218  \n",
       "0  0.140998  0.374729   0.515979  0.251324  0.307664  0.362160  "
      ]
     },
     "execution_count": 21,
     "metadata": {},
     "output_type": "execute_result"
    }
   ],
   "source": [
    "# read all files in result folder\n",
    "files = os.listdir(results_dir)\n",
    "df = pd.DataFrame()\n",
    "\n",
    "for cutoff in cutoffs:\n",
    "    df_cut = pd.DataFrame()\n",
    "    result_files_cutoff = [f for f in files if f.startswith(f'rec_cutoff_{cutoff}_')]\n",
    "    for f in result_files_cutoff:\n",
    "        df_tmp = pd.read_csv(results_dir + f, sep='\\t')\n",
    "        tmp_metrics = [m for m in metrics if m in df_tmp.columns]\n",
    "        df_tmp.rename(columns={m: f'{m}@{cutoff}' for m in tmp_metrics}, inplace=True)\n",
    "        df_tmp['modality'] = find_modality(df_tmp['model'].values[0])\n",
    "        df_tmp['model'] = df_tmp['model'].str.split('_').str[0]\n",
    "        df_tmp['date'] = f[-23:-4]\n",
    "        df_cut = pd.concat([df_cut, df_tmp], axis=0)\n",
    "\n",
    "    # keep only newest model results\n",
    "    df_cut = df_cut.sort_values('date').drop_duplicates(subset=['model', 'modality'], keep='last')\n",
    "\n",
    "    # drop models results before cutoff date\n",
    "    df_cut = df_cut[df_cut['date'] >= cutoff_date]\n",
    "\n",
    "    # merge with previous cutoffs\n",
    "    if not df.empty:\n",
    "        df = pd.merge(df, df_cut, on=['model', 'date', 'modality'], how='inner')\n",
    "        print(df.shape)\n",
    "    else:\n",
    "        df = df_cut\n",
    "\n",
    "df = df[['model', 'modality', 'date'] + [c for c in df.columns if '@' in c]]\n",
    "df.sort_values('nDCG@5', inplace=True)\n",
    "# display columns with @10 only\n",
    "#df[['model', 'modality', 'date'] + [c for c in df.columns if '@1' in c]]\n",
    "df[['model', 'modality', 'date'] + ['Recall@1', 'Recall@5', 'Recall@10', 'nDCG@1', 'nDCG@5', 'nDCG@10']]"
   ]
  },
  {
   "cell_type": "code",
   "execution_count": 13,
   "id": "acca79c1",
   "metadata": {},
   "outputs": [],
   "source": [
    "# export to comma seperated file\n",
    "df.to_csv(f'../results/{dataset}_performance.csv', index=False)"
   ]
  },
  {
   "cell_type": "code",
   "execution_count": 14,
   "id": "ac31ac46",
   "metadata": {},
   "outputs": [],
   "source": [
    "for cutoff in cutoffs:\n",
    "    df_cut = df[['model'] + [c for c in df.columns if f'@{cutoff}' in c]]\n",
    "    df_cut.to_csv(f'../results/{dataset}_performance_{cutoff}.csv', index=False)"
   ]
  },
  {
   "cell_type": "code",
   "execution_count": null,
   "id": "baa30bb4",
   "metadata": {},
   "outputs": [],
   "source": []
  }
 ],
 "metadata": {
  "kernelspec": {
   "display_name": "elliot",
   "language": "python",
   "name": "python3"
  },
  "language_info": {
   "codemirror_mode": {
    "name": "ipython",
    "version": 3
   },
   "file_extension": ".py",
   "mimetype": "text/x-python",
   "name": "python",
   "nbconvert_exporter": "python",
   "pygments_lexer": "ipython3",
   "version": "3.8.20"
  }
 },
 "nbformat": 4,
 "nbformat_minor": 5
}
