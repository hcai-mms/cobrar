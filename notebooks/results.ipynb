{
 "cells": [
  {
   "cell_type": "code",
   "id": "initial_id",
   "metadata": {
    "collapsed": true,
    "ExecuteTime": {
     "end_time": "2025-02-21T17:03:03.139450Z",
     "start_time": "2025-02-21T17:03:03.136706Z"
    }
   },
   "source": [
    "import pandas as pd\n",
    "import numpy as np\n",
    "import os\n",
    "import tqdm\n",
    "import shutil"
   ],
   "outputs": [],
   "execution_count": 47
  },
  {
   "metadata": {
    "ExecuteTime": {
     "end_time": "2025-02-21T17:03:03.910083Z",
     "start_time": "2025-02-21T17:03:03.907378Z"
    }
   },
   "cell_type": "code",
   "source": [
    "dataset = 'emma' # onion or emma\n",
    "results_dir = f'../results/' + dataset + '/performance/'\n",
    "cutoffs = [5] # [1, 5, 10, 20]\n",
    "metrics = ['nDCG'] # 'Recall', 'Precision', 'nDCG', 'MRR', 'HR', 'EFD', 'EPC', 'ARP', 'PopREO', 'PopRSP', 'ItemCoverage', 'UserCoverage']\n",
    "#metrics = ['Recall', 'Precision', 'nDCG', 'MRR', 'HR']\n",
    "results_dir"
   ],
   "id": "3e80a58ceef30f1d",
   "outputs": [
    {
     "data": {
      "text/plain": [
       "'../results/emma/performance/'"
      ]
     },
     "execution_count": 48,
     "metadata": {},
     "output_type": "execute_result"
    }
   ],
   "execution_count": 48
  },
  {
   "metadata": {
    "ExecuteTime": {
     "end_time": "2025-02-21T17:14:45.759907Z",
     "start_time": "2025-02-21T17:14:45.754494Z"
    }
   },
   "cell_type": "code",
   "source": [
    "def find_modality(string, keyword=\"modalites=\"):\n",
    "    start = string.find(keyword)\n",
    "    if start == -1:\n",
    "        return None\n",
    "\n",
    "    start += len(keyword)\n",
    "    end = string.find(\"_\", start)\n",
    "    if end == -1:\n",
    "        end = len(string)\n",
    "\n",
    "    modality = string[start:end].strip(\"'\")\n",
    "    return modality"
   ],
   "id": "ffef1e12c5da502e",
   "outputs": [],
   "execution_count": 62
  },
  {
   "metadata": {
    "ExecuteTime": {
     "end_time": "2025-02-21T17:15:25.272147Z",
     "start_time": "2025-02-21T17:15:25.251403Z"
    }
   },
   "cell_type": "code",
   "source": [
    "# read all files in result folder\n",
    "files = os.listdir(results_dir)\n",
    "df = pd.DataFrame()\n",
    "\n",
    "for cutoff in cutoffs:\n",
    "    df_cut = pd.DataFrame()\n",
    "    result_files_cutoff = [f for f in files if f.startswith(f'rec_cutoff_{cutoff}_')]\n",
    "    for f in result_files_cutoff:\n",
    "        file_path = results_dir + f\n",
    "        df_tmp = pd.read_csv(file_path, sep='\\t')\n",
    "        tmp_metrics = [m for m in metrics if m in df_tmp.columns]\n",
    "        df_tmp.rename(columns={m: f'{m}@{cutoff}' for m in tmp_metrics}, inplace=True)\n",
    "        if 'SiBraR' in df_tmp['model'].values[0]:\n",
    "            keyword = \"modalities=\"\n",
    "        else:\n",
    "            keyword = \"modalites=\"\n",
    "        df_tmp['modality'] = find_modality(df_tmp['model'].values[0], keyword=keyword)\n",
    "        model = df_tmp['model'].str.split('_').str[0]\n",
    "        df_tmp['model'] = model\n",
    "\n",
    "        df_tmp['date'] = f[-23:-4]\n",
    "        df_cut = pd.concat([df_cut, df_tmp], axis=0)\n",
    "        # print(f)\n",
    "\n",
    "    # keep only newest model results\n",
    "    df_cut = df_cut.sort_values('date').drop_duplicates(subset=['model', 'modality'], keep='last')\n",
    "\n",
    "    # merge with previous cutoffs\n",
    "    if not df.empty:\n",
    "        # print(df_cut)\n",
    "        df = pd.merge(df, df_cut, on=['model', 'date', 'modality'], how='inner')\n",
    "        # print(df.shape)\n",
    "    else:\n",
    "        df = df_cut\n",
    "        # print(df.head())\n",
    "\n",
    "df = df[['model', 'modality', 'date'] + [c for c in df.columns if '@' in c]]\n",
    "df.sort_values('nDCG@5', inplace=True)\n",
    "# display columns with @10 only\n",
    "#df[['model', 'modality', 'date'] + [c for c in df.columns if '@1' in c]]\n",
    "df[['model', 'modality', 'date'] + ['nDCG@5']]"
   ],
   "id": "4f0f510bd8e80e9d",
   "outputs": [
    {
     "name": "stderr",
     "output_type": "stream",
     "text": [
      "/tmp/ipykernel_105233/1828473671.py:38: SettingWithCopyWarning: \n",
      "A value is trying to be set on a copy of a slice from a DataFrame\n",
      "\n",
      "See the caveats in the documentation: https://pandas.pydata.org/pandas-docs/stable/user_guide/indexing.html#returning-a-view-versus-a-copy\n",
      "  df.sort_values('nDCG@5', inplace=True)\n"
     ]
    },
    {
     "data": {
      "text/plain": [
       "            model modality                 date    nDCG@5\n",
       "0          SiBraR    audio  2025_02_21_15_41_51  0.253716\n",
       "0          DeepMF     None  2025_02_20_15_58_42  0.278062\n",
       "0            VBPR    audio  2025_02_21_18_02_30  0.278407\n",
       "0       LightGCNM    audio  2025_02_21_17_31_08  0.291294\n",
       "0  FeatureItemKNN  emotion  2025_02_20_09_56_51  0.303772\n",
       "0         ItemKNN     None  2025_02_21_15_17_19  0.307664"
      ],
      "text/html": [
       "<div>\n",
       "<style scoped>\n",
       "    .dataframe tbody tr th:only-of-type {\n",
       "        vertical-align: middle;\n",
       "    }\n",
       "\n",
       "    .dataframe tbody tr th {\n",
       "        vertical-align: top;\n",
       "    }\n",
       "\n",
       "    .dataframe thead th {\n",
       "        text-align: right;\n",
       "    }\n",
       "</style>\n",
       "<table border=\"1\" class=\"dataframe\">\n",
       "  <thead>\n",
       "    <tr style=\"text-align: right;\">\n",
       "      <th></th>\n",
       "      <th>model</th>\n",
       "      <th>modality</th>\n",
       "      <th>date</th>\n",
       "      <th>nDCG@5</th>\n",
       "    </tr>\n",
       "  </thead>\n",
       "  <tbody>\n",
       "    <tr>\n",
       "      <th>0</th>\n",
       "      <td>SiBraR</td>\n",
       "      <td>audio</td>\n",
       "      <td>2025_02_21_15_41_51</td>\n",
       "      <td>0.253716</td>\n",
       "    </tr>\n",
       "    <tr>\n",
       "      <th>0</th>\n",
       "      <td>DeepMF</td>\n",
       "      <td>None</td>\n",
       "      <td>2025_02_20_15_58_42</td>\n",
       "      <td>0.278062</td>\n",
       "    </tr>\n",
       "    <tr>\n",
       "      <th>0</th>\n",
       "      <td>VBPR</td>\n",
       "      <td>audio</td>\n",
       "      <td>2025_02_21_18_02_30</td>\n",
       "      <td>0.278407</td>\n",
       "    </tr>\n",
       "    <tr>\n",
       "      <th>0</th>\n",
       "      <td>LightGCNM</td>\n",
       "      <td>audio</td>\n",
       "      <td>2025_02_21_17_31_08</td>\n",
       "      <td>0.291294</td>\n",
       "    </tr>\n",
       "    <tr>\n",
       "      <th>0</th>\n",
       "      <td>FeatureItemKNN</td>\n",
       "      <td>emotion</td>\n",
       "      <td>2025_02_20_09_56_51</td>\n",
       "      <td>0.303772</td>\n",
       "    </tr>\n",
       "    <tr>\n",
       "      <th>0</th>\n",
       "      <td>ItemKNN</td>\n",
       "      <td>None</td>\n",
       "      <td>2025_02_21_15_17_19</td>\n",
       "      <td>0.307664</td>\n",
       "    </tr>\n",
       "  </tbody>\n",
       "</table>\n",
       "</div>"
      ]
     },
     "execution_count": 64,
     "metadata": {},
     "output_type": "execute_result"
    }
   ],
   "execution_count": 64
  },
  {
   "metadata": {},
   "cell_type": "code",
   "outputs": [],
   "execution_count": null,
   "source": [
    "# export to comma seperated file\n",
    "# df.to_csv(f'../results/{dataset}_performance.csv', index=False)"
   ],
   "id": "459fff2f0a5d4e61"
  },
  {
   "metadata": {},
   "cell_type": "code",
   "outputs": [],
   "execution_count": null,
   "source": [
    "for cutoff in cutoffs:\n",
    "    df_cut = df[['model'] + [c for c in df.columns if f'@{cutoff}' in c]]\n",
    "    df_cut.to_csv(f'../results/{dataset}_performance_{cutoff}.csv', index=False)"
   ],
   "id": "a5805d48e0ba2ea3"
  },
  {
   "cell_type": "code",
   "execution_count": null,
   "id": "baa30bb4",
   "metadata": {},
   "outputs": [],
   "source": []
  }
 ],
 "metadata": {
  "kernelspec": {
   "display_name": "elliot",
   "language": "python",
   "name": "python3"
  },
  "language_info": {
   "codemirror_mode": {
    "name": "ipython",
    "version": 3
   },
   "file_extension": ".py",
   "mimetype": "text/x-python",
   "name": "python",
   "nbconvert_exporter": "python",
   "pygments_lexer": "ipython3",
   "version": "3.8.20"
  }
 },
 "nbformat": 4,
 "nbformat_minor": 5
}
