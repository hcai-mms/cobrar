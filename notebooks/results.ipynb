{
 "cells": [
  {
   "cell_type": "code",
   "execution_count": 1,
   "id": "initial_id",
   "metadata": {
    "ExecuteTime": {
     "end_time": "2025-01-14T12:42:07.611856Z",
     "start_time": "2025-01-14T12:42:07.418348Z"
    },
    "collapsed": true
   },
   "outputs": [],
   "source": [
    "import pandas as pd\n",
    "import numpy as np\n",
    "import os\n",
    "import tqdm\n",
    "import shutil"
   ]
  },
  {
   "cell_type": "code",
   "execution_count": 11,
   "id": "54f686a4400205fa",
   "metadata": {
    "ExecuteTime": {
     "end_time": "2025-01-14T12:42:07.619723Z",
     "start_time": "2025-01-14T12:42:07.616432Z"
    }
   },
   "outputs": [],
   "source": [
    "dataset = 'onion' # onion or emma\n",
    "results_dir = f'../results/' + dataset + '/performance/'\n",
    "cutoffs = [1, 5, 10, 20]\n",
    "metrics = ['Recall', 'Precision', 'nDCG', 'MRR', 'HR', 'EFD', 'EPC', 'ARP', 'PopREO', 'PopRSP', 'ItemCoverage', 'UserCoverage']\n",
    "#metrics = ['Recall', 'Precision', 'nDCG', 'MRR', 'HR']"
   ]
  },
  {
   "cell_type": "code",
   "execution_count": 12,
   "id": "46d601c4",
   "metadata": {
    "ExecuteTime": {
     "end_time": "2025-01-14T12:42:07.816676Z",
     "start_time": "2025-01-14T12:42:07.811468Z"
    }
   },
   "outputs": [],
   "source": [
    "def find_modality(string):\n",
    "    keyword = \"modalites=\"\n",
    "    start = string.find(keyword)\n",
    "    if start == -1:\n",
    "        return None\n",
    "\n",
    "    start += len(keyword)\n",
    "    end = string.find(\"_\", start)\n",
    "    if end == -1:\n",
    "        end = len(string)\n",
    "\n",
    "    modality = string[start:end].strip(\"'\")\n",
    "    return modality"
   ]
  },
  {
   "cell_type": "code",
   "execution_count": 13,
   "id": "3ba7fe74",
   "metadata": {
    "ExecuteTime": {
     "end_time": "2025-01-14T13:01:32.739719Z",
     "start_time": "2025-01-14T13:01:32.455670Z"
    }
   },
   "outputs": [
    {
     "name": "stdout",
     "output_type": "stream",
     "text": [
      "(7, 13)\n",
      "(7, 18)\n",
      "(7, 23)\n"
     ]
    },
    {
     "data": {
      "text/html": [
       "<div>\n",
       "<style scoped>\n",
       "    .dataframe tbody tr th:only-of-type {\n",
       "        vertical-align: middle;\n",
       "    }\n",
       "\n",
       "    .dataframe tbody tr th {\n",
       "        vertical-align: top;\n",
       "    }\n",
       "\n",
       "    .dataframe thead th {\n",
       "        text-align: right;\n",
       "    }\n",
       "</style>\n",
       "<table border=\"1\" class=\"dataframe\">\n",
       "  <thead>\n",
       "    <tr style=\"text-align: right;\">\n",
       "      <th></th>\n",
       "      <th>model</th>\n",
       "      <th>modality</th>\n",
       "      <th>date</th>\n",
       "      <th>Recall@1</th>\n",
       "      <th>Recall@5</th>\n",
       "      <th>Recall@10</th>\n",
       "      <th>nDCG@1</th>\n",
       "      <th>nDCG@5</th>\n",
       "      <th>nDCG@10</th>\n",
       "    </tr>\n",
       "  </thead>\n",
       "  <tbody>\n",
       "    <tr>\n",
       "      <th>2</th>\n",
       "      <td>Random</td>\n",
       "      <td>None</td>\n",
       "      <td>2025_02_19_12_23_06</td>\n",
       "      <td>0.000057</td>\n",
       "      <td>0.000142</td>\n",
       "      <td>0.000435</td>\n",
       "      <td>0.000305</td>\n",
       "      <td>0.000249</td>\n",
       "      <td>0.000353</td>\n",
       "    </tr>\n",
       "    <tr>\n",
       "      <th>1</th>\n",
       "      <td>MostPop</td>\n",
       "      <td>None</td>\n",
       "      <td>2025_02_19_12_23_06</td>\n",
       "      <td>0.002608</td>\n",
       "      <td>0.009729</td>\n",
       "      <td>0.015334</td>\n",
       "      <td>0.011415</td>\n",
       "      <td>0.010891</td>\n",
       "      <td>0.012566</td>\n",
       "    </tr>\n",
       "    <tr>\n",
       "      <th>6</th>\n",
       "      <td>LightGCN</td>\n",
       "      <td>None</td>\n",
       "      <td>2025_02_22_17_47_27</td>\n",
       "      <td>0.044801</td>\n",
       "      <td>0.148772</td>\n",
       "      <td>0.207801</td>\n",
       "      <td>0.160633</td>\n",
       "      <td>0.161059</td>\n",
       "      <td>0.178209</td>\n",
       "    </tr>\n",
       "    <tr>\n",
       "      <th>3</th>\n",
       "      <td>FeatureItemKNN</td>\n",
       "      <td>emotion</td>\n",
       "      <td>2025_02_20_03_09_50</td>\n",
       "      <td>0.061262</td>\n",
       "      <td>0.210941</td>\n",
       "      <td>0.293501</td>\n",
       "      <td>0.251863</td>\n",
       "      <td>0.245303</td>\n",
       "      <td>0.264353</td>\n",
       "    </tr>\n",
       "    <tr>\n",
       "      <th>0</th>\n",
       "      <td>ItemKNN</td>\n",
       "      <td>None</td>\n",
       "      <td>2025_02_19_12_23_06</td>\n",
       "      <td>0.061633</td>\n",
       "      <td>0.211229</td>\n",
       "      <td>0.293755</td>\n",
       "      <td>0.252908</td>\n",
       "      <td>0.245702</td>\n",
       "      <td>0.264729</td>\n",
       "    </tr>\n",
       "    <tr>\n",
       "      <th>5</th>\n",
       "      <td>FeatureItemKNN</td>\n",
       "      <td>textual</td>\n",
       "      <td>2025_02_20_15_39_12</td>\n",
       "      <td>0.061394</td>\n",
       "      <td>0.211460</td>\n",
       "      <td>0.293683</td>\n",
       "      <td>0.252124</td>\n",
       "      <td>0.245749</td>\n",
       "      <td>0.264581</td>\n",
       "    </tr>\n",
       "    <tr>\n",
       "      <th>4</th>\n",
       "      <td>FeatureItemKNN</td>\n",
       "      <td>audio</td>\n",
       "      <td>2025_02_20_09_52_00</td>\n",
       "      <td>0.061740</td>\n",
       "      <td>0.211500</td>\n",
       "      <td>0.293630</td>\n",
       "      <td>0.252995</td>\n",
       "      <td>0.245965</td>\n",
       "      <td>0.264736</td>\n",
       "    </tr>\n",
       "  </tbody>\n",
       "</table>\n",
       "</div>"
      ],
      "text/plain": [
       "            model modality                 date  Recall@1  Recall@5  \\\n",
       "2          Random     None  2025_02_19_12_23_06  0.000057  0.000142   \n",
       "1         MostPop     None  2025_02_19_12_23_06  0.002608  0.009729   \n",
       "6        LightGCN     None  2025_02_22_17_47_27  0.044801  0.148772   \n",
       "3  FeatureItemKNN  emotion  2025_02_20_03_09_50  0.061262  0.210941   \n",
       "0         ItemKNN     None  2025_02_19_12_23_06  0.061633  0.211229   \n",
       "5  FeatureItemKNN  textual  2025_02_20_15_39_12  0.061394  0.211460   \n",
       "4  FeatureItemKNN    audio  2025_02_20_09_52_00  0.061740  0.211500   \n",
       "\n",
       "   Recall@10    nDCG@1    nDCG@5   nDCG@10  \n",
       "2   0.000435  0.000305  0.000249  0.000353  \n",
       "1   0.015334  0.011415  0.010891  0.012566  \n",
       "6   0.207801  0.160633  0.161059  0.178209  \n",
       "3   0.293501  0.251863  0.245303  0.264353  \n",
       "0   0.293755  0.252908  0.245702  0.264729  \n",
       "5   0.293683  0.252124  0.245749  0.264581  \n",
       "4   0.293630  0.252995  0.245965  0.264736  "
      ]
     },
     "execution_count": 13,
     "metadata": {},
     "output_type": "execute_result"
    }
   ],
   "source": [
    "# read all files in result folder\n",
    "files = os.listdir(results_dir)\n",
    "df = pd.DataFrame()\n",
    "\n",
    "for cutoff in cutoffs:\n",
    "    df_cut = pd.DataFrame()\n",
    "    result_files_cutoff = [f for f in files if f.startswith(f'rec_cutoff_{cutoff}_')]\n",
    "    for f in result_files_cutoff:\n",
    "        df_tmp = pd.read_csv(results_dir + f, sep='\\t')\n",
    "        tmp_metrics = [m for m in metrics if m in df_tmp.columns]\n",
    "        df_tmp.rename(columns={m: f'{m}@{cutoff}' for m in tmp_metrics}, inplace=True)\n",
    "        df_tmp['modality'] = find_modality(df_tmp['model'].values[0])\n",
    "        df_tmp['model'] = df_tmp['model'].str.split('_').str[0]\n",
    "        df_tmp['date'] = f[-23:-4]\n",
    "        df_cut = pd.concat([df_cut, df_tmp], axis=0)\n",
    "\n",
    "    # keep only newest model results\n",
    "    df_cut = df_cut.sort_values('date').drop_duplicates(subset=['model', 'modality'], keep='last')\n",
    "\n",
    "    # merge with previous cutoffs\n",
    "    if not df.empty:\n",
    "        df = pd.merge(df, df_cut, on=['model', 'date', 'modality'], how='inner')\n",
    "        print(df.shape)\n",
    "    else:\n",
    "        df = df_cut\n",
    "\n",
    "df = df[['model', 'modality', 'date'] + [c for c in df.columns if '@' in c]]\n",
    "df.sort_values('nDCG@5', inplace=True)\n",
    "# display columns with @10 only\n",
    "#df[['model', 'modality', 'date'] + [c for c in df.columns if '@1' in c]]\n",
    "df[['model', 'modality', 'date'] + ['Recall@1', 'Recall@5', 'Recall@10', 'nDCG@1', 'nDCG@5', 'nDCG@10']]"
   ]
  },
  {
   "cell_type": "code",
   "execution_count": 13,
   "id": "acca79c1",
   "metadata": {},
   "outputs": [],
   "source": [
    "# export to comma seperated file\n",
    "df.to_csv(f'../results/{dataset}_performance.csv', index=False)"
   ]
  },
  {
   "cell_type": "code",
   "execution_count": 14,
   "id": "ac31ac46",
   "metadata": {},
   "outputs": [],
   "source": [
    "for cutoff in cutoffs:\n",
    "    df_cut = df[['model'] + [c for c in df.columns if f'@{cutoff}' in c]]\n",
    "    df_cut.to_csv(f'../results/{dataset}_performance_{cutoff}.csv', index=False)"
   ]
  },
  {
   "cell_type": "code",
   "execution_count": null,
   "id": "baa30bb4",
   "metadata": {},
   "outputs": [],
   "source": []
  }
 ],
 "metadata": {
  "kernelspec": {
   "display_name": "elliot",
   "language": "python",
   "name": "python3"
  },
  "language_info": {
   "codemirror_mode": {
    "name": "ipython",
    "version": 3
   },
   "file_extension": ".py",
   "mimetype": "text/x-python",
   "name": "python",
   "nbconvert_exporter": "python",
   "pygments_lexer": "ipython3",
   "version": "3.8.20"
  }
 },
 "nbformat": 4,
 "nbformat_minor": 5
}
