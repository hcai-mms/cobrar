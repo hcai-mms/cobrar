{
 "cells": [
  {
   "cell_type": "code",
   "execution_count": null,
   "id": "initial_id",
   "metadata": {
    "ExecuteTime": {
     "end_time": "2024-11-20T12:01:02.486716Z",
     "start_time": "2024-11-20T12:01:02.316401Z"
    },
    "collapsed": true
   },
   "outputs": [],
   "source": [
    "import pandas as pd\n",
    "import numpy as np\n",
    "import os\n",
    "import shutil"
   ]
  },
  {
   "cell_type": "code",
   "execution_count": null,
   "id": "8691682302e64904",
   "metadata": {
    "ExecuteTime": {
     "end_time": "2024-11-20T12:01:02.516896Z",
     "start_time": "2024-11-20T12:01:02.514158Z"
    }
   },
   "outputs": [],
   "source": [
    "# check how many rows in file\n",
    "# !wc -l ../data/m4a/userid_trackid_timestamp_m4a.tsv\n",
    "# 252984397"
   ]
  },
  {
   "cell_type": "code",
   "execution_count": null,
   "id": "54f686a4400205fa",
   "metadata": {
    "ExecuteTime": {
     "end_time": "2024-11-20T12:01:22.444570Z",
     "start_time": "2024-11-20T12:01:17.981234Z"
    }
   },
   "outputs": [],
   "source": [
    "df_interactions = pd.read_csv('../data/userid_trackid_timestamp.tsv', sep='\\t')\n",
    "print(df_interactions.shape)\n",
    "df_interactions.head()"
   ]
  },
  {
   "cell_type": "code",
   "execution_count": null,
   "id": "67ebcd5af5256e0f",
   "metadata": {
    "ExecuteTime": {
     "end_time": "2024-11-20T12:01:22.526641Z",
     "start_time": "2024-11-20T12:01:22.518498Z"
    }
   },
   "outputs": [],
   "source": [
    "df_emma = pd.read_csv('../data/id_emma.tsv', sep='\\t')\n",
    "df_emma"
   ]
  },
  {
   "cell_type": "code",
   "execution_count": null,
   "id": "9baf7b5826153d17",
   "metadata": {
    "ExecuteTime": {
     "end_time": "2024-11-20T12:01:22.859613Z",
     "start_time": "2024-11-20T12:01:22.573229Z"
    }
   },
   "outputs": [],
   "source": [
    "df_interactions = df_interactions[df_interactions['track_id'].isin(df_emma.id)]\n",
    "print(df_interactions.shape)\n",
    "df_interactions.head()"
   ]
  },
  {
   "cell_type": "code",
   "execution_count": null,
   "id": "6e58b7c11213afbb",
   "metadata": {
    "ExecuteTime": {
     "end_time": "2024-11-20T12:01:22.987979Z",
     "start_time": "2024-11-20T12:01:22.978139Z"
    }
   },
   "outputs": [],
   "source": [
    "# sparsity of dataset\n",
    "n_users = df_interactions['user_id'].nunique()\n",
    "n_items = df_interactions['track_id'].nunique()\n",
    "n_interactions = df_interactions.shape[0]\n",
    "sparsity = 1 - n_interactions / (n_users * n_items)\n",
    "sparsity"
   ]
  },
  {
   "cell_type": "code",
   "execution_count": null,
   "id": "96f7a550e34a1154",
   "metadata": {
    "ExecuteTime": {
     "end_time": "2024-11-20T12:02:00.048631Z",
     "start_time": "2024-11-20T12:02:00.043323Z"
    }
   },
   "outputs": [],
   "source": [
    "n_items"
   ]
  },
  {
   "cell_type": "code",
   "execution_count": null,
   "id": "660c6004",
   "metadata": {},
   "outputs": [],
   "source": [
    "n_users"
   ]
  },
  {
   "cell_type": "code",
   "execution_count": null,
   "id": "1e10a91504dded70",
   "metadata": {
    "ExecuteTime": {
     "end_time": "2024-11-20T12:02:27.752878Z",
     "start_time": "2024-11-20T12:02:27.606901Z"
    }
   },
   "outputs": [],
   "source": [
    "# export\n",
    "df_interactions.to_csv('../data/userid_trackid_timestamp_emma.tsv', sep='\\t', index=False)"
   ]
  }
 ],
 "metadata": {
  "kernelspec": {
   "display_name": "elliot",
   "language": "python",
   "name": "python3"
  },
  "language_info": {
   "codemirror_mode": {
    "name": "ipython",
    "version": 3
   },
   "file_extension": ".py",
   "mimetype": "text/x-python",
   "name": "python",
   "nbconvert_exporter": "python",
   "pygments_lexer": "ipython3",
   "version": "3.8.20"
  }
 },
 "nbformat": 4,
 "nbformat_minor": 5
}
