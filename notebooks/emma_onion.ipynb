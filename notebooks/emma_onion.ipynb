{
 "cells": [
  {
   "cell_type": "code",
   "execution_count": 1,
   "id": "initial_id",
   "metadata": {
    "ExecuteTime": {
     "end_time": "2025-01-14T12:39:12.448930Z",
     "start_time": "2025-01-14T12:39:12.284188Z"
    },
    "collapsed": true
   },
   "outputs": [],
   "source": [
    "import pandas as pd\n",
    "import numpy as np\n",
    "import os\n",
    "import shutil"
   ]
  },
  {
   "cell_type": "code",
   "execution_count": 2,
   "id": "54f686a4400205fa",
   "metadata": {
    "ExecuteTime": {
     "end_time": "2025-01-14T12:39:12.840155Z",
     "start_time": "2025-01-14T12:39:12.457430Z"
    }
   },
   "outputs": [
    {
     "name": "stdout",
     "output_type": "stream",
     "text": [
      "(4463058, 5)\n"
     ]
    },
    {
     "data": {
      "text/html": [
       "<div>\n",
       "<style scoped>\n",
       "    .dataframe tbody tr th:only-of-type {\n",
       "        vertical-align: middle;\n",
       "    }\n",
       "\n",
       "    .dataframe tbody tr th {\n",
       "        vertical-align: top;\n",
       "    }\n",
       "\n",
       "    .dataframe thead th {\n",
       "        text-align: right;\n",
       "    }\n",
       "</style>\n",
       "<table border=\"1\" class=\"dataframe\">\n",
       "  <thead>\n",
       "    <tr style=\"text-align: right;\">\n",
       "      <th></th>\n",
       "      <th>user_id</th>\n",
       "      <th>track_id</th>\n",
       "      <th>timestamp</th>\n",
       "      <th>year</th>\n",
       "      <th>month</th>\n",
       "    </tr>\n",
       "  </thead>\n",
       "  <tbody>\n",
       "    <tr>\n",
       "      <th>0</th>\n",
       "      <td>117534</td>\n",
       "      <td>hxGBTxhSf7o6b1fz</td>\n",
       "      <td>2014-08-24 19:40:30</td>\n",
       "      <td>2014</td>\n",
       "      <td>2014-08</td>\n",
       "    </tr>\n",
       "    <tr>\n",
       "      <th>1</th>\n",
       "      <td>117534</td>\n",
       "      <td>fSQrzRe2g3gsEMoq</td>\n",
       "      <td>2014-08-24 19:55:29</td>\n",
       "      <td>2014</td>\n",
       "      <td>2014-08</td>\n",
       "    </tr>\n",
       "    <tr>\n",
       "      <th>2</th>\n",
       "      <td>117534</td>\n",
       "      <td>I53KHO4GCKMeUKUN</td>\n",
       "      <td>2014-08-24 19:47:52</td>\n",
       "      <td>2014</td>\n",
       "      <td>2014-08</td>\n",
       "    </tr>\n",
       "    <tr>\n",
       "      <th>3</th>\n",
       "      <td>117534</td>\n",
       "      <td>nd4vejLsgjjhl55B</td>\n",
       "      <td>2014-08-24 19:36:23</td>\n",
       "      <td>2014</td>\n",
       "      <td>2014-08</td>\n",
       "    </tr>\n",
       "    <tr>\n",
       "      <th>4</th>\n",
       "      <td>117534</td>\n",
       "      <td>WR82nGL7vKxitC5Q</td>\n",
       "      <td>2014-08-24 19:51:04</td>\n",
       "      <td>2014</td>\n",
       "      <td>2014-08</td>\n",
       "    </tr>\n",
       "  </tbody>\n",
       "</table>\n",
       "</div>"
      ],
      "text/plain": [
       "   user_id          track_id            timestamp  year    month\n",
       "0   117534  hxGBTxhSf7o6b1fz  2014-08-24 19:40:30  2014  2014-08\n",
       "1   117534  fSQrzRe2g3gsEMoq  2014-08-24 19:55:29  2014  2014-08\n",
       "2   117534  I53KHO4GCKMeUKUN  2014-08-24 19:47:52  2014  2014-08\n",
       "3   117534  nd4vejLsgjjhl55B  2014-08-24 19:36:23  2014  2014-08\n",
       "4   117534  WR82nGL7vKxitC5Q  2014-08-24 19:51:04  2014  2014-08"
      ]
     },
     "execution_count": 2,
     "metadata": {},
     "output_type": "execute_result"
    }
   ],
   "source": [
    "df_interactions = pd.read_csv('../data/userid_trackid_timestamp_2014.tsv', sep='\\t')\n",
    "print(df_interactions.shape)\n",
    "df_interactions.head()"
   ]
  },
  {
   "cell_type": "code",
   "execution_count": 3,
   "id": "67ebcd5af5256e0f",
   "metadata": {
    "ExecuteTime": {
     "end_time": "2025-01-14T12:39:14.822488Z",
     "start_time": "2025-01-14T12:39:14.802115Z"
    }
   },
   "outputs": [
    {
     "data": {
      "text/html": [
       "<div>\n",
       "<style scoped>\n",
       "    .dataframe tbody tr th:only-of-type {\n",
       "        vertical-align: middle;\n",
       "    }\n",
       "\n",
       "    .dataframe tbody tr th {\n",
       "        vertical-align: top;\n",
       "    }\n",
       "\n",
       "    .dataframe thead th {\n",
       "        text-align: right;\n",
       "    }\n",
       "</style>\n",
       "<table border=\"1\" class=\"dataframe\">\n",
       "  <thead>\n",
       "    <tr style=\"text-align: right;\">\n",
       "      <th></th>\n",
       "      <th>id</th>\n",
       "      <th>wond</th>\n",
       "      <th>tran</th>\n",
       "      <th>tend</th>\n",
       "      <th>nost</th>\n",
       "      <th>peac</th>\n",
       "      <th>joya</th>\n",
       "      <th>ener</th>\n",
       "      <th>sadn</th>\n",
       "      <th>tens</th>\n",
       "    </tr>\n",
       "  </thead>\n",
       "  <tbody>\n",
       "    <tr>\n",
       "      <th>0</th>\n",
       "      <td>XEbyzfafxVpCCLK2</td>\n",
       "      <td>1.594081</td>\n",
       "      <td>-0.667002</td>\n",
       "      <td>-0.150606</td>\n",
       "      <td>-1.513499</td>\n",
       "      <td>-0.816678</td>\n",
       "      <td>0.428617</td>\n",
       "      <td>1.198807</td>\n",
       "      <td>-0.446335</td>\n",
       "      <td>0.612913</td>\n",
       "    </tr>\n",
       "    <tr>\n",
       "      <th>1</th>\n",
       "      <td>wpldgYOXl8u6XbLE</td>\n",
       "      <td>1.553820</td>\n",
       "      <td>2.420615</td>\n",
       "      <td>1.212955</td>\n",
       "      <td>-0.130002</td>\n",
       "      <td>0.431165</td>\n",
       "      <td>0.099829</td>\n",
       "      <td>1.764385</td>\n",
       "      <td>-0.196834</td>\n",
       "      <td>-1.268899</td>\n",
       "    </tr>\n",
       "    <tr>\n",
       "      <th>2</th>\n",
       "      <td>nltzxmV9aWW7F7z8</td>\n",
       "      <td>0.461760</td>\n",
       "      <td>-0.140861</td>\n",
       "      <td>-0.240865</td>\n",
       "      <td>-0.581115</td>\n",
       "      <td>-0.609828</td>\n",
       "      <td>1.255161</td>\n",
       "      <td>2.990274</td>\n",
       "      <td>-0.503040</td>\n",
       "      <td>-1.268899</td>\n",
       "    </tr>\n",
       "    <tr>\n",
       "      <th>3</th>\n",
       "      <td>IIfvFDMGH4mskejp</td>\n",
       "      <td>-0.641098</td>\n",
       "      <td>-0.064888</td>\n",
       "      <td>-0.945242</td>\n",
       "      <td>-1.094666</td>\n",
       "      <td>-0.689187</td>\n",
       "      <td>1.339656</td>\n",
       "      <td>0.696600</td>\n",
       "      <td>-0.628664</td>\n",
       "      <td>-0.671147</td>\n",
       "    </tr>\n",
       "    <tr>\n",
       "      <th>4</th>\n",
       "      <td>kXNEvIQ4JLPHMu3H</td>\n",
       "      <td>-0.432962</td>\n",
       "      <td>-0.497407</td>\n",
       "      <td>0.074756</td>\n",
       "      <td>-0.770869</td>\n",
       "      <td>0.790146</td>\n",
       "      <td>0.250230</td>\n",
       "      <td>-0.262315</td>\n",
       "      <td>-0.432901</td>\n",
       "      <td>-0.504749</td>\n",
       "    </tr>\n",
       "    <tr>\n",
       "      <th>...</th>\n",
       "      <td>...</td>\n",
       "      <td>...</td>\n",
       "      <td>...</td>\n",
       "      <td>...</td>\n",
       "      <td>...</td>\n",
       "      <td>...</td>\n",
       "      <td>...</td>\n",
       "      <td>...</td>\n",
       "      <td>...</td>\n",
       "      <td>...</td>\n",
       "    </tr>\n",
       "    <tr>\n",
       "      <th>504</th>\n",
       "      <td>ZR4UokUqcWBT4ERU</td>\n",
       "      <td>0.586800</td>\n",
       "      <td>2.189592</td>\n",
       "      <td>-0.253315</td>\n",
       "      <td>3.456587</td>\n",
       "      <td>-0.663044</td>\n",
       "      <td>1.923693</td>\n",
       "      <td>2.139593</td>\n",
       "      <td>-0.903227</td>\n",
       "      <td>-0.105909</td>\n",
       "    </tr>\n",
       "    <tr>\n",
       "      <th>505</th>\n",
       "      <td>zsDz17XVFUFYh4y7</td>\n",
       "      <td>0.857097</td>\n",
       "      <td>0.131091</td>\n",
       "      <td>2.164516</td>\n",
       "      <td>1.233984</td>\n",
       "      <td>2.145191</td>\n",
       "      <td>-0.777977</td>\n",
       "      <td>-1.442610</td>\n",
       "      <td>-0.055070</td>\n",
       "      <td>-1.054949</td>\n",
       "    </tr>\n",
       "    <tr>\n",
       "      <th>506</th>\n",
       "      <td>ZSnDQ7mhvjJLx9IG</td>\n",
       "      <td>-1.160694</td>\n",
       "      <td>-1.318940</td>\n",
       "      <td>-0.307150</td>\n",
       "      <td>-0.417539</td>\n",
       "      <td>-0.161656</td>\n",
       "      <td>-0.601481</td>\n",
       "      <td>-0.900951</td>\n",
       "      <td>-0.395868</td>\n",
       "      <td>-0.305295</td>\n",
       "    </tr>\n",
       "    <tr>\n",
       "      <th>507</th>\n",
       "      <td>ZVjUg4rlqeq2zk7C</td>\n",
       "      <td>-0.127027</td>\n",
       "      <td>-0.082542</td>\n",
       "      <td>-0.214522</td>\n",
       "      <td>-0.492390</td>\n",
       "      <td>0.360165</td>\n",
       "      <td>-0.382865</td>\n",
       "      <td>-0.398755</td>\n",
       "      <td>-0.390467</td>\n",
       "      <td>-0.751960</td>\n",
       "    </tr>\n",
       "    <tr>\n",
       "      <th>508</th>\n",
       "      <td>zxC5zqbgoYmtcioA</td>\n",
       "      <td>-0.730983</td>\n",
       "      <td>-0.767691</td>\n",
       "      <td>-0.598757</td>\n",
       "      <td>-0.995291</td>\n",
       "      <td>-1.143677</td>\n",
       "      <td>0.981637</td>\n",
       "      <td>0.653585</td>\n",
       "      <td>-1.012753</td>\n",
       "      <td>0.087939</td>\n",
       "    </tr>\n",
       "  </tbody>\n",
       "</table>\n",
       "<p>509 rows × 10 columns</p>\n",
       "</div>"
      ],
      "text/plain": [
       "                   id      wond      tran      tend      nost      peac  \\\n",
       "0    XEbyzfafxVpCCLK2  1.594081 -0.667002 -0.150606 -1.513499 -0.816678   \n",
       "1    wpldgYOXl8u6XbLE  1.553820  2.420615  1.212955 -0.130002  0.431165   \n",
       "2    nltzxmV9aWW7F7z8  0.461760 -0.140861 -0.240865 -0.581115 -0.609828   \n",
       "3    IIfvFDMGH4mskejp -0.641098 -0.064888 -0.945242 -1.094666 -0.689187   \n",
       "4    kXNEvIQ4JLPHMu3H -0.432962 -0.497407  0.074756 -0.770869  0.790146   \n",
       "..                ...       ...       ...       ...       ...       ...   \n",
       "504  ZR4UokUqcWBT4ERU  0.586800  2.189592 -0.253315  3.456587 -0.663044   \n",
       "505  zsDz17XVFUFYh4y7  0.857097  0.131091  2.164516  1.233984  2.145191   \n",
       "506  ZSnDQ7mhvjJLx9IG -1.160694 -1.318940 -0.307150 -0.417539 -0.161656   \n",
       "507  ZVjUg4rlqeq2zk7C -0.127027 -0.082542 -0.214522 -0.492390  0.360165   \n",
       "508  zxC5zqbgoYmtcioA -0.730983 -0.767691 -0.598757 -0.995291 -1.143677   \n",
       "\n",
       "         joya      ener      sadn      tens  \n",
       "0    0.428617  1.198807 -0.446335  0.612913  \n",
       "1    0.099829  1.764385 -0.196834 -1.268899  \n",
       "2    1.255161  2.990274 -0.503040 -1.268899  \n",
       "3    1.339656  0.696600 -0.628664 -0.671147  \n",
       "4    0.250230 -0.262315 -0.432901 -0.504749  \n",
       "..        ...       ...       ...       ...  \n",
       "504  1.923693  2.139593 -0.903227 -0.105909  \n",
       "505 -0.777977 -1.442610 -0.055070 -1.054949  \n",
       "506 -0.601481 -0.900951 -0.395868 -0.305295  \n",
       "507 -0.382865 -0.398755 -0.390467 -0.751960  \n",
       "508  0.981637  0.653585 -1.012753  0.087939  \n",
       "\n",
       "[509 rows x 10 columns]"
      ]
     },
     "execution_count": 3,
     "metadata": {},
     "output_type": "execute_result"
    }
   ],
   "source": [
    "df_emma = pd.read_csv('../data/id_emma.tsv', sep='\\t')\n",
    "df_emma"
   ]
  },
  {
   "cell_type": "code",
   "execution_count": 4,
   "id": "9baf7b5826153d17",
   "metadata": {
    "ExecuteTime": {
     "end_time": "2025-01-14T12:39:15.286472Z",
     "start_time": "2025-01-14T12:39:15.247130Z"
    }
   },
   "outputs": [
    {
     "name": "stdout",
     "output_type": "stream",
     "text": [
      "(64044, 5)\n"
     ]
    },
    {
     "data": {
      "text/html": [
       "<div>\n",
       "<style scoped>\n",
       "    .dataframe tbody tr th:only-of-type {\n",
       "        vertical-align: middle;\n",
       "    }\n",
       "\n",
       "    .dataframe tbody tr th {\n",
       "        vertical-align: top;\n",
       "    }\n",
       "\n",
       "    .dataframe thead th {\n",
       "        text-align: right;\n",
       "    }\n",
       "</style>\n",
       "<table border=\"1\" class=\"dataframe\">\n",
       "  <thead>\n",
       "    <tr style=\"text-align: right;\">\n",
       "      <th></th>\n",
       "      <th>user_id</th>\n",
       "      <th>track_id</th>\n",
       "      <th>timestamp</th>\n",
       "      <th>year</th>\n",
       "      <th>month</th>\n",
       "    </tr>\n",
       "  </thead>\n",
       "  <tbody>\n",
       "    <tr>\n",
       "      <th>36</th>\n",
       "      <td>5792</td>\n",
       "      <td>SGY1zM5vXy6T4rdB</td>\n",
       "      <td>2014-09-01 00:42:52</td>\n",
       "      <td>2014</td>\n",
       "      <td>2014-09</td>\n",
       "    </tr>\n",
       "    <tr>\n",
       "      <th>51</th>\n",
       "      <td>34658</td>\n",
       "      <td>Q08DjqYYbc3AvWQx</td>\n",
       "      <td>2014-04-27 18:07:51</td>\n",
       "      <td>2014</td>\n",
       "      <td>2014-04</td>\n",
       "    </tr>\n",
       "    <tr>\n",
       "      <th>83</th>\n",
       "      <td>40093</td>\n",
       "      <td>jmq9rFLdkgwkaqyV</td>\n",
       "      <td>2014-03-16 18:05:00</td>\n",
       "      <td>2014</td>\n",
       "      <td>2014-03</td>\n",
       "    </tr>\n",
       "    <tr>\n",
       "      <th>135</th>\n",
       "      <td>37821</td>\n",
       "      <td>yfm7RER1PWTqgjIp</td>\n",
       "      <td>2014-04-04 09:48:21</td>\n",
       "      <td>2014</td>\n",
       "      <td>2014-04</td>\n",
       "    </tr>\n",
       "    <tr>\n",
       "      <th>200</th>\n",
       "      <td>12879</td>\n",
       "      <td>lJKIbZNzpS6IsNgh</td>\n",
       "      <td>2014-05-04 19:01:34</td>\n",
       "      <td>2014</td>\n",
       "      <td>2014-05</td>\n",
       "    </tr>\n",
       "  </tbody>\n",
       "</table>\n",
       "</div>"
      ],
      "text/plain": [
       "     user_id          track_id            timestamp  year    month\n",
       "36      5792  SGY1zM5vXy6T4rdB  2014-09-01 00:42:52  2014  2014-09\n",
       "51     34658  Q08DjqYYbc3AvWQx  2014-04-27 18:07:51  2014  2014-04\n",
       "83     40093  jmq9rFLdkgwkaqyV  2014-03-16 18:05:00  2014  2014-03\n",
       "135    37821  yfm7RER1PWTqgjIp  2014-04-04 09:48:21  2014  2014-04\n",
       "200    12879  lJKIbZNzpS6IsNgh  2014-05-04 19:01:34  2014  2014-05"
      ]
     },
     "execution_count": 4,
     "metadata": {},
     "output_type": "execute_result"
    }
   ],
   "source": [
    "df_interactions = df_interactions[df_interactions['track_id'].isin(df_emma.id)]\n",
    "print(df_interactions.shape)\n",
    "df_interactions.head()"
   ]
  },
  {
   "cell_type": "code",
   "execution_count": 5,
   "id": "6e58b7c11213afbb",
   "metadata": {
    "ExecuteTime": {
     "end_time": "2025-01-14T12:39:16.741679Z",
     "start_time": "2025-01-14T12:39:16.733454Z"
    }
   },
   "outputs": [
    {
     "data": {
      "text/plain": [
       "0.9889441760645659"
      ]
     },
     "execution_count": 5,
     "metadata": {},
     "output_type": "execute_result"
    }
   ],
   "source": [
    "# sparsity of dataset\n",
    "n_users = df_interactions['user_id'].nunique()\n",
    "n_items = df_interactions['track_id'].nunique()\n",
    "n_interactions = df_interactions.shape[0]\n",
    "sparsity = 1 - n_interactions / (n_users * n_items)\n",
    "sparsity"
   ]
  },
  {
   "cell_type": "code",
   "execution_count": 6,
   "id": "96f7a550e34a1154",
   "metadata": {
    "ExecuteTime": {
     "end_time": "2025-01-14T12:39:17.624933Z",
     "start_time": "2025-01-14T12:39:17.619514Z"
    }
   },
   "outputs": [
    {
     "data": {
      "text/plain": [
       "248"
      ]
     },
     "execution_count": 6,
     "metadata": {},
     "output_type": "execute_result"
    }
   ],
   "source": [
    "n_items"
   ]
  },
  {
   "cell_type": "code",
   "execution_count": 7,
   "id": "660c6004",
   "metadata": {
    "ExecuteTime": {
     "end_time": "2025-01-14T12:39:18.511353Z",
     "start_time": "2025-01-14T12:39:18.507062Z"
    }
   },
   "outputs": [
    {
     "data": {
      "text/plain": [
       "23358"
      ]
     },
     "execution_count": 7,
     "metadata": {},
     "output_type": "execute_result"
    }
   ],
   "source": [
    "n_users"
   ]
  },
  {
   "cell_type": "code",
   "execution_count": 8,
   "id": "1e10a91504dded70",
   "metadata": {
    "ExecuteTime": {
     "end_time": "2025-01-14T12:39:44.330498Z",
     "start_time": "2025-01-14T12:39:44.301567Z"
    }
   },
   "outputs": [],
   "source": [
    "# export\n",
    "df_interactions.to_csv('../data/userid_trackid_timestamp_emma.tsv', sep='\\t', index=False)"
   ]
  },
  {
   "cell_type": "code",
   "execution_count": null,
   "id": "ea222e4e",
   "metadata": {
    "ExecuteTime": {
     "end_time": "2025-01-14T09:07:54.628763Z",
     "start_time": "2025-01-14T09:07:54.626797Z"
    }
   },
   "outputs": [],
   "source": []
  }
 ],
 "metadata": {
  "kernelspec": {
   "display_name": "elliot",
   "language": "python",
   "name": "python3"
  },
  "language_info": {
   "codemirror_mode": {
    "name": "ipython",
    "version": 3
   },
   "file_extension": ".py",
   "mimetype": "text/x-python",
   "name": "python",
   "nbconvert_exporter": "python",
   "pygments_lexer": "ipython3",
   "version": "3.8.20"
  }
 },
 "nbformat": 4,
 "nbformat_minor": 5
}
