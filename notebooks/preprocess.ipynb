{
 "cells": [
  {
   "cell_type": "code",
   "execution_count": 1,
   "id": "initial_id",
   "metadata": {
    "ExecuteTime": {
     "end_time": "2025-01-14T12:41:22.445688Z",
     "start_time": "2025-01-14T12:41:22.230907Z"
    },
    "collapsed": true
   },
   "outputs": [],
   "source": [
    "import pandas as pd\n",
    "import numpy as np\n",
    "import os\n",
    "import tqdm\n",
    "import shutil"
   ]
  },
  {
   "cell_type": "code",
   "execution_count": 13,
   "id": "284a92f49586a7fa",
   "metadata": {
    "ExecuteTime": {
     "end_time": "2025-01-14T12:41:22.455508Z",
     "start_time": "2025-01-14T12:41:22.450514Z"
    }
   },
   "outputs": [],
   "source": [
    "dataset = 'session_emma' # onion or emma, session_onion or session_emma\n",
    "input_data_dir = f'../data/'\n",
    "\n",
    "features = {\n",
    "    'emotion_embeddings': ['id_emma.tsv', 'id_gems.tsv'],\n",
    "    'audio_embeddings': ['id_maest.tsv', 'id_jukebox.tsv', 'id_musicnn.tsv'],\n",
    "    'textual_embeddings': ['id_bert.tsv', 'id_lyrics_word2vec.tsv'],\n",
    "    'visual_embeddings': ['id_resnet.tsv', 'id_vgg19.tsv', 'id_incp.tsv'],\n",
    "}\n",
    "\n",
    "output_dir = f'../dataset/{dataset}/'\n",
    "\n",
    "os.makedirs(output_dir, exist_ok=True)"
   ]
  },
  {
   "cell_type": "code",
   "execution_count": 14,
   "id": "74c47f60c4948e5d",
   "metadata": {
    "ExecuteTime": {
     "end_time": "2025-01-14T12:41:22.533693Z",
     "start_time": "2025-01-14T12:41:22.513111Z"
    }
   },
   "outputs": [
    {
     "name": "stdout",
     "output_type": "stream",
     "text": [
      "(231568, 7)\n"
     ]
    },
    {
     "data": {
      "text/html": [
       "<div>\n",
       "<style scoped>\n",
       "    .dataframe tbody tr th:only-of-type {\n",
       "        vertical-align: middle;\n",
       "    }\n",
       "\n",
       "    .dataframe tbody tr th {\n",
       "        vertical-align: top;\n",
       "    }\n",
       "\n",
       "    .dataframe thead th {\n",
       "        text-align: right;\n",
       "    }\n",
       "</style>\n",
       "<table border=\"1\" class=\"dataframe\">\n",
       "  <thead>\n",
       "    <tr style=\"text-align: right;\">\n",
       "      <th></th>\n",
       "      <th>user_id</th>\n",
       "      <th>track_id</th>\n",
       "      <th>timestamp</th>\n",
       "      <th>session_id</th>\n",
       "      <th>rating</th>\n",
       "      <th>user_id_int</th>\n",
       "      <th>track_id_int</th>\n",
       "    </tr>\n",
       "  </thead>\n",
       "  <tbody>\n",
       "    <tr>\n",
       "      <th>0</th>\n",
       "      <td>6</td>\n",
       "      <td>DMSPSXCv8UN5942f</td>\n",
       "      <td>2011-10-17 02:22:02</td>\n",
       "      <td>115</td>\n",
       "      <td>5</td>\n",
       "      <td>0</td>\n",
       "      <td>48</td>\n",
       "    </tr>\n",
       "    <tr>\n",
       "      <th>1</th>\n",
       "      <td>6</td>\n",
       "      <td>lJKIbZNzpS6IsNgh</td>\n",
       "      <td>2011-10-17 02:46:05</td>\n",
       "      <td>115</td>\n",
       "      <td>5</td>\n",
       "      <td>0</td>\n",
       "      <td>177</td>\n",
       "    </tr>\n",
       "    <tr>\n",
       "      <th>2</th>\n",
       "      <td>9</td>\n",
       "      <td>yWrNTxHepxJrplD1</td>\n",
       "      <td>2009-12-09 15:34:45</td>\n",
       "      <td>216</td>\n",
       "      <td>5</td>\n",
       "      <td>1</td>\n",
       "      <td>231</td>\n",
       "    </tr>\n",
       "    <tr>\n",
       "      <th>3</th>\n",
       "      <td>9</td>\n",
       "      <td>zbI3TrMSY2chqzRz</td>\n",
       "      <td>2009-12-09 15:47:16</td>\n",
       "      <td>216</td>\n",
       "      <td>5</td>\n",
       "      <td>1</td>\n",
       "      <td>234</td>\n",
       "    </tr>\n",
       "    <tr>\n",
       "      <th>4</th>\n",
       "      <td>16</td>\n",
       "      <td>cCmrNVfqxEnJiKrQ</td>\n",
       "      <td>2008-11-10 12:12:30</td>\n",
       "      <td>637</td>\n",
       "      <td>5</td>\n",
       "      <td>2</td>\n",
       "      <td>146</td>\n",
       "    </tr>\n",
       "  </tbody>\n",
       "</table>\n",
       "</div>"
      ],
      "text/plain": [
       "   user_id          track_id            timestamp  session_id  rating  \\\n",
       "0        6  DMSPSXCv8UN5942f  2011-10-17 02:22:02         115       5   \n",
       "1        6  lJKIbZNzpS6IsNgh  2011-10-17 02:46:05         115       5   \n",
       "2        9  yWrNTxHepxJrplD1  2009-12-09 15:34:45         216       5   \n",
       "3        9  zbI3TrMSY2chqzRz  2009-12-09 15:47:16         216       5   \n",
       "4       16  cCmrNVfqxEnJiKrQ  2008-11-10 12:12:30         637       5   \n",
       "\n",
       "   user_id_int  track_id_int  \n",
       "0            0            48  \n",
       "1            0           177  \n",
       "2            1           231  \n",
       "3            1           234  \n",
       "4            2           146  "
      ]
     },
     "execution_count": 14,
     "metadata": {},
     "output_type": "execute_result"
    }
   ],
   "source": [
    "df_interactions = pd.read_csv(f'../data/userid_trackid_timestamp_{dataset}.tsv', sep='\\t')\n",
    "    \n",
    "df_interactions['rating'] = 5\n",
    "sample_items = df_interactions['track_id'].unique()\n",
    "\n",
    "# map item and users to numbers\n",
    "df_interactions['user_id_int'] = df_interactions['user_id'].astype('category').cat.codes\n",
    "df_interactions['track_id_int'] = df_interactions['track_id'].astype('category').cat.codes\n",
    "\n",
    "\n",
    "print(df_interactions.shape)\n",
    "df_interactions.head()"
   ]
  },
  {
   "cell_type": "code",
   "execution_count": 15,
   "id": "3946ad20",
   "metadata": {
    "ExecuteTime": {
     "end_time": "2025-01-14T12:41:22.698699Z",
     "start_time": "2025-01-14T12:41:22.590470Z"
    }
   },
   "outputs": [
    {
     "data": {
      "text/plain": [
       "array(['04q3VppIQEET5rzy', '07xF9Q0K1t3ist7K', '0JbYcELIqpMPvAHk', ...,\n",
       "       'zzyyPUs7hC9Nz2e1', 'zzz0n04uuTUA7fNh', 'zzzj3LYaZtYtbzSr'],\n",
       "      dtype=object)"
      ]
     },
     "execution_count": 15,
     "metadata": {},
     "output_type": "execute_result"
    }
   ],
   "source": [
    "# track ids from feature file\n",
    "df = pd.read_csv(input_data_dir + features['emotion_embeddings'][1], sep='\\t')\n",
    "feat_track_ids = df['id'].values\n",
    "feat_track_ids"
   ]
  },
  {
   "cell_type": "code",
   "execution_count": 16,
   "id": "5fe9171e",
   "metadata": {
    "ExecuteTime": {
     "end_time": "2025-01-14T12:41:22.761605Z",
     "start_time": "2025-01-14T12:41:22.745127Z"
    }
   },
   "outputs": [
    {
     "data": {
      "text/plain": [
       "(231568, 7)"
      ]
     },
     "execution_count": 16,
     "metadata": {},
     "output_type": "execute_result"
    }
   ],
   "source": [
    "# remove interactions with items not in the feature files\n",
    "df_interactions = df_interactions[df_interactions['track_id'].isin(feat_track_ids)]\n",
    "df_interactions.shape"
   ]
  },
  {
   "cell_type": "code",
   "execution_count": 17,
   "id": "8f742412",
   "metadata": {
    "ExecuteTime": {
     "end_time": "2025-01-14T12:41:22.825569Z",
     "start_time": "2025-01-14T12:41:22.804489Z"
    }
   },
   "outputs": [],
   "source": [
    "#df_interactions[['user_id', 'track_id', 'rating', 'timestamp']].to_csv(os.path.join(output_dir, 'interactions.tsv'), index=False, sep='\\t', header=False)\n",
    "df_interactions[['user_id_int', 'track_id_int', 'rating', 'timestamp']].to_csv(os.path.join(output_dir, 'interactions.tsv'), index=False, sep='\\t', header=False)"
   ]
  },
  {
   "cell_type": "code",
   "execution_count": 18,
   "id": "4b0f23e8",
   "metadata": {
    "ExecuteTime": {
     "end_time": "2025-01-14T12:41:22.863733Z",
     "start_time": "2025-01-14T12:41:22.854851Z"
    }
   },
   "outputs": [
    {
     "data": {
      "text/html": [
       "<div>\n",
       "<style scoped>\n",
       "    .dataframe tbody tr th:only-of-type {\n",
       "        vertical-align: middle;\n",
       "    }\n",
       "\n",
       "    .dataframe tbody tr th {\n",
       "        vertical-align: top;\n",
       "    }\n",
       "\n",
       "    .dataframe thead th {\n",
       "        text-align: right;\n",
       "    }\n",
       "</style>\n",
       "<table border=\"1\" class=\"dataframe\">\n",
       "  <thead>\n",
       "    <tr style=\"text-align: right;\">\n",
       "      <th></th>\n",
       "      <th>track_id_int</th>\n",
       "    </tr>\n",
       "    <tr>\n",
       "      <th>track_id</th>\n",
       "      <th></th>\n",
       "    </tr>\n",
       "  </thead>\n",
       "  <tbody>\n",
       "    <tr>\n",
       "      <th>DMSPSXCv8UN5942f</th>\n",
       "      <td>48</td>\n",
       "    </tr>\n",
       "    <tr>\n",
       "      <th>lJKIbZNzpS6IsNgh</th>\n",
       "      <td>177</td>\n",
       "    </tr>\n",
       "    <tr>\n",
       "      <th>yWrNTxHepxJrplD1</th>\n",
       "      <td>231</td>\n",
       "    </tr>\n",
       "    <tr>\n",
       "      <th>zbI3TrMSY2chqzRz</th>\n",
       "      <td>234</td>\n",
       "    </tr>\n",
       "    <tr>\n",
       "      <th>cCmrNVfqxEnJiKrQ</th>\n",
       "      <td>146</td>\n",
       "    </tr>\n",
       "  </tbody>\n",
       "</table>\n",
       "</div>"
      ],
      "text/plain": [
       "                  track_id_int\n",
       "track_id                      \n",
       "DMSPSXCv8UN5942f            48\n",
       "lJKIbZNzpS6IsNgh           177\n",
       "yWrNTxHepxJrplD1           231\n",
       "zbI3TrMSY2chqzRz           234\n",
       "cCmrNVfqxEnJiKrQ           146"
      ]
     },
     "execution_count": 18,
     "metadata": {},
     "output_type": "execute_result"
    }
   ],
   "source": [
    "item_id_map = df_interactions[['track_id', 'track_id_int']].drop_duplicates()\n",
    "item_id_map.set_index('track_id', inplace=True)\n",
    "item_id_map.head()"
   ]
  },
  {
   "cell_type": "code",
   "execution_count": 19,
   "id": "deed3b45",
   "metadata": {
    "ExecuteTime": {
     "end_time": "2025-01-14T12:41:22.941413Z",
     "start_time": "2025-01-14T12:41:22.938527Z"
    }
   },
   "outputs": [],
   "source": [
    "del df_interactions"
   ]
  },
  {
   "cell_type": "code",
   "execution_count": 20,
   "id": "2bbaadc2caf66b29",
   "metadata": {
    "ExecuteTime": {
     "end_time": "2025-01-14T12:42:26.666286Z",
     "start_time": "2025-01-14T12:41:22.982695Z"
    }
   },
   "outputs": [
    {
     "name": "stdout",
     "output_type": "stream",
     "text": [
      "Processing id_emma.tsv\n"
     ]
    },
    {
     "name": "stderr",
     "output_type": "stream",
     "text": [
      "238it [00:01, 216.86it/s]\n"
     ]
    },
    {
     "name": "stdout",
     "output_type": "stream",
     "text": [
      "Processing id_gems.tsv\n"
     ]
    },
    {
     "name": "stderr",
     "output_type": "stream",
     "text": [
      "238it [00:01, 220.26it/s]\n"
     ]
    },
    {
     "name": "stdout",
     "output_type": "stream",
     "text": [
      "Processing id_maest.tsv\n"
     ]
    },
    {
     "name": "stderr",
     "output_type": "stream",
     "text": [
      "238it [00:01, 215.00it/s]\n"
     ]
    },
    {
     "name": "stdout",
     "output_type": "stream",
     "text": [
      "Processing id_jukebox.tsv\n"
     ]
    },
    {
     "name": "stderr",
     "output_type": "stream",
     "text": [
      "238it [00:01, 159.26it/s]\n"
     ]
    },
    {
     "name": "stdout",
     "output_type": "stream",
     "text": [
      "Processing id_musicnn.tsv\n"
     ]
    },
    {
     "name": "stderr",
     "output_type": "stream",
     "text": [
      "238it [00:01, 217.75it/s]\n"
     ]
    },
    {
     "name": "stdout",
     "output_type": "stream",
     "text": [
      "Processing id_bert.tsv\n"
     ]
    },
    {
     "name": "stderr",
     "output_type": "stream",
     "text": [
      "238it [00:01, 217.06it/s]\n"
     ]
    },
    {
     "name": "stdout",
     "output_type": "stream",
     "text": [
      "Processing id_lyrics_word2vec.tsv\n"
     ]
    },
    {
     "name": "stderr",
     "output_type": "stream",
     "text": [
      "238it [00:01, 213.89it/s]\n"
     ]
    },
    {
     "name": "stdout",
     "output_type": "stream",
     "text": [
      "Processing id_resnet.tsv\n"
     ]
    },
    {
     "name": "stderr",
     "output_type": "stream",
     "text": [
      "238it [00:01, 168.83it/s]\n"
     ]
    },
    {
     "name": "stdout",
     "output_type": "stream",
     "text": [
      "Processing id_vgg19.tsv\n"
     ]
    },
    {
     "name": "stderr",
     "output_type": "stream",
     "text": [
      "238it [00:01, 133.77it/s]\n"
     ]
    },
    {
     "name": "stdout",
     "output_type": "stream",
     "text": [
      "Processing id_incp.tsv\n"
     ]
    },
    {
     "name": "stderr",
     "output_type": "stream",
     "text": [
      "238it [00:01, 170.21it/s]\n"
     ]
    }
   ],
   "source": [
    "for feature_type in features:\n",
    "\n",
    "    for file in features[feature_type]:\n",
    "        if dataset == 'onion' and 'emma' in file:\n",
    "            continue\n",
    "\n",
    "        print('Processing', file)\n",
    "        df = pd.read_csv(os.path.join(input_data_dir, file), index_col=0, sep='\\t')\n",
    "        df = df.merge(item_id_map, left_index=True, right_index=True)\n",
    "        feature_name = file.split('.')[0].split('_')[1]\n",
    "            \n",
    "        folder_path = os.path.join(output_dir, feature_type, feature_name)\n",
    "\n",
    "        if os.path.exists(folder_path):\n",
    "            shutil.rmtree(folder_path)\n",
    "        os.makedirs(folder_path, exist_ok=True)\n",
    "\n",
    "        for index, row in tqdm.tqdm(df.iterrows()):\n",
    "            np.save(os.path.join(folder_path, str(int(row['track_id_int'])) + '.npy'), row.values[:-1])"
   ]
  },
  {
   "cell_type": "code",
   "execution_count": null,
   "id": "22995f99",
   "metadata": {},
   "outputs": [],
   "source": []
  }
 ],
 "metadata": {
  "kernelspec": {
   "display_name": "elliot",
   "language": "python",
   "name": "python3"
  },
  "language_info": {
   "codemirror_mode": {
    "name": "ipython",
    "version": 3
   },
   "file_extension": ".py",
   "mimetype": "text/x-python",
   "name": "python",
   "nbconvert_exporter": "python",
   "pygments_lexer": "ipython3",
   "version": "3.8.20"
  }
 },
 "nbformat": 4,
 "nbformat_minor": 5
}
