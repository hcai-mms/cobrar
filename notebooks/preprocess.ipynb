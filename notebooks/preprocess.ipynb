{
 "cells": [
  {
   "cell_type": "code",
   "execution_count": 20,
   "id": "initial_id",
   "metadata": {
    "ExecuteTime": {
     "end_time": "2025-01-14T12:41:22.445688Z",
     "start_time": "2025-01-14T12:41:22.230907Z"
    },
    "collapsed": true
   },
   "outputs": [],
   "source": [
    "import pandas as pd\n",
    "import numpy as np\n",
    "import os\n",
    "import tqdm\n",
    "import shutil"
   ]
  },
  {
   "cell_type": "code",
   "execution_count": 21,
   "id": "284a92f49586a7fa",
   "metadata": {
    "ExecuteTime": {
     "end_time": "2025-01-14T12:41:22.455508Z",
     "start_time": "2025-01-14T12:41:22.450514Z"
    }
   },
   "outputs": [],
   "source": [
    "dataset = 'onion' # onion or emma\n",
    "input_data_dir = f'../data/'\n",
    "\n",
    "features = {\n",
    "    'emotion_embeddings': ['id_emma.tsv', 'id_gems.tsv'],\n",
    "    'audio_embeddings': ['id_maest.tsv', 'id_jukebox.tsv', 'id_musicnn.tsv'],\n",
    "    'textual_embeddings': ['id_bert.tsv', 'id_lyrics_word2vec.tsv'],\n",
    "    'visual_embeddings': ['id_resnet.tsv', 'id_vgg19.tsv', 'id_incp.tsv'],\n",
    "}\n",
    "\n",
    "output_dir = f'../dataset/{dataset}/'\n",
    "\n",
    "os.makedirs(output_dir, exist_ok=True)"
   ]
  },
  {
   "cell_type": "code",
   "execution_count": 22,
   "id": "74c47f60c4948e5d",
   "metadata": {
    "ExecuteTime": {
     "end_time": "2025-01-14T12:41:22.533693Z",
     "start_time": "2025-01-14T12:41:22.513111Z"
    }
   },
   "outputs": [
    {
     "name": "stdout",
     "output_type": "stream",
     "text": [
      "(661036, 8)\n"
     ]
    },
    {
     "data": {
      "text/html": [
       "<div>\n",
       "<style scoped>\n",
       "    .dataframe tbody tr th:only-of-type {\n",
       "        vertical-align: middle;\n",
       "    }\n",
       "\n",
       "    .dataframe tbody tr th {\n",
       "        vertical-align: top;\n",
       "    }\n",
       "\n",
       "    .dataframe thead th {\n",
       "        text-align: right;\n",
       "    }\n",
       "</style>\n",
       "<table border=\"1\" class=\"dataframe\">\n",
       "  <thead>\n",
       "    <tr style=\"text-align: right;\">\n",
       "      <th></th>\n",
       "      <th>user_id</th>\n",
       "      <th>track_id</th>\n",
       "      <th>timestamp</th>\n",
       "      <th>year</th>\n",
       "      <th>month</th>\n",
       "      <th>rating</th>\n",
       "      <th>user_id_int</th>\n",
       "      <th>track_id_int</th>\n",
       "    </tr>\n",
       "  </thead>\n",
       "  <tbody>\n",
       "    <tr>\n",
       "      <th>0</th>\n",
       "      <td>105881</td>\n",
       "      <td>ccuPZ7Z9obk3Efg8</td>\n",
       "      <td>2014-03-05 11:44:07</td>\n",
       "      <td>2014</td>\n",
       "      <td>2014-03</td>\n",
       "      <td>5</td>\n",
       "      <td>32040</td>\n",
       "      <td>20397</td>\n",
       "    </tr>\n",
       "    <tr>\n",
       "      <th>1</th>\n",
       "      <td>34658</td>\n",
       "      <td>Kq5zEzdS2atiI6yA</td>\n",
       "      <td>2014-03-29 10:10:01</td>\n",
       "      <td>2014</td>\n",
       "      <td>2014-03</td>\n",
       "      <td>5</td>\n",
       "      <td>16051</td>\n",
       "      <td>11091</td>\n",
       "    </tr>\n",
       "    <tr>\n",
       "      <th>2</th>\n",
       "      <td>40093</td>\n",
       "      <td>CWJYGGxMa4ppYUvD</td>\n",
       "      <td>2014-03-13 03:04:50</td>\n",
       "      <td>2014</td>\n",
       "      <td>2014-03</td>\n",
       "      <td>5</td>\n",
       "      <td>18002</td>\n",
       "      <td>6718</td>\n",
       "    </tr>\n",
       "    <tr>\n",
       "      <th>3</th>\n",
       "      <td>40093</td>\n",
       "      <td>rYKZ2u8TGNLDuFFx</td>\n",
       "      <td>2014-03-17 19:53:20</td>\n",
       "      <td>2014</td>\n",
       "      <td>2014-03</td>\n",
       "      <td>5</td>\n",
       "      <td>18002</td>\n",
       "      <td>28419</td>\n",
       "    </tr>\n",
       "    <tr>\n",
       "      <th>4</th>\n",
       "      <td>4899</td>\n",
       "      <td>LtbprkKTPfQwCdwI</td>\n",
       "      <td>2014-03-19 23:24:40</td>\n",
       "      <td>2014</td>\n",
       "      <td>2014-03</td>\n",
       "      <td>5</td>\n",
       "      <td>2822</td>\n",
       "      <td>11655</td>\n",
       "    </tr>\n",
       "  </tbody>\n",
       "</table>\n",
       "</div>"
      ],
      "text/plain": [
       "   user_id          track_id            timestamp  year    month  rating  \\\n",
       "0   105881  ccuPZ7Z9obk3Efg8  2014-03-05 11:44:07  2014  2014-03       5   \n",
       "1    34658  Kq5zEzdS2atiI6yA  2014-03-29 10:10:01  2014  2014-03       5   \n",
       "2    40093  CWJYGGxMa4ppYUvD  2014-03-13 03:04:50  2014  2014-03       5   \n",
       "3    40093  rYKZ2u8TGNLDuFFx  2014-03-17 19:53:20  2014  2014-03       5   \n",
       "4     4899  LtbprkKTPfQwCdwI  2014-03-19 23:24:40  2014  2014-03       5   \n",
       "\n",
       "   user_id_int  track_id_int  \n",
       "0        32040         20397  \n",
       "1        16051         11091  \n",
       "2        18002          6718  \n",
       "3        18002         28419  \n",
       "4         2822         11655  "
      ]
     },
     "execution_count": 22,
     "metadata": {},
     "output_type": "execute_result"
    }
   ],
   "source": [
    "df_interactions = pd.read_csv(f'../data/userid_trackid_timestamp_{dataset}.tsv', sep='\\t')\n",
    "    \n",
    "df_interactions['rating'] = 5\n",
    "sample_items = df_interactions['track_id'].unique()\n",
    "\n",
    "# map item and users to numbers\n",
    "df_interactions['user_id_int'] = df_interactions['user_id'].astype('category').cat.codes\n",
    "df_interactions['track_id_int'] = df_interactions['track_id'].astype('category').cat.codes\n",
    "\n",
    "\n",
    "print(df_interactions.shape)\n",
    "df_interactions.head()"
   ]
  },
  {
   "cell_type": "code",
   "execution_count": 23,
   "id": "3946ad20",
   "metadata": {
    "ExecuteTime": {
     "end_time": "2025-01-14T12:41:22.698699Z",
     "start_time": "2025-01-14T12:41:22.590470Z"
    }
   },
   "outputs": [
    {
     "data": {
      "text/plain": [
       "array(['04q3VppIQEET5rzy', '07xF9Q0K1t3ist7K', '0JbYcELIqpMPvAHk', ...,\n",
       "       'zzyyPUs7hC9Nz2e1', 'zzz0n04uuTUA7fNh', 'zzzj3LYaZtYtbzSr'],\n",
       "      dtype=object)"
      ]
     },
     "execution_count": 23,
     "metadata": {},
     "output_type": "execute_result"
    }
   ],
   "source": [
    "# track ids from feature file\n",
    "df = pd.read_csv(input_data_dir + features['emotion_embeddings'][1], sep='\\t')\n",
    "feat_track_ids = df['id'].values\n",
    "feat_track_ids"
   ]
  },
  {
   "cell_type": "code",
   "execution_count": 24,
   "id": "5fe9171e",
   "metadata": {
    "ExecuteTime": {
     "end_time": "2025-01-14T12:41:22.761605Z",
     "start_time": "2025-01-14T12:41:22.745127Z"
    }
   },
   "outputs": [
    {
     "data": {
      "text/plain": [
       "(661024, 8)"
      ]
     },
     "execution_count": 24,
     "metadata": {},
     "output_type": "execute_result"
    }
   ],
   "source": [
    "# remove interactions with items not in the feature files\n",
    "df_interactions = df_interactions[df_interactions['track_id'].isin(feat_track_ids)]\n",
    "df_interactions.shape"
   ]
  },
  {
   "cell_type": "code",
   "execution_count": 25,
   "id": "8f742412",
   "metadata": {
    "ExecuteTime": {
     "end_time": "2025-01-14T12:41:22.825569Z",
     "start_time": "2025-01-14T12:41:22.804489Z"
    }
   },
   "outputs": [],
   "source": [
    "#df_interactions[['user_id', 'track_id', 'rating', 'timestamp']].to_csv(os.path.join(output_dir, 'interactions.tsv'), index=False, sep='\\t', header=False)\n",
    "df_interactions[['user_id_int', 'track_id_int', 'rating', 'timestamp']].to_csv(os.path.join(output_dir, 'interactions.tsv'), index=False, sep='\\t', header=False)"
   ]
  },
  {
   "cell_type": "code",
   "execution_count": 26,
   "id": "4b0f23e8",
   "metadata": {
    "ExecuteTime": {
     "end_time": "2025-01-14T12:41:22.863733Z",
     "start_time": "2025-01-14T12:41:22.854851Z"
    }
   },
   "outputs": [
    {
     "data": {
      "text/html": [
       "<div>\n",
       "<style scoped>\n",
       "    .dataframe tbody tr th:only-of-type {\n",
       "        vertical-align: middle;\n",
       "    }\n",
       "\n",
       "    .dataframe tbody tr th {\n",
       "        vertical-align: top;\n",
       "    }\n",
       "\n",
       "    .dataframe thead th {\n",
       "        text-align: right;\n",
       "    }\n",
       "</style>\n",
       "<table border=\"1\" class=\"dataframe\">\n",
       "  <thead>\n",
       "    <tr style=\"text-align: right;\">\n",
       "      <th></th>\n",
       "      <th>track_id_int</th>\n",
       "    </tr>\n",
       "    <tr>\n",
       "      <th>track_id</th>\n",
       "      <th></th>\n",
       "    </tr>\n",
       "  </thead>\n",
       "  <tbody>\n",
       "    <tr>\n",
       "      <th>ccuPZ7Z9obk3Efg8</th>\n",
       "      <td>20397</td>\n",
       "    </tr>\n",
       "    <tr>\n",
       "      <th>Kq5zEzdS2atiI6yA</th>\n",
       "      <td>11091</td>\n",
       "    </tr>\n",
       "    <tr>\n",
       "      <th>CWJYGGxMa4ppYUvD</th>\n",
       "      <td>6718</td>\n",
       "    </tr>\n",
       "    <tr>\n",
       "      <th>rYKZ2u8TGNLDuFFx</th>\n",
       "      <td>28419</td>\n",
       "    </tr>\n",
       "    <tr>\n",
       "      <th>LtbprkKTPfQwCdwI</th>\n",
       "      <td>11655</td>\n",
       "    </tr>\n",
       "  </tbody>\n",
       "</table>\n",
       "</div>"
      ],
      "text/plain": [
       "                  track_id_int\n",
       "track_id                      \n",
       "ccuPZ7Z9obk3Efg8         20397\n",
       "Kq5zEzdS2atiI6yA         11091\n",
       "CWJYGGxMa4ppYUvD          6718\n",
       "rYKZ2u8TGNLDuFFx         28419\n",
       "LtbprkKTPfQwCdwI         11655"
      ]
     },
     "execution_count": 26,
     "metadata": {},
     "output_type": "execute_result"
    }
   ],
   "source": [
    "item_id_map = df_interactions[['track_id', 'track_id_int']].drop_duplicates()\n",
    "item_id_map.set_index('track_id', inplace=True)\n",
    "item_id_map.head()"
   ]
  },
  {
   "cell_type": "code",
   "execution_count": 27,
   "id": "deed3b45",
   "metadata": {
    "ExecuteTime": {
     "end_time": "2025-01-14T12:41:22.941413Z",
     "start_time": "2025-01-14T12:41:22.938527Z"
    }
   },
   "outputs": [],
   "source": [
    "del df_interactions"
   ]
  },
  {
   "cell_type": "code",
   "execution_count": 28,
   "id": "2bbaadc2caf66b29",
   "metadata": {
    "ExecuteTime": {
     "end_time": "2025-01-14T12:42:26.666286Z",
     "start_time": "2025-01-14T12:41:22.982695Z"
    }
   },
   "outputs": [
    {
     "name": "stdout",
     "output_type": "stream",
     "text": [
      "Processing id_gems.tsv\n"
     ]
    },
    {
     "name": "stderr",
     "output_type": "stream",
     "text": [
      "33057it [03:01, 182.54it/s]\n"
     ]
    },
    {
     "name": "stdout",
     "output_type": "stream",
     "text": [
      "Processing id_maest.tsv\n"
     ]
    },
    {
     "name": "stderr",
     "output_type": "stream",
     "text": [
      "33057it [03:02, 181.08it/s]\n"
     ]
    },
    {
     "name": "stdout",
     "output_type": "stream",
     "text": [
      "Processing id_jukebox.tsv\n"
     ]
    },
    {
     "name": "stderr",
     "output_type": "stream",
     "text": [
      "33056it [05:08, 107.25it/s]\n"
     ]
    },
    {
     "name": "stdout",
     "output_type": "stream",
     "text": [
      "Processing id_musicnn.tsv\n"
     ]
    },
    {
     "name": "stderr",
     "output_type": "stream",
     "text": [
      "33056it [03:05, 178.29it/s]\n"
     ]
    },
    {
     "name": "stdout",
     "output_type": "stream",
     "text": [
      "Processing id_bert.tsv\n"
     ]
    },
    {
     "name": "stderr",
     "output_type": "stream",
     "text": [
      "33057it [03:07, 176.54it/s]\n"
     ]
    },
    {
     "name": "stdout",
     "output_type": "stream",
     "text": [
      "Processing id_lyrics_word2vec.tsv\n"
     ]
    },
    {
     "name": "stderr",
     "output_type": "stream",
     "text": [
      "33057it [03:05, 178.28it/s]\n"
     ]
    },
    {
     "name": "stdout",
     "output_type": "stream",
     "text": [
      "Processing id_resnet.tsv\n"
     ]
    },
    {
     "name": "stderr",
     "output_type": "stream",
     "text": [
      "29887it [04:07, 120.99it/s]\n"
     ]
    },
    {
     "name": "stdout",
     "output_type": "stream",
     "text": [
      "Processing id_vgg19.tsv\n"
     ]
    },
    {
     "name": "stderr",
     "output_type": "stream",
     "text": [
      "29887it [05:53, 84.58it/s]\n"
     ]
    },
    {
     "name": "stdout",
     "output_type": "stream",
     "text": [
      "Processing id_incp.tsv\n"
     ]
    },
    {
     "name": "stderr",
     "output_type": "stream",
     "text": [
      "29887it [04:12, 118.26it/s]\n"
     ]
    }
   ],
   "source": [
    "for feature_type in features:\n",
    "\n",
    "    for file in features[feature_type]:\n",
    "        if dataset == 'onion' and 'emma' in file:\n",
    "            continue\n",
    "\n",
    "        print('Processing', file)\n",
    "        df = pd.read_csv(os.path.join(input_data_dir, file), index_col=0, sep='\\t')\n",
    "        df = df.merge(item_id_map, left_index=True, right_index=True)\n",
    "        feature_name = file.split('.')[0].split('_')[1]\n",
    "            \n",
    "        folder_path = os.path.join(output_dir, feature_type, feature_name)\n",
    "\n",
    "        if os.path.exists(folder_path):\n",
    "            shutil.rmtree(folder_path)\n",
    "        os.makedirs(folder_path, exist_ok=True)\n",
    "\n",
    "        for index, row in tqdm.tqdm(df.iterrows()):\n",
    "            np.save(os.path.join(folder_path, str(int(row['track_id_int'])) + '.npy'), row.values[:-1])"
   ]
  }
 ],
 "metadata": {
  "kernelspec": {
   "display_name": "elliot",
   "language": "python",
   "name": "python3"
  },
  "language_info": {
   "codemirror_mode": {
    "name": "ipython",
    "version": 3
   },
   "file_extension": ".py",
   "mimetype": "text/x-python",
   "name": "python",
   "nbconvert_exporter": "python",
   "pygments_lexer": "ipython3",
   "version": "3.8.20"
  }
 },
 "nbformat": 4,
 "nbformat_minor": 5
}
