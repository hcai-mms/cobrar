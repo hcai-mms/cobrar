{
 "cells": [
  {
   "cell_type": "code",
   "id": "initial_id",
   "metadata": {
    "collapsed": true,
    "ExecuteTime": {
     "end_time": "2024-12-17T13:37:07.517812Z",
     "start_time": "2024-12-17T13:37:07.514213Z"
    }
   },
   "source": [
    "import pandas as pd\n",
    "import numpy as np\n",
    "import os\n",
    "import tqdm\n",
    "import shutil"
   ],
   "outputs": [],
   "execution_count": 45
  },
  {
   "cell_type": "code",
   "id": "54f686a4400205fa",
   "metadata": {
    "ExecuteTime": {
     "end_time": "2024-12-17T13:37:07.566724Z",
     "start_time": "2024-12-17T13:37:07.562387Z"
    }
   },
   "source": [
    "dataset = 'onion' # onion or emma\n",
    "input_data_dir = f'../data/'\n",
    "\n",
    "features = {\n",
    "    'emotion_embeddings': ['id_emma.tsv', 'id_gems.tsv'],\n",
    "    #'audio_embeddings': ['id_maest.tsv'],\n",
    "    #'textual_embeddings': ['id_bert.tsv'],\n",
    "    #'visual_embeddings': ['id_resnet.tsv']\n",
    "}\n",
    "\n",
    "output_dir = f'../dataset/{dataset}/'\n",
    "\n",
    "os.makedirs(output_dir, exist_ok=True)"
   ],
   "outputs": [],
   "execution_count": 46
  },
  {
   "cell_type": "code",
   "id": "c05b0583cae33217",
   "metadata": {
    "ExecuteTime": {
     "end_time": "2024-12-17T13:37:08.187709Z",
     "start_time": "2024-12-17T13:37:07.614431Z"
    }
   },
   "source": [
    "df_interactions = pd.read_csv(f'../data/userid_trackid_timestamp_{dataset}.tsv', sep='\\t')\n",
    "    \n",
    "df_interactions['rating'] = 5\n",
    "sample_items = df_interactions['track_id'].unique()\n",
    "\n",
    "# map item and users to numbers\n",
    "df_interactions['user_id_int'] = df_interactions['user_id'].astype('category').cat.codes\n",
    "df_interactions['track_id_int'] = df_interactions['track_id'].astype('category').cat.codes\n",
    "\n",
    "\n",
    "print(df_interactions.shape)\n",
    "df_interactions.head()"
   ],
   "outputs": [
    {
     "name": "stdout",
     "output_type": "stream",
     "text": [
      "(1000000, 6)\n"
     ]
    },
    {
     "data": {
      "text/plain": [
       "   user_id          track_id            timestamp  rating  user_id_int  \\\n",
       "0    51549  iJTBIGHPjgJcT4Bt  2013-01-27 21:42:38       5          724   \n",
       "1    51549  iJTBIGHPjgJcT4Bt  2013-01-27 21:38:53       5          724   \n",
       "2    51549  iJTBIGHPjgJcT4Bt  2013-01-27 21:35:08       5          724   \n",
       "3    51549  iJTBIGHPjgJcT4Bt  2013-01-27 21:31:23       5          724   \n",
       "4    51549  iJTBIGHPjgJcT4Bt  2013-01-27 21:27:38       5          724   \n",
       "\n",
       "   track_id_int  \n",
       "0         21689  \n",
       "1         21689  \n",
       "2         21689  \n",
       "3         21689  \n",
       "4         21689  "
      ],
      "text/html": [
       "<div>\n",
       "<style scoped>\n",
       "    .dataframe tbody tr th:only-of-type {\n",
       "        vertical-align: middle;\n",
       "    }\n",
       "\n",
       "    .dataframe tbody tr th {\n",
       "        vertical-align: top;\n",
       "    }\n",
       "\n",
       "    .dataframe thead th {\n",
       "        text-align: right;\n",
       "    }\n",
       "</style>\n",
       "<table border=\"1\" class=\"dataframe\">\n",
       "  <thead>\n",
       "    <tr style=\"text-align: right;\">\n",
       "      <th></th>\n",
       "      <th>user_id</th>\n",
       "      <th>track_id</th>\n",
       "      <th>timestamp</th>\n",
       "      <th>rating</th>\n",
       "      <th>user_id_int</th>\n",
       "      <th>track_id_int</th>\n",
       "    </tr>\n",
       "  </thead>\n",
       "  <tbody>\n",
       "    <tr>\n",
       "      <th>0</th>\n",
       "      <td>51549</td>\n",
       "      <td>iJTBIGHPjgJcT4Bt</td>\n",
       "      <td>2013-01-27 21:42:38</td>\n",
       "      <td>5</td>\n",
       "      <td>724</td>\n",
       "      <td>21689</td>\n",
       "    </tr>\n",
       "    <tr>\n",
       "      <th>1</th>\n",
       "      <td>51549</td>\n",
       "      <td>iJTBIGHPjgJcT4Bt</td>\n",
       "      <td>2013-01-27 21:38:53</td>\n",
       "      <td>5</td>\n",
       "      <td>724</td>\n",
       "      <td>21689</td>\n",
       "    </tr>\n",
       "    <tr>\n",
       "      <th>2</th>\n",
       "      <td>51549</td>\n",
       "      <td>iJTBIGHPjgJcT4Bt</td>\n",
       "      <td>2013-01-27 21:35:08</td>\n",
       "      <td>5</td>\n",
       "      <td>724</td>\n",
       "      <td>21689</td>\n",
       "    </tr>\n",
       "    <tr>\n",
       "      <th>3</th>\n",
       "      <td>51549</td>\n",
       "      <td>iJTBIGHPjgJcT4Bt</td>\n",
       "      <td>2013-01-27 21:31:23</td>\n",
       "      <td>5</td>\n",
       "      <td>724</td>\n",
       "      <td>21689</td>\n",
       "    </tr>\n",
       "    <tr>\n",
       "      <th>4</th>\n",
       "      <td>51549</td>\n",
       "      <td>iJTBIGHPjgJcT4Bt</td>\n",
       "      <td>2013-01-27 21:27:38</td>\n",
       "      <td>5</td>\n",
       "      <td>724</td>\n",
       "      <td>21689</td>\n",
       "    </tr>\n",
       "  </tbody>\n",
       "</table>\n",
       "</div>"
      ]
     },
     "execution_count": 47,
     "metadata": {},
     "output_type": "execute_result"
    }
   ],
   "execution_count": 47
  },
  {
   "cell_type": "code",
   "id": "3946ad20",
   "metadata": {
    "ExecuteTime": {
     "end_time": "2024-12-17T13:37:08.318039Z",
     "start_time": "2024-12-17T13:37:08.217551Z"
    }
   },
   "source": [
    "# track ids from feature file\n",
    "df = pd.read_csv(input_data_dir + features['emotion_embeddings'][1], sep='\\t')\n",
    "feat_track_ids = df['id'].values\n",
    "feat_track_ids"
   ],
   "outputs": [
    {
     "data": {
      "text/plain": [
       "array(['04q3VppIQEET5rzy', '07xF9Q0K1t3ist7K', '0JbYcELIqpMPvAHk', ...,\n",
       "       'zzyyPUs7hC9Nz2e1', 'zzz0n04uuTUA7fNh', 'zzzj3LYaZtYtbzSr'],\n",
       "      dtype=object)"
      ]
     },
     "execution_count": 48,
     "metadata": {},
     "output_type": "execute_result"
    }
   ],
   "execution_count": 48
  },
  {
   "cell_type": "code",
   "id": "5fe9171e",
   "metadata": {
    "ExecuteTime": {
     "end_time": "2024-12-17T13:37:08.453351Z",
     "start_time": "2024-12-17T13:37:08.363693Z"
    }
   },
   "source": [
    "# remove interactions with items not in the feature files\n",
    "df_interactions = df_interactions[df_interactions['track_id'].isin(feat_track_ids)]\n",
    "df_interactions.shape"
   ],
   "outputs": [
    {
     "data": {
      "text/plain": [
       "(999985, 6)"
      ]
     },
     "execution_count": 49,
     "metadata": {},
     "output_type": "execute_result"
    }
   ],
   "execution_count": 49
  },
  {
   "cell_type": "code",
   "id": "8f742412",
   "metadata": {
    "ExecuteTime": {
     "end_time": "2024-12-17T13:37:09.254602Z",
     "start_time": "2024-12-17T13:37:08.467199Z"
    }
   },
   "source": [
    "#df_interactions[['user_id', 'track_id', 'rating', 'timestamp']].to_csv(os.path.join(output_dir, 'interactions.tsv'), index=False, sep='\\t', header=False)\n",
    "df_interactions[['user_id_int', 'track_id_int', 'rating', 'timestamp']].to_csv(os.path.join(output_dir, 'interactions.tsv'), index=False, sep='\\t', header=False)"
   ],
   "outputs": [],
   "execution_count": 50
  },
  {
   "cell_type": "code",
   "id": "4b0f23e8",
   "metadata": {
    "ExecuteTime": {
     "end_time": "2024-12-17T13:37:09.331922Z",
     "start_time": "2024-12-17T13:37:09.265559Z"
    }
   },
   "source": [
    "item_id_map = df_interactions[['track_id', 'track_id_int']].drop_duplicates()\n",
    "item_id_map.set_index('track_id', inplace=True)\n",
    "item_id_map.head()"
   ],
   "outputs": [
    {
     "data": {
      "text/plain": [
       "                  track_id_int\n",
       "track_id                      \n",
       "iJTBIGHPjgJcT4Bt         21689\n",
       "LCItxaUrpHk6QYuy         10397\n",
       "VXVSlV3nA5jgYOW1         15482\n",
       "DQ9EMmQndbcKKbBo          6670\n",
       "d6hSPGsvbBx2mcPR         19113"
      ],
      "text/html": [
       "<div>\n",
       "<style scoped>\n",
       "    .dataframe tbody tr th:only-of-type {\n",
       "        vertical-align: middle;\n",
       "    }\n",
       "\n",
       "    .dataframe tbody tr th {\n",
       "        vertical-align: top;\n",
       "    }\n",
       "\n",
       "    .dataframe thead th {\n",
       "        text-align: right;\n",
       "    }\n",
       "</style>\n",
       "<table border=\"1\" class=\"dataframe\">\n",
       "  <thead>\n",
       "    <tr style=\"text-align: right;\">\n",
       "      <th></th>\n",
       "      <th>track_id_int</th>\n",
       "    </tr>\n",
       "    <tr>\n",
       "      <th>track_id</th>\n",
       "      <th></th>\n",
       "    </tr>\n",
       "  </thead>\n",
       "  <tbody>\n",
       "    <tr>\n",
       "      <th>iJTBIGHPjgJcT4Bt</th>\n",
       "      <td>21689</td>\n",
       "    </tr>\n",
       "    <tr>\n",
       "      <th>LCItxaUrpHk6QYuy</th>\n",
       "      <td>10397</td>\n",
       "    </tr>\n",
       "    <tr>\n",
       "      <th>VXVSlV3nA5jgYOW1</th>\n",
       "      <td>15482</td>\n",
       "    </tr>\n",
       "    <tr>\n",
       "      <th>DQ9EMmQndbcKKbBo</th>\n",
       "      <td>6670</td>\n",
       "    </tr>\n",
       "    <tr>\n",
       "      <th>d6hSPGsvbBx2mcPR</th>\n",
       "      <td>19113</td>\n",
       "    </tr>\n",
       "  </tbody>\n",
       "</table>\n",
       "</div>"
      ]
     },
     "execution_count": 51,
     "metadata": {},
     "output_type": "execute_result"
    }
   ],
   "execution_count": 51
  },
  {
   "cell_type": "code",
   "id": "deed3b45",
   "metadata": {
    "ExecuteTime": {
     "end_time": "2024-12-17T13:37:09.372325Z",
     "start_time": "2024-12-17T13:37:09.361773Z"
    }
   },
   "source": [
    "del df_interactions"
   ],
   "outputs": [],
   "execution_count": 52
  },
  {
   "cell_type": "code",
   "id": "2bbaadc2caf66b29",
   "metadata": {
    "ExecuteTime": {
     "end_time": "2024-12-17T13:37:13.179415Z",
     "start_time": "2024-12-17T13:37:09.392545Z"
    }
   },
   "source": [
    "for feature_type in features:\n",
    "\n",
    "    for file in features[feature_type]:\n",
    "        if dataset == 'onion' and 'emma' in file:\n",
    "            continue\n",
    "\n",
    "        print('Processing', file)\n",
    "        df = pd.read_csv(os.path.join(input_data_dir, file), index_col=0, sep='\\t')\n",
    "        df = df.merge(item_id_map, left_index=True, right_index=True)\n",
    "        feature_name = file.split('.')[0].split('_')[1]\n",
    "            \n",
    "        folder_path = os.path.join(output_dir, feature_type, feature_name)\n",
    "\n",
    "        if os.path.exists(folder_path):\n",
    "            shutil.rmtree(folder_path)\n",
    "        os.makedirs(folder_path, exist_ok=True)\n",
    "\n",
    "        for index, row in tqdm.tqdm(df.iterrows()):\n",
    "            np.save(os.path.join(folder_path, str(int(row['track_id_int'])) + '.npy'), row.values[:-1])"
   ],
   "outputs": [
    {
     "name": "stdout",
     "output_type": "stream",
     "text": [
      "Processing id_gems.tsv\n"
     ]
    },
    {
     "name": "stderr",
     "output_type": "stream",
     "text": [
      "30518it [00:03, 8305.21it/s]\n"
     ]
    }
   ],
   "execution_count": 53
  }
 ],
 "metadata": {
  "kernelspec": {
   "display_name": "elliot",
   "language": "python",
   "name": "python3"
  },
  "language_info": {
   "codemirror_mode": {
    "name": "ipython",
    "version": 3
   },
   "file_extension": ".py",
   "mimetype": "text/x-python",
   "name": "python",
   "nbconvert_exporter": "python",
   "pygments_lexer": "ipython3",
   "version": "3.8.20"
  }
 },
 "nbformat": 4,
 "nbformat_minor": 5
}
