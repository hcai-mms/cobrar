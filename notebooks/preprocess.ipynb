{
 "cells": [
  {
   "cell_type": "code",
   "id": "initial_id",
   "metadata": {
    "collapsed": true,
    "ExecuteTime": {
     "end_time": "2024-11-28T09:56:50.874502Z",
     "start_time": "2024-11-28T09:56:50.870098Z"
    }
   },
   "source": [
    "import pandas as pd\n",
    "import numpy as np\n",
    "import os\n",
    "import tqdm\n",
    "import shutil"
   ],
   "outputs": [],
   "execution_count": 13
  },
  {
   "cell_type": "code",
   "id": "54f686a4400205fa",
   "metadata": {
    "ExecuteTime": {
     "end_time": "2024-11-28T09:56:50.924864Z",
     "start_time": "2024-11-28T09:56:50.919270Z"
    }
   },
   "source": [
    "sample = True\n",
    "sample_size = 1e5\n",
    "\n",
    "dataset = 'emma' # m4a or emma\n",
    "input_data_dir = f'../data/'\n",
    "\n",
    "features = {\n",
    "    'emotion_embeddings': ['id_gems.tsv'],\n",
    "    'audio_embeddings': ['id_maest.tsv'],\n",
    "    #'textual_embeddings': ['id_bert.tsv'],\n",
    "    #'visual_embeddings': ['id_resnet.tsv']\n",
    "}\n",
    "\n",
    "if sample:\n",
    "    output_dir = f'../dataset/{dataset}_sample/'\n",
    "else:\n",
    "    output_dir = f'../dataset/{dataset}/'\n",
    "\n",
    "os.makedirs(output_dir, exist_ok=True)"
   ],
   "outputs": [],
   "execution_count": 14
  },
  {
   "cell_type": "code",
   "id": "c05b0583cae33217",
   "metadata": {
    "ExecuteTime": {
     "end_time": "2024-11-28T09:56:51.113050Z",
     "start_time": "2024-11-28T09:56:50.972087Z"
    }
   },
   "source": [
    "if sample:\n",
    "    df_interactions = pd.read_csv(f'../data/userid_trackid_timestamp_{dataset}.tsv', sep='\\t', nrows=sample_size)\n",
    "else:\n",
    "    df_interactions = pd.read_csv(f'../data/userid_trackid_timestamp_{dataset}.tsv', sep='\\t')\n",
    "    \n",
    "df_interactions['rating'] = 5\n",
    "sample_items = df_interactions['track_id'].unique()\n",
    "\n",
    "# map item and users to numbers\n",
    "df_interactions['user_id_int'] = df_interactions['user_id'].astype('category').cat.codes\n",
    "df_interactions['track_id_int'] = df_interactions['track_id'].astype('category').cat.codes\n",
    "\n",
    "#df_interactions[['user_id', 'track_id', 'rating', 'timestamp']].to_csv(os.path.join(output_dir, 'interactions.tsv'), index=False, sep='\\t', header=False)\n",
    "df_interactions[['user_id_int', 'track_id_int', 'rating', 'timestamp']].to_csv(os.path.join(output_dir, 'interactions.tsv'), index=False, sep='\\t', header=False)\n",
    "\n",
    "\n",
    "print(df_interactions.shape)\n",
    "df_interactions.head()"
   ],
   "outputs": [
    {
     "name": "stdout",
     "output_type": "stream",
     "text": [
      "(100000, 6)\n"
     ]
    },
    {
     "data": {
      "text/plain": [
       "   user_id          track_id            timestamp  rating  user_id_int  \\\n",
       "0    52740  rFJl0J6qKPImZWOQ  2013-03-03 19:41:52       5         2875   \n",
       "1    52740  rFJl0J6qKPImZWOQ  2013-02-03 15:55:45       5         2875   \n",
       "2    52740  rFJl0J6qKPImZWOQ  2013-02-01 21:45:34       5         2875   \n",
       "3    52740  rFJl0J6qKPImZWOQ  2013-01-31 21:59:41       5         2875   \n",
       "4    52740  rFJl0J6qKPImZWOQ  2013-01-31 19:15:30       5         2875   \n",
       "\n",
       "   track_id_int  \n",
       "0           192  \n",
       "1           192  \n",
       "2           192  \n",
       "3           192  \n",
       "4           192  "
      ],
      "text/html": [
       "<div>\n",
       "<style scoped>\n",
       "    .dataframe tbody tr th:only-of-type {\n",
       "        vertical-align: middle;\n",
       "    }\n",
       "\n",
       "    .dataframe tbody tr th {\n",
       "        vertical-align: top;\n",
       "    }\n",
       "\n",
       "    .dataframe thead th {\n",
       "        text-align: right;\n",
       "    }\n",
       "</style>\n",
       "<table border=\"1\" class=\"dataframe\">\n",
       "  <thead>\n",
       "    <tr style=\"text-align: right;\">\n",
       "      <th></th>\n",
       "      <th>user_id</th>\n",
       "      <th>track_id</th>\n",
       "      <th>timestamp</th>\n",
       "      <th>rating</th>\n",
       "      <th>user_id_int</th>\n",
       "      <th>track_id_int</th>\n",
       "    </tr>\n",
       "  </thead>\n",
       "  <tbody>\n",
       "    <tr>\n",
       "      <th>0</th>\n",
       "      <td>52740</td>\n",
       "      <td>rFJl0J6qKPImZWOQ</td>\n",
       "      <td>2013-03-03 19:41:52</td>\n",
       "      <td>5</td>\n",
       "      <td>2875</td>\n",
       "      <td>192</td>\n",
       "    </tr>\n",
       "    <tr>\n",
       "      <th>1</th>\n",
       "      <td>52740</td>\n",
       "      <td>rFJl0J6qKPImZWOQ</td>\n",
       "      <td>2013-02-03 15:55:45</td>\n",
       "      <td>5</td>\n",
       "      <td>2875</td>\n",
       "      <td>192</td>\n",
       "    </tr>\n",
       "    <tr>\n",
       "      <th>2</th>\n",
       "      <td>52740</td>\n",
       "      <td>rFJl0J6qKPImZWOQ</td>\n",
       "      <td>2013-02-01 21:45:34</td>\n",
       "      <td>5</td>\n",
       "      <td>2875</td>\n",
       "      <td>192</td>\n",
       "    </tr>\n",
       "    <tr>\n",
       "      <th>3</th>\n",
       "      <td>52740</td>\n",
       "      <td>rFJl0J6qKPImZWOQ</td>\n",
       "      <td>2013-01-31 21:59:41</td>\n",
       "      <td>5</td>\n",
       "      <td>2875</td>\n",
       "      <td>192</td>\n",
       "    </tr>\n",
       "    <tr>\n",
       "      <th>4</th>\n",
       "      <td>52740</td>\n",
       "      <td>rFJl0J6qKPImZWOQ</td>\n",
       "      <td>2013-01-31 19:15:30</td>\n",
       "      <td>5</td>\n",
       "      <td>2875</td>\n",
       "      <td>192</td>\n",
       "    </tr>\n",
       "  </tbody>\n",
       "</table>\n",
       "</div>"
      ]
     },
     "execution_count": 15,
     "metadata": {},
     "output_type": "execute_result"
    }
   ],
   "execution_count": 15
  },
  {
   "cell_type": "code",
   "id": "4b0f23e8",
   "metadata": {
    "ExecuteTime": {
     "end_time": "2024-11-28T09:56:51.178119Z",
     "start_time": "2024-11-28T09:56:51.165114Z"
    }
   },
   "source": [
    "item_id_map = df_interactions[['track_id', 'track_id_int']].drop_duplicates()\n",
    "item_id_map.set_index('track_id', inplace=True)\n",
    "item_id_map.head()"
   ],
   "outputs": [
    {
     "data": {
      "text/plain": [
       "                  track_id_int\n",
       "track_id                      \n",
       "rFJl0J6qKPImZWOQ           192\n",
       "kduALxkKk2rXxDnp           167\n",
       "aelKmXCNJPMQjJh8           133\n",
       "OUb23fwEUhwC3Uec            87\n",
       "9CHzAeSHv9tWaIXW            29"
      ],
      "text/html": [
       "<div>\n",
       "<style scoped>\n",
       "    .dataframe tbody tr th:only-of-type {\n",
       "        vertical-align: middle;\n",
       "    }\n",
       "\n",
       "    .dataframe tbody tr th {\n",
       "        vertical-align: top;\n",
       "    }\n",
       "\n",
       "    .dataframe thead th {\n",
       "        text-align: right;\n",
       "    }\n",
       "</style>\n",
       "<table border=\"1\" class=\"dataframe\">\n",
       "  <thead>\n",
       "    <tr style=\"text-align: right;\">\n",
       "      <th></th>\n",
       "      <th>track_id_int</th>\n",
       "    </tr>\n",
       "    <tr>\n",
       "      <th>track_id</th>\n",
       "      <th></th>\n",
       "    </tr>\n",
       "  </thead>\n",
       "  <tbody>\n",
       "    <tr>\n",
       "      <th>rFJl0J6qKPImZWOQ</th>\n",
       "      <td>192</td>\n",
       "    </tr>\n",
       "    <tr>\n",
       "      <th>kduALxkKk2rXxDnp</th>\n",
       "      <td>167</td>\n",
       "    </tr>\n",
       "    <tr>\n",
       "      <th>aelKmXCNJPMQjJh8</th>\n",
       "      <td>133</td>\n",
       "    </tr>\n",
       "    <tr>\n",
       "      <th>OUb23fwEUhwC3Uec</th>\n",
       "      <td>87</td>\n",
       "    </tr>\n",
       "    <tr>\n",
       "      <th>9CHzAeSHv9tWaIXW</th>\n",
       "      <td>29</td>\n",
       "    </tr>\n",
       "  </tbody>\n",
       "</table>\n",
       "</div>"
      ]
     },
     "execution_count": 16,
     "metadata": {},
     "output_type": "execute_result"
    }
   ],
   "execution_count": 16
  },
  {
   "cell_type": "code",
   "id": "deed3b45",
   "metadata": {
    "ExecuteTime": {
     "end_time": "2024-11-28T09:56:51.243875Z",
     "start_time": "2024-11-28T09:56:51.241717Z"
    }
   },
   "source": [
    "del df_interactions"
   ],
   "outputs": [],
   "execution_count": 17
  },
  {
   "cell_type": "code",
   "id": "2bbaadc2caf66b29",
   "metadata": {
    "ExecuteTime": {
     "end_time": "2024-11-28T09:56:57.614226Z",
     "start_time": "2024-11-28T09:56:51.275465Z"
    }
   },
   "source": [
    "for feature_type in features:\n",
    "    for file in features[feature_type]:\n",
    "        print('Processing', file)\n",
    "        df = pd.read_csv(os.path.join(input_data_dir, file), index_col=0, sep='\\t')\n",
    "        df = df.merge(item_id_map, left_index=True, right_index=True)\n",
    "        feature_name = file.split('.')[0].split('_')[1]\n",
    "        if sample:\n",
    "            df = df.reindex(sample_items).dropna()\n",
    "            \n",
    "        folder_path = os.path.join(output_dir, feature_type, feature_name)\n",
    "\n",
    "        if os.path.exists(folder_path):\n",
    "            shutil.rmtree(folder_path)\n",
    "        os.makedirs(folder_path, exist_ok=True)\n",
    "\n",
    "        for index, row in tqdm.tqdm(df.iterrows()):\n",
    "            #np.save(os.path.join(folder_path, str(index) + '.npy'), row.values)\n",
    "            np.save(os.path.join(folder_path, str(int(row['track_id_int'])) + '.npy'), row.values[:-1])"
   ],
   "outputs": [
    {
     "name": "stdout",
     "output_type": "stream",
     "text": [
      "Processing id_gems.tsv\n"
     ]
    },
    {
     "name": "stderr",
     "output_type": "stream",
     "text": [
      "235it [00:00, 10375.17it/s]"
     ]
    },
    {
     "name": "stdout",
     "output_type": "stream",
     "text": [
      "Processing id_maest.tsv\n"
     ]
    },
    {
     "name": "stderr",
     "output_type": "stream",
     "text": [
      "\n",
      "235it [00:00, 13469.92it/s]\n"
     ]
    }
   ],
   "execution_count": 18
  },
  {
   "cell_type": "code",
   "id": "97fa24e21249a04f",
   "metadata": {
    "ExecuteTime": {
     "end_time": "2024-11-28T09:56:57.650927Z",
     "start_time": "2024-11-28T09:56:57.648927Z"
    }
   },
   "source": [],
   "outputs": [],
   "execution_count": null
  }
 ],
 "metadata": {
  "kernelspec": {
   "display_name": "elliot",
   "language": "python",
   "name": "python3"
  },
  "language_info": {
   "codemirror_mode": {
    "name": "ipython",
    "version": 3
   },
   "file_extension": ".py",
   "mimetype": "text/x-python",
   "name": "python",
   "nbconvert_exporter": "python",
   "pygments_lexer": "ipython3",
   "version": "3.8.20"
  }
 },
 "nbformat": 4,
 "nbformat_minor": 5
}
