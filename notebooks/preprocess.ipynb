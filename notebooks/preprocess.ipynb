{
 "cells": [
  {
   "cell_type": "code",
   "execution_count": 10,
   "id": "initial_id",
   "metadata": {
    "ExecuteTime": {
     "end_time": "2024-12-17T13:37:07.517812Z",
     "start_time": "2024-12-17T13:37:07.514213Z"
    },
    "collapsed": true
   },
   "outputs": [],
   "source": [
    "import pandas as pd\n",
    "import numpy as np\n",
    "import os\n",
    "import tqdm\n",
    "import shutil"
   ]
  },
  {
   "cell_type": "code",
   "execution_count": 11,
   "id": "54f686a4400205fa",
   "metadata": {
    "ExecuteTime": {
     "end_time": "2024-12-17T13:37:07.566724Z",
     "start_time": "2024-12-17T13:37:07.562387Z"
    }
   },
   "outputs": [],
   "source": [
    "dataset = 'emma' # onion or emma\n",
    "input_data_dir = f'../data/'\n",
    "\n",
    "features = {\n",
    "    'emotion_embeddings': ['id_emma.tsv', 'id_gems.tsv'],\n",
    "    'audio_embeddings': ['id_maest.tsv'],\n",
    "    'textual_embeddings': ['id_bert.tsv'],\n",
    "    'visual_embeddings': ['id_resnet.tsv']\n",
    "}\n",
    "\n",
    "output_dir = f'../dataset/{dataset}/'\n",
    "\n",
    "os.makedirs(output_dir, exist_ok=True)"
   ]
  },
  {
   "cell_type": "code",
   "execution_count": 12,
   "id": "c05b0583cae33217",
   "metadata": {
    "ExecuteTime": {
     "end_time": "2024-12-17T13:37:08.187709Z",
     "start_time": "2024-12-17T13:37:07.614431Z"
    }
   },
   "outputs": [
    {
     "name": "stdout",
     "output_type": "stream",
     "text": [
      "(7916, 7)\n"
     ]
    },
    {
     "data": {
      "text/html": [
       "<div>\n",
       "<style scoped>\n",
       "    .dataframe tbody tr th:only-of-type {\n",
       "        vertical-align: middle;\n",
       "    }\n",
       "\n",
       "    .dataframe tbody tr th {\n",
       "        vertical-align: top;\n",
       "    }\n",
       "\n",
       "    .dataframe thead th {\n",
       "        text-align: right;\n",
       "    }\n",
       "</style>\n",
       "<table border=\"1\" class=\"dataframe\">\n",
       "  <thead>\n",
       "    <tr style=\"text-align: right;\">\n",
       "      <th></th>\n",
       "      <th>user_id</th>\n",
       "      <th>track_id</th>\n",
       "      <th>timestamp</th>\n",
       "      <th>period</th>\n",
       "      <th>rating</th>\n",
       "      <th>user_id_int</th>\n",
       "      <th>track_id_int</th>\n",
       "    </tr>\n",
       "  </thead>\n",
       "  <tbody>\n",
       "    <tr>\n",
       "      <th>0</th>\n",
       "      <td>34658</td>\n",
       "      <td>Q08DjqYYbc3AvWQx</td>\n",
       "      <td>2014-05-24 23:52:44</td>\n",
       "      <td>2014-05</td>\n",
       "      <td>5</td>\n",
       "      <td>2424</td>\n",
       "      <td>86</td>\n",
       "    </tr>\n",
       "    <tr>\n",
       "      <th>1</th>\n",
       "      <td>40004</td>\n",
       "      <td>SGY1zM5vXy6T4rdB</td>\n",
       "      <td>2014-05-30 15:34:13</td>\n",
       "      <td>2014-05</td>\n",
       "      <td>5</td>\n",
       "      <td>2699</td>\n",
       "      <td>94</td>\n",
       "    </tr>\n",
       "    <tr>\n",
       "      <th>2</th>\n",
       "      <td>7377</td>\n",
       "      <td>rZ8By2I0wKNm1r0t</td>\n",
       "      <td>2014-05-21 13:23:07</td>\n",
       "      <td>2014-05</td>\n",
       "      <td>5</td>\n",
       "      <td>638</td>\n",
       "      <td>169</td>\n",
       "    </tr>\n",
       "    <tr>\n",
       "      <th>3</th>\n",
       "      <td>5792</td>\n",
       "      <td>SGY1zM5vXy6T4rdB</td>\n",
       "      <td>2014-05-30 11:27:00</td>\n",
       "      <td>2014-05</td>\n",
       "      <td>5</td>\n",
       "      <td>513</td>\n",
       "      <td>94</td>\n",
       "    </tr>\n",
       "    <tr>\n",
       "      <th>4</th>\n",
       "      <td>61756</td>\n",
       "      <td>cwXiTYqrj7AOGn7x</td>\n",
       "      <td>2014-05-28 23:41:59</td>\n",
       "      <td>2014-05</td>\n",
       "      <td>5</td>\n",
       "      <td>3772</td>\n",
       "      <td>127</td>\n",
       "    </tr>\n",
       "  </tbody>\n",
       "</table>\n",
       "</div>"
      ],
      "text/plain": [
       "   user_id          track_id            timestamp   period  rating  \\\n",
       "0    34658  Q08DjqYYbc3AvWQx  2014-05-24 23:52:44  2014-05       5   \n",
       "1    40004  SGY1zM5vXy6T4rdB  2014-05-30 15:34:13  2014-05       5   \n",
       "2     7377  rZ8By2I0wKNm1r0t  2014-05-21 13:23:07  2014-05       5   \n",
       "3     5792  SGY1zM5vXy6T4rdB  2014-05-30 11:27:00  2014-05       5   \n",
       "4    61756  cwXiTYqrj7AOGn7x  2014-05-28 23:41:59  2014-05       5   \n",
       "\n",
       "   user_id_int  track_id_int  \n",
       "0         2424            86  \n",
       "1         2699            94  \n",
       "2          638           169  \n",
       "3          513            94  \n",
       "4         3772           127  "
      ]
     },
     "execution_count": 12,
     "metadata": {},
     "output_type": "execute_result"
    }
   ],
   "source": [
    "df_interactions = pd.read_csv(f'../data/userid_trackid_timestamp_{dataset}.tsv', sep='\\t')\n",
    "    \n",
    "df_interactions['rating'] = 5\n",
    "sample_items = df_interactions['track_id'].unique()\n",
    "\n",
    "# map item and users to numbers\n",
    "df_interactions['user_id_int'] = df_interactions['user_id'].astype('category').cat.codes\n",
    "df_interactions['track_id_int'] = df_interactions['track_id'].astype('category').cat.codes\n",
    "\n",
    "\n",
    "print(df_interactions.shape)\n",
    "df_interactions.head()"
   ]
  },
  {
   "cell_type": "code",
   "execution_count": 13,
   "id": "3946ad20",
   "metadata": {
    "ExecuteTime": {
     "end_time": "2024-12-17T13:37:08.318039Z",
     "start_time": "2024-12-17T13:37:08.217551Z"
    }
   },
   "outputs": [
    {
     "data": {
      "text/plain": [
       "array(['04q3VppIQEET5rzy', '07xF9Q0K1t3ist7K', '0JbYcELIqpMPvAHk', ...,\n",
       "       'zzyyPUs7hC9Nz2e1', 'zzz0n04uuTUA7fNh', 'zzzj3LYaZtYtbzSr'],\n",
       "      dtype=object)"
      ]
     },
     "execution_count": 13,
     "metadata": {},
     "output_type": "execute_result"
    }
   ],
   "source": [
    "# track ids from feature file\n",
    "df = pd.read_csv(input_data_dir + features['emotion_embeddings'][1], sep='\\t')\n",
    "feat_track_ids = df['id'].values\n",
    "feat_track_ids"
   ]
  },
  {
   "cell_type": "code",
   "execution_count": 14,
   "id": "5fe9171e",
   "metadata": {
    "ExecuteTime": {
     "end_time": "2024-12-17T13:37:08.453351Z",
     "start_time": "2024-12-17T13:37:08.363693Z"
    }
   },
   "outputs": [
    {
     "data": {
      "text/plain": [
       "(7916, 7)"
      ]
     },
     "execution_count": 14,
     "metadata": {},
     "output_type": "execute_result"
    }
   ],
   "source": [
    "# remove interactions with items not in the feature files\n",
    "df_interactions = df_interactions[df_interactions['track_id'].isin(feat_track_ids)]\n",
    "df_interactions.shape"
   ]
  },
  {
   "cell_type": "code",
   "execution_count": 15,
   "id": "8f742412",
   "metadata": {
    "ExecuteTime": {
     "end_time": "2024-12-17T13:37:09.254602Z",
     "start_time": "2024-12-17T13:37:08.467199Z"
    }
   },
   "outputs": [],
   "source": [
    "#df_interactions[['user_id', 'track_id', 'rating', 'timestamp']].to_csv(os.path.join(output_dir, 'interactions.tsv'), index=False, sep='\\t', header=False)\n",
    "df_interactions[['user_id_int', 'track_id_int', 'rating', 'timestamp']].to_csv(os.path.join(output_dir, 'interactions.tsv'), index=False, sep='\\t', header=False)"
   ]
  },
  {
   "cell_type": "code",
   "execution_count": 16,
   "id": "4b0f23e8",
   "metadata": {
    "ExecuteTime": {
     "end_time": "2024-12-17T13:37:09.331922Z",
     "start_time": "2024-12-17T13:37:09.265559Z"
    }
   },
   "outputs": [
    {
     "data": {
      "text/html": [
       "<div>\n",
       "<style scoped>\n",
       "    .dataframe tbody tr th:only-of-type {\n",
       "        vertical-align: middle;\n",
       "    }\n",
       "\n",
       "    .dataframe tbody tr th {\n",
       "        vertical-align: top;\n",
       "    }\n",
       "\n",
       "    .dataframe thead th {\n",
       "        text-align: right;\n",
       "    }\n",
       "</style>\n",
       "<table border=\"1\" class=\"dataframe\">\n",
       "  <thead>\n",
       "    <tr style=\"text-align: right;\">\n",
       "      <th></th>\n",
       "      <th>track_id_int</th>\n",
       "    </tr>\n",
       "    <tr>\n",
       "      <th>track_id</th>\n",
       "      <th></th>\n",
       "    </tr>\n",
       "  </thead>\n",
       "  <tbody>\n",
       "    <tr>\n",
       "      <th>Q08DjqYYbc3AvWQx</th>\n",
       "      <td>86</td>\n",
       "    </tr>\n",
       "    <tr>\n",
       "      <th>SGY1zM5vXy6T4rdB</th>\n",
       "      <td>94</td>\n",
       "    </tr>\n",
       "    <tr>\n",
       "      <th>rZ8By2I0wKNm1r0t</th>\n",
       "      <td>169</td>\n",
       "    </tr>\n",
       "    <tr>\n",
       "      <th>cwXiTYqrj7AOGn7x</th>\n",
       "      <td>127</td>\n",
       "    </tr>\n",
       "    <tr>\n",
       "      <th>td6odZZtNFj6Toou</th>\n",
       "      <td>180</td>\n",
       "    </tr>\n",
       "  </tbody>\n",
       "</table>\n",
       "</div>"
      ],
      "text/plain": [
       "                  track_id_int\n",
       "track_id                      \n",
       "Q08DjqYYbc3AvWQx            86\n",
       "SGY1zM5vXy6T4rdB            94\n",
       "rZ8By2I0wKNm1r0t           169\n",
       "cwXiTYqrj7AOGn7x           127\n",
       "td6odZZtNFj6Toou           180"
      ]
     },
     "execution_count": 16,
     "metadata": {},
     "output_type": "execute_result"
    }
   ],
   "source": [
    "item_id_map = df_interactions[['track_id', 'track_id_int']].drop_duplicates()\n",
    "item_id_map.set_index('track_id', inplace=True)\n",
    "item_id_map.head()"
   ]
  },
  {
   "cell_type": "code",
   "execution_count": 17,
   "id": "deed3b45",
   "metadata": {
    "ExecuteTime": {
     "end_time": "2024-12-17T13:37:09.372325Z",
     "start_time": "2024-12-17T13:37:09.361773Z"
    }
   },
   "outputs": [],
   "source": [
    "del df_interactions"
   ]
  },
  {
   "cell_type": "code",
   "execution_count": 18,
   "id": "2bbaadc2caf66b29",
   "metadata": {
    "ExecuteTime": {
     "end_time": "2024-12-17T13:37:13.179415Z",
     "start_time": "2024-12-17T13:37:09.392545Z"
    }
   },
   "outputs": [
    {
     "name": "stdout",
     "output_type": "stream",
     "text": [
      "Processing id_emma.tsv\n"
     ]
    },
    {
     "name": "stderr",
     "output_type": "stream",
     "text": [
      "204it [00:00, 349.51it/s]\n"
     ]
    },
    {
     "name": "stdout",
     "output_type": "stream",
     "text": [
      "Processing id_gems.tsv\n"
     ]
    },
    {
     "name": "stderr",
     "output_type": "stream",
     "text": [
      "204it [00:00, 346.01it/s]\n"
     ]
    },
    {
     "name": "stdout",
     "output_type": "stream",
     "text": [
      "Processing id_maest.tsv\n"
     ]
    },
    {
     "name": "stderr",
     "output_type": "stream",
     "text": [
      "204it [00:00, 342.21it/s]\n"
     ]
    },
    {
     "name": "stdout",
     "output_type": "stream",
     "text": [
      "Processing id_bert.tsv\n"
     ]
    },
    {
     "name": "stderr",
     "output_type": "stream",
     "text": [
      "204it [00:00, 329.08it/s]\n"
     ]
    },
    {
     "name": "stdout",
     "output_type": "stream",
     "text": [
      "Processing id_resnet.tsv\n"
     ]
    },
    {
     "name": "stderr",
     "output_type": "stream",
     "text": [
      "204it [00:00, 227.73it/s]\n"
     ]
    }
   ],
   "source": [
    "for feature_type in features:\n",
    "\n",
    "    for file in features[feature_type]:\n",
    "        if dataset == 'onion' and 'emma' in file:\n",
    "            continue\n",
    "\n",
    "        print('Processing', file)\n",
    "        df = pd.read_csv(os.path.join(input_data_dir, file), index_col=0, sep='\\t')\n",
    "        df = df.merge(item_id_map, left_index=True, right_index=True)\n",
    "        feature_name = file.split('.')[0].split('_')[1]\n",
    "            \n",
    "        folder_path = os.path.join(output_dir, feature_type, feature_name)\n",
    "\n",
    "        if os.path.exists(folder_path):\n",
    "            shutil.rmtree(folder_path)\n",
    "        os.makedirs(folder_path, exist_ok=True)\n",
    "\n",
    "        for index, row in tqdm.tqdm(df.iterrows()):\n",
    "            np.save(os.path.join(folder_path, str(int(row['track_id_int'])) + '.npy'), row.values[:-1])"
   ]
  }
 ],
 "metadata": {
  "kernelspec": {
   "display_name": "elliot",
   "language": "python",
   "name": "python3"
  },
  "language_info": {
   "codemirror_mode": {
    "name": "ipython",
    "version": 3
   },
   "file_extension": ".py",
   "mimetype": "text/x-python",
   "name": "python",
   "nbconvert_exporter": "python",
   "pygments_lexer": "ipython3",
   "version": "3.8.20"
  }
 },
 "nbformat": 4,
 "nbformat_minor": 5
}
