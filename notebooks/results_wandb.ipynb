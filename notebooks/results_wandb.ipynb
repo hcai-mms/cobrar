{
 "cells": [
  {
   "cell_type": "code",
   "id": "initial_id",
   "metadata": {
    "collapsed": true,
    "ExecuteTime": {
     "end_time": "2025-03-20T12:54:36.811215Z",
     "start_time": "2025-03-20T12:54:36.808338Z"
    }
   },
   "source": [
    "import pandas as pd\n",
    "import numpy as np\n",
    "import os\n",
    "import wandb"
   ],
   "outputs": [],
   "execution_count": 45
  },
  {
   "metadata": {
    "ExecuteTime": {
     "end_time": "2025-03-20T12:54:36.824197Z",
     "start_time": "2025-03-20T12:54:36.817003Z"
    }
   },
   "cell_type": "code",
   "source": [
    "api = wandb.Api()\n",
    "entity = \"mms-jku\""
   ],
   "id": "d3be2399ee2ba746",
   "outputs": [],
   "execution_count": 46
  },
  {
   "cell_type": "code",
   "id": "54f686a4400205fa",
   "metadata": {
    "ExecuteTime": {
     "end_time": "2025-03-20T12:54:36.866692Z",
     "start_time": "2025-03-20T12:54:36.863917Z"
    }
   },
   "source": [
    "dataset = 'onion' # onion or emma\n",
    "models = ['LightGCN', 'LightGCNM', 'ItemKNN', 'FeatureItemKNN']"
   ],
   "outputs": [],
   "execution_count": 47
  },
  {
   "cell_type": "code",
   "id": "baa30bb4",
   "metadata": {
    "ExecuteTime": {
     "end_time": "2025-03-20T12:57:38.196704Z",
     "start_time": "2025-03-20T12:57:36.817251Z"
    }
   },
   "source": [
    "results = {}\n",
    "\n",
    "for model in models:\n",
    "    model_runs = api.runs( # https://docs.wandb.ai/ref/python/public-api/api/#runs\n",
    "        path=f\"{entity}/{model}-{dataset}\",\n",
    "        order=f\"-summary_metrics.test_ndcg5\",\n",
    "        per_page=1\n",
    "    )\n",
    "    best_run = model_runs[0]\n",
    "    best_run_metrics = best_run.summary_metrics\n",
    "    results[model] = best_run_metrics\n",
    "\n",
    "results = pd.DataFrame.from_dict(results, orient='index')\n",
    "results = results.sort_values(by='test_ndcg5', ascending=False)\n",
    "results = results[['val_ndcg5', 'test_ndcg5', '_runtime', 'epochs', '_timestamp']]\n",
    "results"
   ],
   "outputs": [
    {
     "data": {
      "text/plain": [
       "                val_ndcg5  test_ndcg5      _runtime  epochs    _timestamp\n",
       "FeatureItemKNN   0.170255    0.245891   1239.270664     NaN  1.742218e+09\n",
       "ItemKNN          0.168314    0.245702   1253.027898     NaN  1.741872e+09\n",
       "LightGCN         0.116082    0.161468  15640.465217   136.0  1.741923e+09\n",
       "LightGCNM        0.100900    0.142624  32933.431351   200.0  1.742439e+09"
      ],
      "text/html": [
       "<div>\n",
       "<style scoped>\n",
       "    .dataframe tbody tr th:only-of-type {\n",
       "        vertical-align: middle;\n",
       "    }\n",
       "\n",
       "    .dataframe tbody tr th {\n",
       "        vertical-align: top;\n",
       "    }\n",
       "\n",
       "    .dataframe thead th {\n",
       "        text-align: right;\n",
       "    }\n",
       "</style>\n",
       "<table border=\"1\" class=\"dataframe\">\n",
       "  <thead>\n",
       "    <tr style=\"text-align: right;\">\n",
       "      <th></th>\n",
       "      <th>val_ndcg5</th>\n",
       "      <th>test_ndcg5</th>\n",
       "      <th>_runtime</th>\n",
       "      <th>epochs</th>\n",
       "      <th>_timestamp</th>\n",
       "    </tr>\n",
       "  </thead>\n",
       "  <tbody>\n",
       "    <tr>\n",
       "      <th>FeatureItemKNN</th>\n",
       "      <td>0.170255</td>\n",
       "      <td>0.245891</td>\n",
       "      <td>1239.270664</td>\n",
       "      <td>NaN</td>\n",
       "      <td>1.742218e+09</td>\n",
       "    </tr>\n",
       "    <tr>\n",
       "      <th>ItemKNN</th>\n",
       "      <td>0.168314</td>\n",
       "      <td>0.245702</td>\n",
       "      <td>1253.027898</td>\n",
       "      <td>NaN</td>\n",
       "      <td>1.741872e+09</td>\n",
       "    </tr>\n",
       "    <tr>\n",
       "      <th>LightGCN</th>\n",
       "      <td>0.116082</td>\n",
       "      <td>0.161468</td>\n",
       "      <td>15640.465217</td>\n",
       "      <td>136.0</td>\n",
       "      <td>1.741923e+09</td>\n",
       "    </tr>\n",
       "    <tr>\n",
       "      <th>LightGCNM</th>\n",
       "      <td>0.100900</td>\n",
       "      <td>0.142624</td>\n",
       "      <td>32933.431351</td>\n",
       "      <td>200.0</td>\n",
       "      <td>1.742439e+09</td>\n",
       "    </tr>\n",
       "  </tbody>\n",
       "</table>\n",
       "</div>"
      ]
     },
     "execution_count": 50,
     "metadata": {},
     "output_type": "execute_result"
    }
   ],
   "execution_count": 50
  },
  {
   "metadata": {},
   "cell_type": "code",
   "outputs": [],
   "execution_count": null,
   "source": "",
   "id": "76be751d5631abc0"
  }
 ],
 "metadata": {
  "kernelspec": {
   "display_name": "elliot",
   "language": "python",
   "name": "python3"
  },
  "language_info": {
   "codemirror_mode": {
    "name": "ipython",
    "version": 3
   },
   "file_extension": ".py",
   "mimetype": "text/x-python",
   "name": "python",
   "nbconvert_exporter": "python",
   "pygments_lexer": "ipython3",
   "version": "3.8.20"
  }
 },
 "nbformat": 4,
 "nbformat_minor": 5
}
